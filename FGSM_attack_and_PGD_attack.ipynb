{
  "nbformat": 4,
  "nbformat_minor": 0,
  "metadata": {
    "colab": {
      "name": "FGSM_attack_and_PGD_attack.ipynb",
      "provenance": [],
      "authorship_tag": "ABX9TyNdy80Xx29/GT7t7FMrBe81",
      "include_colab_link": true
    },
    "kernelspec": {
      "name": "python3",
      "display_name": "Python 3"
    },
    "language_info": {
      "name": "python"
    }
  },
  "cells": [
    {
      "cell_type": "markdown",
      "metadata": {
        "id": "view-in-github",
        "colab_type": "text"
      },
      "source": [
        "<a href=\"https://colab.research.google.com/github/kirath2205/Final-Year-Project/blob/main/FGSM_attack_and_PGD_attack.ipynb\" target=\"_parent\"><img src=\"https://colab.research.google.com/assets/colab-badge.svg\" alt=\"Open In Colab\"/></a>"
      ]
    },
    {
      "cell_type": "code",
      "metadata": {
        "colab": {
          "base_uri": "https://localhost:8080/"
        },
        "id": "URPC6O7Wxh10",
        "outputId": "42b7a534-b892-459e-fd83-028f2e955c83"
      },
      "source": [
        "import keras,os\n",
        "import tensorflow as tf\n",
        "from keras.models import Sequential,Model\n",
        "from keras.layers import Input, Add, Dense, Activation, ZeroPadding2D, BatchNormalization, Flatten, Conv2D, AveragePooling2D, MaxPooling2D , Dropout\n",
        "import numpy as np\n",
        "from tensorflow import keras\n",
        "from keras.initializers import glorot_uniform\n",
        "from keras import applications\n",
        "from tensorflow.keras.applications.resnet50 import ResNet50 , preprocess_input\n",
        "from keras import regularizers\n",
        "from absl import app, flags\n",
        "\n",
        "# Install bleeding edge version of cleverhans\n",
        "!pip install git+https://github.com/tensorflow/cleverhans.git#egg=cleverhans\n",
        "from cleverhans.tf2.attacks.projected_gradient_descent import projected_gradient_descent\n",
        "from cleverhans.tf2.attacks.fast_gradient_method import fast_gradient_method"
      ],
      "execution_count": 1,
      "outputs": [
        {
          "output_type": "stream",
          "name": "stdout",
          "text": [
            "Collecting cleverhans\n",
            "  Cloning https://github.com/tensorflow/cleverhans.git to /tmp/pip-install-s3c1clxa/cleverhans_2416fda0692f4224b3b12b34c393c14f\n",
            "  Running command git clone -q https://github.com/tensorflow/cleverhans.git /tmp/pip-install-s3c1clxa/cleverhans_2416fda0692f4224b3b12b34c393c14f\n",
            "Collecting nose\n",
            "  Downloading nose-1.3.7-py3-none-any.whl (154 kB)\n",
            "\u001b[K     |████████████████████████████████| 154 kB 32.2 MB/s \n",
            "\u001b[?25hCollecting pycodestyle\n",
            "  Downloading pycodestyle-2.8.0-py2.py3-none-any.whl (42 kB)\n",
            "\u001b[K     |████████████████████████████████| 42 kB 1.3 MB/s \n",
            "\u001b[?25hRequirement already satisfied: scipy in /usr/local/lib/python3.7/dist-packages (from cleverhans) (1.4.1)\n",
            "Requirement already satisfied: matplotlib in /usr/local/lib/python3.7/dist-packages (from cleverhans) (3.2.2)\n",
            "Collecting mnist\n",
            "  Downloading mnist-0.2.2-py2.py3-none-any.whl (3.5 kB)\n",
            "Requirement already satisfied: numpy in /usr/local/lib/python3.7/dist-packages (from cleverhans) (1.19.5)\n",
            "Requirement already satisfied: tensorflow-probability in /usr/local/lib/python3.7/dist-packages (from cleverhans) (0.14.1)\n",
            "Requirement already satisfied: joblib in /usr/local/lib/python3.7/dist-packages (from cleverhans) (1.0.1)\n",
            "Requirement already satisfied: easydict in /usr/local/lib/python3.7/dist-packages (from cleverhans) (1.9)\n",
            "Requirement already satisfied: absl-py in /usr/local/lib/python3.7/dist-packages (from cleverhans) (0.12.0)\n",
            "Requirement already satisfied: six in /usr/local/lib/python3.7/dist-packages (from cleverhans) (1.15.0)\n",
            "Requirement already satisfied: pyparsing!=2.0.4,!=2.1.2,!=2.1.6,>=2.0.1 in /usr/local/lib/python3.7/dist-packages (from matplotlib->cleverhans) (2.4.7)\n",
            "Requirement already satisfied: cycler>=0.10 in /usr/local/lib/python3.7/dist-packages (from matplotlib->cleverhans) (0.10.0)\n",
            "Requirement already satisfied: kiwisolver>=1.0.1 in /usr/local/lib/python3.7/dist-packages (from matplotlib->cleverhans) (1.3.2)\n",
            "Requirement already satisfied: python-dateutil>=2.1 in /usr/local/lib/python3.7/dist-packages (from matplotlib->cleverhans) (2.8.2)\n",
            "Requirement already satisfied: dm-tree in /usr/local/lib/python3.7/dist-packages (from tensorflow-probability->cleverhans) (0.1.6)\n",
            "Requirement already satisfied: decorator in /usr/local/lib/python3.7/dist-packages (from tensorflow-probability->cleverhans) (4.4.2)\n",
            "Requirement already satisfied: cloudpickle>=1.3 in /usr/local/lib/python3.7/dist-packages (from tensorflow-probability->cleverhans) (1.3.0)\n",
            "Requirement already satisfied: gast>=0.3.2 in /usr/local/lib/python3.7/dist-packages (from tensorflow-probability->cleverhans) (0.4.0)\n",
            "Building wheels for collected packages: cleverhans\n",
            "  Building wheel for cleverhans (setup.py) ... \u001b[?25l\u001b[?25hdone\n",
            "  Created wheel for cleverhans: filename=cleverhans-4.0.0-py3-none-any.whl size=92423 sha256=ed513e38964f735528db7c04d799a85759290689e0b75fea46f285a642e11665\n",
            "  Stored in directory: /tmp/pip-ephem-wheel-cache-4ojjjdfc/wheels/60/54/1e/97e3fe32d62bd252c9fbbee44a0545028c6018b81c054af3e4\n",
            "Successfully built cleverhans\n",
            "Installing collected packages: pycodestyle, nose, mnist, cleverhans\n",
            "Successfully installed cleverhans-4.0.0 mnist-0.2.2 nose-1.3.7 pycodestyle-2.8.0\n"
          ]
        }
      ]
    },
    {
      "cell_type": "code",
      "metadata": {
        "id": "957N6GtAx4k0"
      },
      "source": [
        "cnn_model = keras.models.load_model('cnn_model.h5')\n",
        "#vgg_16 = keras.models.load_model('vgg16.h5')\n",
        "#resnet = keras.models.load_model('resnet.h5')"
      ],
      "execution_count": 2,
      "outputs": []
    },
    {
      "cell_type": "code",
      "metadata": {
        "colab": {
          "base_uri": "https://localhost:8080/"
        },
        "id": "QAKapAdX2JVD",
        "outputId": "d7a18e31-de3f-46db-d45c-ee81cbe99caf"
      },
      "source": [
        "cifar_10 = tf.keras.datasets.cifar10.load_data()\n",
        "(X_train, y_train), (X_test, y_test) = cifar_10\n",
        "def pre_processing_cifar10(X_train,y_train,X_test,y_test,image_channel):\n",
        "  X_train = X_train.astype('float32')\n",
        "  X_test = X_test.astype('float32')\n",
        "\n",
        "  y_train = keras.utils.to_categorical(y_train)\n",
        "  y_test = keras.utils.to_categorical(y_test)\n",
        "\n",
        "  X_train = preprocess_input(X_train)\n",
        "  X_test = preprocess_input(X_test)\n",
        "\n",
        "  img_width = X_train[0].shape[0]\n",
        "  img_height = X_train[0].shape[1]\n",
        "  image_channel = image_channel\n",
        "\n",
        "  input_shape=(img_width,img_height,image_channel) \n",
        "  return X_train,y_train,X_test,y_test\n",
        "X_train,y_train,X_test,y_test = pre_processing_cifar10(X_train,y_train,X_test,y_test,3)"
      ],
      "execution_count": 3,
      "outputs": [
        {
          "output_type": "stream",
          "name": "stdout",
          "text": [
            "Downloading data from https://www.cs.toronto.edu/~kriz/cifar-10-python.tar.gz\n",
            "170500096/170498071 [==============================] - 2s 0us/step\n",
            "170508288/170498071 [==============================] - 2s 0us/step\n"
          ]
        }
      ]
    },
    {
      "cell_type": "code",
      "metadata": {
        "id": "1Bm14mSmyZAO"
      },
      "source": [
        "\n",
        "def make_predictions(model , image , true_value):\n",
        "\n",
        "  labels = ['airplane','automobile','bird','cat','deer','dog','frog','horse','ship','truck']\n",
        "\n",
        "  true_label_index = -1\n",
        "  for i in range(len(true_value)):\n",
        "\n",
        "    if(true_value[i]==1):\n",
        "      true_label_index = i\n",
        "      break\n",
        "\n",
        "  prediction = model.predict(image)[0]\n",
        "  probability = float('-inf')\n",
        "  predicted_label_index = -1\n",
        "\n",
        "  for i in range(len(prediction)):\n",
        "\n",
        "    if(prediction[i]>probability):\n",
        "      probability = prediction[i]\n",
        "      predicted_label_index = i\n",
        "\n",
        "  predicted_label = labels[predicted_label_index]\n",
        "  true_label = labels[true_label_index]\n",
        "\n",
        "  print('Predicted Label -',predicted_label,' Probability -',probability)\n",
        "  print('True Label -',true_label)\n",
        "\n",
        "  return predicted_label , probability \n"
      ],
      "execution_count": 15,
      "outputs": []
    },
    {
      "cell_type": "code",
      "metadata": {
        "id": "a_ntqMYIztsp"
      },
      "source": [
        "from keras.preprocessing.image import img_to_array\n",
        "\n",
        "epsilon = 0.2\n",
        "logits_cnn_model = tf.keras.Model(cnn_model.input,cnn_model.layers[-1].output)\n",
        "total_images = 100\n",
        "misclassifications_fgsm = []\n",
        "misclassifications_pgd = []\n",
        "FLAGS = flags.FLAGS\n",
        "\n",
        "for image_index in range(total_images):\n",
        "  \n",
        "  print('-------------------------------')\n",
        "  print()\n",
        "  print('Image index :',image_index)\n",
        "  print()\n",
        "  print('Original Sample')\n",
        "  image  = X_test[image_index]\n",
        "  image = img_to_array(image)\n",
        "  image = image.reshape(1, 32, 32, 3)\n",
        "  true_value = y_test[image_index]\n",
        "  original_prediction = make_predictions(cnn_model,image,true_value)\n",
        "  fgsm_sample = fast_gradient_method(logits_cnn_model, image, epsilon, np.inf, targeted=False)\n",
        "  pgd_sample = projected_gradient_descent(cnn_model, image, 0.2, 0.01, 40, np.inf)\n",
        "  print()\n",
        "  print('Untargeted FGSM Adverserial Sample')\n",
        "  fgsm_prediction = make_predictions(cnn_model , fgsm_sample , true_value)\n",
        "  print()\n",
        "  print('PGD Adverserial Sample')\n",
        "  pgd_prediction = make_predictions(cnn_model , pgd_sample , true_value)\n",
        "  print()\n",
        "  \n",
        "  if(pgd_prediction[0]!=original_prediction[0]):\n",
        "    original_model_label = original_prediction[0]\n",
        "    pgd_label = pgd_prediction[0]\n",
        "    original_probability = original_prediction[1]\n",
        "    pgd_probability = pgd_prediction[1]\n",
        "    misclassifications_pgd.append({'Original Model Label':original_model_label,'original probability':original_probability,'Prediction after PGD attack':pgd_label,'Probability after PGD attack':pgd_probability,'Image index':image_index})\n",
        "\n",
        "  if(fgsm_prediction[0]!=original_prediction[0]):\n",
        "    original_model_label = original_prediction[0]\n",
        "    fgsm_label = fgsm_prediction[0]\n",
        "    original_probability = original_prediction[1]\n",
        "    fgsm_probability = fgsm_prediction[1]\n",
        "    misclassifications_fgsm.append({'Original Model Label':original_model_label,'original probability':original_probability,'Prediction after FGSM attack':fgsm_label,'Probability after FGSM attack':fgsm_probability,'Image index':image_index})\n",
        "     \n",
        "  print('-------------------------------')\n"
      ],
      "execution_count": null,
      "outputs": []
    },
    {
      "cell_type": "code",
      "metadata": {
        "colab": {
          "base_uri": "https://localhost:8080/"
        },
        "id": "tTrv-oz54zrv",
        "outputId": "80774c3e-dbd8-4fde-f428-c6dc5c6fd3c9"
      },
      "source": [
        "print('Mispredictions due to FGSM attack')\n",
        "print()\n",
        "print('-------------------------------')\n",
        "for element in misclassifications_fgsm:\n",
        "  print(element)"
      ],
      "execution_count": 18,
      "outputs": [
        {
          "output_type": "stream",
          "name": "stdout",
          "text": [
            "Mispredictions due to FGSM attack\n",
            "\n",
            "-------------------------------\n",
            "{'Original Model Label': 'airplane', 'original probability': 0.720281, 'Prediction after FGSM attack': 'ship', 'Probability after FGSM attack': 0.51244044, 'Image index': 3}\n",
            "{'Original Model Label': 'automobile', 'original probability': 0.55166876, 'Prediction after FGSM attack': 'truck', 'Probability after FGSM attack': 0.7046554, 'Image index': 6}\n",
            "{'Original Model Label': 'bird', 'original probability': 0.39542064, 'Prediction after FGSM attack': 'deer', 'Probability after FGSM attack': 0.33747023, 'Image index': 32}\n",
            "{'Original Model Label': 'cat', 'original probability': 0.36319295, 'Prediction after FGSM attack': 'dog', 'Probability after FGSM attack': 0.2865367, 'Image index': 33}\n",
            "{'Original Model Label': 'cat', 'original probability': 0.5012216, 'Prediction after FGSM attack': 'ship', 'Probability after FGSM attack': 0.4071542, 'Image index': 35}\n",
            "{'Original Model Label': 'truck', 'original probability': 0.5209432, 'Prediction after FGSM attack': 'automobile', 'Probability after FGSM attack': 0.71904254, 'Image index': 37}\n",
            "{'Original Model Label': 'truck', 'original probability': 0.4830034, 'Prediction after FGSM attack': 'ship', 'Probability after FGSM attack': 0.33104527, 'Image index': 47}\n",
            "{'Original Model Label': 'bird', 'original probability': 0.3542242, 'Prediction after FGSM attack': 'horse', 'Probability after FGSM attack': 0.2180022, 'Image index': 52}\n",
            "{'Original Model Label': 'dog', 'original probability': 0.59494925, 'Prediction after FGSM attack': 'cat', 'Probability after FGSM attack': 0.5237009, 'Image index': 61}\n",
            "{'Original Model Label': 'bird', 'original probability': 0.36408603, 'Prediction after FGSM attack': 'airplane', 'Probability after FGSM attack': 0.29077813, 'Image index': 70}\n",
            "{'Original Model Label': 'cat', 'original probability': 0.60061675, 'Prediction after FGSM attack': 'frog', 'Probability after FGSM attack': 0.4858605, 'Image index': 71}\n",
            "{'Original Model Label': 'dog', 'original probability': 0.5573567, 'Prediction after FGSM attack': 'cat', 'Probability after FGSM attack': 0.46727112, 'Image index': 78}\n",
            "{'Original Model Label': 'ship', 'original probability': 0.5820088, 'Prediction after FGSM attack': 'airplane', 'Probability after FGSM attack': 0.35300338, 'Image index': 87}\n"
          ]
        }
      ]
    },
    {
      "cell_type": "code",
      "metadata": {
        "colab": {
          "base_uri": "https://localhost:8080/"
        },
        "id": "DdhIFQalCcxp",
        "outputId": "8cea29f5-f40a-41a9-87c3-a139bd66e74a"
      },
      "source": [
        "print('Mispredictions due to PGD attack')\n",
        "print()\n",
        "print('-------------------------------')\n",
        "for element in misclassifications_pgd:\n",
        "  print(element)"
      ],
      "execution_count": 19,
      "outputs": [
        {
          "output_type": "stream",
          "name": "stdout",
          "text": [
            "Mispredictions due to PGD attack\n",
            "\n",
            "-------------------------------\n",
            "{'Original Model Label': 'airplane', 'original probability': 0.720281, 'Prediction after PGD attack': 'ship', 'Probability after PGD attack': 0.5262787, 'Image index': 3}\n",
            "{'Original Model Label': 'automobile', 'original probability': 0.55166876, 'Prediction after PGD attack': 'truck', 'Probability after PGD attack': 0.7113933, 'Image index': 6}\n",
            "{'Original Model Label': 'bird', 'original probability': 0.60332745, 'Prediction after PGD attack': 'cat', 'Probability after PGD attack': 0.43106443, 'Image index': 25}\n",
            "{'Original Model Label': 'bird', 'original probability': 0.39542064, 'Prediction after PGD attack': 'deer', 'Probability after PGD attack': 0.3368668, 'Image index': 32}\n",
            "{'Original Model Label': 'cat', 'original probability': 0.36319295, 'Prediction after PGD attack': 'dog', 'Probability after PGD attack': 0.28503263, 'Image index': 33}\n",
            "{'Original Model Label': 'cat', 'original probability': 0.5012216, 'Prediction after PGD attack': 'ship', 'Probability after PGD attack': 0.4177148, 'Image index': 35}\n",
            "{'Original Model Label': 'deer', 'original probability': 0.72481453, 'Prediction after PGD attack': 'horse', 'Probability after PGD attack': 0.47088826, 'Image index': 36}\n",
            "{'Original Model Label': 'truck', 'original probability': 0.5209432, 'Prediction after PGD attack': 'automobile', 'Probability after PGD attack': 0.7242587, 'Image index': 37}\n",
            "{'Original Model Label': 'truck', 'original probability': 0.4830034, 'Prediction after PGD attack': 'ship', 'Probability after PGD attack': 0.32197323, 'Image index': 47}\n",
            "{'Original Model Label': 'bird', 'original probability': 0.3542242, 'Prediction after PGD attack': 'horse', 'Probability after PGD attack': 0.21573953, 'Image index': 52}\n",
            "{'Original Model Label': 'frog', 'original probability': 0.67494184, 'Prediction after PGD attack': 'cat', 'Probability after PGD attack': 0.40509114, 'Image index': 59}\n",
            "{'Original Model Label': 'dog', 'original probability': 0.59494925, 'Prediction after PGD attack': 'cat', 'Probability after PGD attack': 0.5320195, 'Image index': 61}\n",
            "{'Original Model Label': 'bird', 'original probability': 0.36408603, 'Prediction after PGD attack': 'airplane', 'Probability after PGD attack': 0.30370256, 'Image index': 70}\n",
            "{'Original Model Label': 'cat', 'original probability': 0.60061675, 'Prediction after PGD attack': 'frog', 'Probability after PGD attack': 0.5280738, 'Image index': 71}\n",
            "{'Original Model Label': 'dog', 'original probability': 0.5573567, 'Prediction after PGD attack': 'cat', 'Probability after PGD attack': 0.4748871, 'Image index': 78}\n",
            "{'Original Model Label': 'ship', 'original probability': 0.5820088, 'Prediction after PGD attack': 'airplane', 'Probability after PGD attack': 0.35635442, 'Image index': 87}\n"
          ]
        }
      ]
    },
    {
      "cell_type": "code",
      "metadata": {
        "id": "d3Ddldk0Emdr"
      },
      "source": [
        ""
      ],
      "execution_count": null,
      "outputs": []
    }
  ]
}