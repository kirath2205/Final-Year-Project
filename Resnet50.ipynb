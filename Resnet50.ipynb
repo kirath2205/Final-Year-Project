{
  "nbformat": 4,
  "nbformat_minor": 0,
  "metadata": {
    "colab": {
      "name": "Resnet50.ipynb",
      "provenance": [],
      "authorship_tag": "ABX9TyMFn5bjxkgxx3Du57d4wf95",
      "include_colab_link": true
    },
    "kernelspec": {
      "name": "python3",
      "display_name": "Python 3"
    },
    "language_info": {
      "name": "python"
    },
    "accelerator": "GPU"
  },
  "cells": [
    {
      "cell_type": "markdown",
      "metadata": {
        "id": "view-in-github",
        "colab_type": "text"
      },
      "source": [
        "<a href=\"https://colab.research.google.com/github/kirath2205/Final-Year-Project/blob/main/Resnet50.ipynb\" target=\"_parent\"><img src=\"https://colab.research.google.com/assets/colab-badge.svg\" alt=\"Open In Colab\"/></a>"
      ]
    },
    {
      "cell_type": "code",
      "execution_count": 1,
      "metadata": {
        "id": "wT9vgvoPA5LN"
      },
      "outputs": [],
      "source": [
        "import numpy as np\n",
        "\n",
        "\n",
        "def get_random_eraser(p=0.5, s_l=0.02, s_h=0.4, r_1=0.3, r_2=1/0.3, v_l=0, v_h=255, pixel_level=False):\n",
        "    def eraser(input_img):\n",
        "        img_h, img_w, img_c = input_img.shape\n",
        "        p_1 = np.random.rand()\n",
        "\n",
        "        if p_1 > p:\n",
        "            return input_img\n",
        "\n",
        "        while True:\n",
        "            s = np.random.uniform(s_l, s_h) * img_h * img_w\n",
        "            r = np.random.uniform(r_1, r_2)\n",
        "            w = int(np.sqrt(s / r))\n",
        "            h = int(np.sqrt(s * r))\n",
        "            left = np.random.randint(0, img_w)\n",
        "            top = np.random.randint(0, img_h)\n",
        "\n",
        "            if left + w <= img_w and top + h <= img_h:\n",
        "                break\n",
        "\n",
        "        if pixel_level:\n",
        "            c = np.random.uniform(v_l, v_h, (h, w, img_c))\n",
        "        else:\n",
        "            c = np.random.uniform(v_l, v_h)\n",
        "\n",
        "        input_img[top:top + h, left:left + w, :] = c\n",
        "\n",
        "        return input_img\n",
        "\n",
        "    return eraser"
      ]
    },
    {
      "cell_type": "code",
      "source": [
        "!pip install Keras-applications"
      ],
      "metadata": {
        "id": "Yzs3HWQuBj9r",
        "outputId": "f765e7da-17d7-4101-b471-fdbf26f9bad7",
        "colab": {
          "base_uri": "https://localhost:8080/"
        }
      },
      "execution_count": 2,
      "outputs": [
        {
          "output_type": "stream",
          "name": "stdout",
          "text": [
            "Defaulting to user installation because normal site-packages is not writeable\n",
            "Requirement already satisfied: Keras-applications in /usr/local/lib/python3.6/dist-packages (1.0.8)\n",
            "Requirement already satisfied: numpy>=1.9.1 in /usr/local/lib/python3.6/dist-packages (from Keras-applications) (1.19.1)\n",
            "Requirement already satisfied: h5py in /usr/local/lib/python3.6/dist-packages (from Keras-applications) (2.10.0)\n",
            "Requirement already satisfied: six in /usr/local/lib/python3.6/dist-packages (from h5py->Keras-applications) (1.15.0)\n",
            "\u001b[33mWARNING: You are using pip version 20.2.2; however, version 21.3.1 is available.\n",
            "You should consider upgrading via the '/usr/bin/python3 -m pip install --upgrade pip' command.\u001b[0m\n"
          ]
        }
      ]
    },
    {
      "cell_type": "code",
      "source": [
        "from tensorflow.keras.applications.resnet50 import ResNet50, preprocess_input\n",
        "import tensorflow.keras as keras\n",
        "from tensorflow.keras.models import Model, Sequential\n",
        "from tensorflow.keras.layers import Input, UpSampling2D, Flatten, BatchNormalization, Dense, Dropout, GlobalAveragePooling2D , UpSampling3D\n",
        "from tensorflow.keras import optimizers\n",
        "from keras.datasets import cifar100,cifar10,fashion_mnist\n",
        "import tensorflow as tf\n",
        "from keras.utils import np_utils\n",
        "import numpy as np\n",
        "import matplotlib.pyplot as plt\n",
        "import time\n",
        "from skimage.transform import resize\n",
        "from keras import applications\n",
        "from tensorflow.keras.applications.resnet50 import ResNet50 , preprocess_input , decode_predictions\n",
        "from keras.preprocessing.image import ImageDataGenerator"
      ],
      "metadata": {
        "id": "CtDTfJMaBKTx"
      },
      "execution_count": 3,
      "outputs": []
    },
    {
      "cell_type": "code",
      "source": [
        "def select_dataset(index=1): #1 for cifar10 , 2 for cifar100 , 3 for fashion mnist\n",
        "  if(index == 1):\n",
        "    (x_train, y_train), (x_test, y_test) = cifar10.load_data()\n",
        "    channel = 3\n",
        "    num_classes = 10\n",
        "  if(index == 2):\n",
        "    (x_train, y_train), (x_test, y_test) = cifar100.load_data()\n",
        "    num_classes = 100\n",
        "    channel = 3\n",
        "  if(index == 3):\n",
        "    (x_train, y_train), (x_test, y_test) = fashion_mnist.load_data()\n",
        "    x_train = x_train.reshape((60000, 28, 28, 1))\n",
        "    x_test =  x_test.reshape((10000, 28, 28, 1))\n",
        "    num_classes = 10\n",
        "    y_train = np_utils.to_categorical(y_train, num_classes)\n",
        "    y_test = np_utils.to_categorical(y_test, num_classes)\n",
        "    channel = 1\n",
        "    return (x_train , y_train , x_test , y_test , num_classes , channel)\n",
        "\n",
        "  #Pre-process the data\n",
        "  x_train = preprocess_input(x_train)\n",
        "  x_test = preprocess_input(x_test)\n",
        "\n",
        "  datagen = ImageDataGenerator(preprocessing_function=get_random_eraser(v_l=0, v_h=1, pixel_level=True))\n",
        "  datagen.fit(x_train)\n",
        "  y_train = np_utils.to_categorical(y_train, num_classes)\n",
        "  y_test = np_utils.to_categorical(y_test, num_classes)\n",
        "\n",
        "  return (x_train , y_train , x_test , y_test , num_classes , channel , datagen)"
      ],
      "metadata": {
        "id": "al1qQJxOBM1C"
      },
      "execution_count": 4,
      "outputs": []
    },
    {
      "cell_type": "code",
      "source": [
        "def Resnet50(num_classes , channel=3):\n",
        "  if(channel == 3):\n",
        "    resnet_model = ResNet50(weights='imagenet', include_top=False, input_shape=(224, 224, 3))\n",
        "  else:\n",
        "    resnet_model = ResNet50(weights='imagenet', include_top=False, input_shape=(112, 112, 3))\n",
        "\n",
        "  for layer in resnet_model.layers:\n",
        "    if isinstance(layer, BatchNormalization):\n",
        "      layer.trainable = True\n",
        "    else:\n",
        "      layer.trainable = False\n",
        "  model = Sequential()\n",
        "  if(channel==1):\n",
        "    model.add(UpSampling3D((4,4,3)))\n",
        "  else:\n",
        "    model.add(UpSampling2D((7,7)))\n",
        "  model.add(resnet_model)\n",
        "  model.add(GlobalAveragePooling2D())\n",
        "  model.add(Dense(256, activation='relu'))\n",
        "  model.add(Dropout(.25))\n",
        "  model.add(BatchNormalization())\n",
        "  model.add(Dense(num_classes, activation='softmax'))\n",
        "  model.compile(loss='categorical_crossentropy',optimizer='adam',metrics=['accuracy'])\n",
        "  return model"
      ],
      "metadata": {
        "id": "8zq0WGLtB0p_"
      },
      "execution_count": 5,
      "outputs": []
    },
    {
      "cell_type": "code",
      "source": [
        "index = 1\n",
        "x_train , y_train , x_test , y_test , num_classes ,channel , datagen = select_dataset(index)\n",
        "model = Resnet50(num_classes,channel)\n",
        "model_name = 'desktop/Trained_models/resnet50_cifar10'\n",
        "model_path = 'desktop/Trained_models/resnet50_cifar10.h5'"
      ],
      "metadata": {
        "id": "Sb309y2jmmYj"
      },
      "execution_count": 10,
      "outputs": []
    },
    {
      "cell_type": "code",
      "source": [
        "index = 2\n",
        "x_train , y_train , x_test , y_test , num_classes ,channel , datagen = select_dataset(index)\n",
        "model = Resnet50(num_classes,channel)\n",
        "model_name = 'desktop/Trained_models/resnet50_cifar100'\n",
        "model_path = 'desktop/Trained_models/resnet50_cifar100.h5'"
      ],
      "metadata": {
        "id": "qMm7-78JnVa9"
      },
      "execution_count": 6,
      "outputs": []
    },
    {
      "cell_type": "code",
      "source": [
        "index = 3\n",
        "x_train , y_train , x_test , y_test , num_classes ,channel  = select_dataset(index)\n",
        "model = Resnet50(num_classes,channel)\n",
        "model_name = 'resnet50_mnist'\n",
        "model_path = '/content/resnet_mnist.h5'"
      ],
      "metadata": {
        "id": "4jlkd0p1B4hX"
      },
      "execution_count": null,
      "outputs": []
    },
    {
      "cell_type": "code",
      "source": [
        "batch_size = 128 # 256 for mnist , 128 for cifar-10 , 64 for cifar-100\n",
        "callbacks = [ \n",
        "    tf.keras.callbacks.ModelCheckpoint(model_name, monitor='val_accuracy', verbose=1, save_best_only=True),\n",
        "    tf.keras.callbacks.ReduceLROnPlateau( factor = 0.5, patience = 5, min_lr = 0.000001, verbose = 1 ),\n",
        "    tf.keras.callbacks.EarlyStopping(monitor = 'val_loss' , patience = 10)\n",
        "  ]\n",
        "if(channel == 3):\n",
        "  history = model.fit_generator(datagen.flow(x_train, y_train,\n",
        "                                  batch_size=batch_size),\n",
        "                                  steps_per_epoch=x_train.shape[0] // batch_size,\n",
        "                                  epochs=100,\n",
        "                                  validation_data=(x_test, y_test),\n",
        "                                  callbacks = callbacks)\n",
        "\n",
        "  model.save(model_path)\n",
        "else:\n",
        "  history = model.fit(x_train , y_train , batch_size=batch_size ,steps_per_epoch=x_train.shape[0] // batch_size, epochs=50, validation_data=(x_test, y_test),callbacks=callbacks)\n",
        "  model.save(model_path)"
      ],
      "metadata": {
        "colab": {
          "base_uri": "https://localhost:8080/"
        },
        "id": "jtmcDNu1B6ss",
        "outputId": "7773842a-5481-4f4f-ab3c-0dc6e93a0362"
      },
      "execution_count": 11,
      "outputs": [
        {
          "output_type": "stream",
          "name": "stdout",
          "text": [
            "Epoch 1/100\n",
            "390/390 [==============================] - ETA: 0s - loss: 0.6209 - accuracy: 0.7862\n",
            "Epoch 00001: val_accuracy improved from -inf to 0.90540, saving model to desktop/Trained_models/resnet50_cifar10\n",
            "INFO:tensorflow:Assets written to: desktop/Trained_models/resnet50_cifar10/assets\n",
            "390/390 [==============================] - 184s 472ms/step - loss: 0.6209 - accuracy: 0.7862 - val_loss: 0.2818 - val_accuracy: 0.9054 - lr: 0.0010\n",
            "Epoch 2/100\n",
            "390/390 [==============================] - ETA: 0s - loss: 0.3425 - accuracy: 0.8814\n",
            "Epoch 00002: val_accuracy improved from 0.90540 to 0.92350, saving model to desktop/Trained_models/resnet50_cifar10\n",
            "INFO:tensorflow:Assets written to: desktop/Trained_models/resnet50_cifar10/assets\n",
            "390/390 [==============================] - 184s 472ms/step - loss: 0.3425 - accuracy: 0.8814 - val_loss: 0.2259 - val_accuracy: 0.9235 - lr: 0.0010\n",
            "Epoch 3/100\n",
            "390/390 [==============================] - ETA: 0s - loss: 0.2714 - accuracy: 0.9056\n",
            "Epoch 00003: val_accuracy improved from 0.92350 to 0.93200, saving model to desktop/Trained_models/resnet50_cifar10\n",
            "INFO:tensorflow:Assets written to: desktop/Trained_models/resnet50_cifar10/assets\n",
            "390/390 [==============================] - 185s 474ms/step - loss: 0.2714 - accuracy: 0.9056 - val_loss: 0.1961 - val_accuracy: 0.9320 - lr: 0.0010\n",
            "Epoch 4/100\n",
            "390/390 [==============================] - ETA: 0s - loss: 0.2310 - accuracy: 0.9193\n",
            "Epoch 00004: val_accuracy improved from 0.93200 to 0.94090, saving model to desktop/Trained_models/resnet50_cifar10\n",
            "INFO:tensorflow:Assets written to: desktop/Trained_models/resnet50_cifar10/assets\n",
            "390/390 [==============================] - 185s 474ms/step - loss: 0.2310 - accuracy: 0.9193 - val_loss: 0.1739 - val_accuracy: 0.9409 - lr: 0.0010\n",
            "Epoch 5/100\n",
            "390/390 [==============================] - ETA: 0s - loss: 0.2058 - accuracy: 0.9280\n",
            "Epoch 00005: val_accuracy improved from 0.94090 to 0.94230, saving model to desktop/Trained_models/resnet50_cifar10\n",
            "INFO:tensorflow:Assets written to: desktop/Trained_models/resnet50_cifar10/assets\n",
            "390/390 [==============================] - 185s 475ms/step - loss: 0.2058 - accuracy: 0.9280 - val_loss: 0.1690 - val_accuracy: 0.9423 - lr: 0.0010\n",
            "Epoch 6/100\n",
            "390/390 [==============================] - ETA: 0s - loss: 0.1819 - accuracy: 0.9369\n",
            "Epoch 00006: val_accuracy improved from 0.94230 to 0.94390, saving model to desktop/Trained_models/resnet50_cifar10\n",
            "INFO:tensorflow:Assets written to: desktop/Trained_models/resnet50_cifar10/assets\n",
            "390/390 [==============================] - 185s 474ms/step - loss: 0.1819 - accuracy: 0.9369 - val_loss: 0.1668 - val_accuracy: 0.9439 - lr: 0.0010\n",
            "Epoch 7/100\n",
            "390/390 [==============================] - ETA: 0s - loss: 0.1671 - accuracy: 0.9411\n",
            "Epoch 00007: val_accuracy improved from 0.94390 to 0.94680, saving model to desktop/Trained_models/resnet50_cifar10\n",
            "INFO:tensorflow:Assets written to: desktop/Trained_models/resnet50_cifar10/assets\n",
            "390/390 [==============================] - 185s 475ms/step - loss: 0.1671 - accuracy: 0.9411 - val_loss: 0.1668 - val_accuracy: 0.9468 - lr: 0.0010\n",
            "Epoch 8/100\n",
            "390/390 [==============================] - ETA: 0s - loss: 0.1534 - accuracy: 0.9472\n",
            "Epoch 00008: val_accuracy improved from 0.94680 to 0.94770, saving model to desktop/Trained_models/resnet50_cifar10\n",
            "INFO:tensorflow:Assets written to: desktop/Trained_models/resnet50_cifar10/assets\n",
            "390/390 [==============================] - 185s 476ms/step - loss: 0.1534 - accuracy: 0.9472 - val_loss: 0.1620 - val_accuracy: 0.9477 - lr: 0.0010\n",
            "Epoch 9/100\n",
            "390/390 [==============================] - ETA: 0s - loss: 0.1412 - accuracy: 0.9509\n",
            "Epoch 00009: val_accuracy did not improve from 0.94770\n",
            "390/390 [==============================] - 166s 425ms/step - loss: 0.1412 - accuracy: 0.9509 - val_loss: 0.1723 - val_accuracy: 0.9448 - lr: 0.0010\n",
            "Epoch 10/100\n",
            "390/390 [==============================] - ETA: 0s - loss: 0.1341 - accuracy: 0.9526\n",
            "Epoch 00010: val_accuracy did not improve from 0.94770\n",
            "390/390 [==============================] - 166s 426ms/step - loss: 0.1341 - accuracy: 0.9526 - val_loss: 0.1614 - val_accuracy: 0.9471 - lr: 0.0010\n",
            "Epoch 11/100\n",
            "390/390 [==============================] - ETA: 0s - loss: 0.1249 - accuracy: 0.9561\n",
            "Epoch 00011: val_accuracy improved from 0.94770 to 0.94970, saving model to desktop/Trained_models/resnet50_cifar10\n",
            "INFO:tensorflow:Assets written to: desktop/Trained_models/resnet50_cifar10/assets\n",
            "390/390 [==============================] - 185s 475ms/step - loss: 0.1249 - accuracy: 0.9561 - val_loss: 0.1598 - val_accuracy: 0.9497 - lr: 0.0010\n",
            "Epoch 12/100\n",
            "390/390 [==============================] - ETA: 0s - loss: 0.1198 - accuracy: 0.9587\n",
            "Epoch 00012: val_accuracy did not improve from 0.94970\n",
            "390/390 [==============================] - 166s 425ms/step - loss: 0.1198 - accuracy: 0.9587 - val_loss: 0.1614 - val_accuracy: 0.9490 - lr: 0.0010\n",
            "Epoch 13/100\n",
            "390/390 [==============================] - ETA: 0s - loss: 0.1146 - accuracy: 0.9598\n",
            "Epoch 00013: val_accuracy did not improve from 0.94970\n",
            "390/390 [==============================] - 166s 426ms/step - loss: 0.1146 - accuracy: 0.9598 - val_loss: 0.1779 - val_accuracy: 0.9474 - lr: 0.0010\n",
            "Epoch 14/100\n",
            "390/390 [==============================] - ETA: 0s - loss: 0.1121 - accuracy: 0.9610\n",
            "Epoch 00014: val_accuracy did not improve from 0.94970\n",
            "390/390 [==============================] - 166s 426ms/step - loss: 0.1121 - accuracy: 0.9610 - val_loss: 0.1687 - val_accuracy: 0.9495 - lr: 0.0010\n",
            "Epoch 15/100\n",
            "390/390 [==============================] - ETA: 0s - loss: 0.1025 - accuracy: 0.9645\n",
            "Epoch 00015: val_accuracy improved from 0.94970 to 0.95300, saving model to desktop/Trained_models/resnet50_cifar10\n",
            "INFO:tensorflow:Assets written to: desktop/Trained_models/resnet50_cifar10/assets\n",
            "390/390 [==============================] - 185s 473ms/step - loss: 0.1025 - accuracy: 0.9645 - val_loss: 0.1582 - val_accuracy: 0.9530 - lr: 0.0010\n",
            "Epoch 16/100\n",
            "390/390 [==============================] - ETA: 0s - loss: 0.0975 - accuracy: 0.9660\n",
            "Epoch 00016: val_accuracy did not improve from 0.95300\n",
            "390/390 [==============================] - 166s 425ms/step - loss: 0.0975 - accuracy: 0.9660 - val_loss: 0.1708 - val_accuracy: 0.9477 - lr: 0.0010\n",
            "Epoch 17/100\n",
            "390/390 [==============================] - ETA: 0s - loss: 0.0966 - accuracy: 0.9668\n",
            "Epoch 00017: val_accuracy did not improve from 0.95300\n",
            "390/390 [==============================] - 166s 427ms/step - loss: 0.0966 - accuracy: 0.9668 - val_loss: 0.1636 - val_accuracy: 0.9499 - lr: 0.0010\n",
            "Epoch 18/100\n",
            "390/390 [==============================] - ETA: 0s - loss: 0.0934 - accuracy: 0.9669\n",
            "Epoch 00018: val_accuracy did not improve from 0.95300\n",
            "390/390 [==============================] - 166s 426ms/step - loss: 0.0934 - accuracy: 0.9669 - val_loss: 0.1630 - val_accuracy: 0.9501 - lr: 0.0010\n",
            "Epoch 19/100\n",
            "390/390 [==============================] - ETA: 0s - loss: 0.0887 - accuracy: 0.9689\n",
            "Epoch 00019: val_accuracy did not improve from 0.95300\n",
            "390/390 [==============================] - 166s 425ms/step - loss: 0.0887 - accuracy: 0.9689 - val_loss: 0.1686 - val_accuracy: 0.9507 - lr: 0.0010\n",
            "Epoch 20/100\n",
            "390/390 [==============================] - ETA: 0s - loss: 0.0884 - accuracy: 0.9698\n",
            "Epoch 00020: val_accuracy did not improve from 0.95300\n",
            "\n",
            "Epoch 00020: ReduceLROnPlateau reducing learning rate to 0.0005000000237487257.\n",
            "390/390 [==============================] - 165s 424ms/step - loss: 0.0884 - accuracy: 0.9698 - val_loss: 0.1702 - val_accuracy: 0.9519 - lr: 0.0010\n",
            "Epoch 21/100\n",
            "390/390 [==============================] - ETA: 0s - loss: 0.0764 - accuracy: 0.9739\n",
            "Epoch 00021: val_accuracy improved from 0.95300 to 0.95490, saving model to desktop/Trained_models/resnet50_cifar10\n",
            "INFO:tensorflow:Assets written to: desktop/Trained_models/resnet50_cifar10/assets\n",
            "390/390 [==============================] - 185s 474ms/step - loss: 0.0764 - accuracy: 0.9739 - val_loss: 0.1597 - val_accuracy: 0.9549 - lr: 5.0000e-04\n",
            "Epoch 22/100\n",
            "390/390 [==============================] - ETA: 0s - loss: 0.0729 - accuracy: 0.9755\n",
            "Epoch 00022: val_accuracy did not improve from 0.95490\n",
            "390/390 [==============================] - 166s 425ms/step - loss: 0.0729 - accuracy: 0.9755 - val_loss: 0.1562 - val_accuracy: 0.9547 - lr: 5.0000e-04\n",
            "Epoch 23/100\n",
            "390/390 [==============================] - ETA: 0s - loss: 0.0684 - accuracy: 0.9776\n",
            "Epoch 00023: val_accuracy did not improve from 0.95490\n",
            "390/390 [==============================] - 166s 427ms/step - loss: 0.0684 - accuracy: 0.9776 - val_loss: 0.1540 - val_accuracy: 0.9540 - lr: 5.0000e-04\n",
            "Epoch 24/100\n",
            "390/390 [==============================] - ETA: 0s - loss: 0.0656 - accuracy: 0.9777\n",
            "Epoch 00024: val_accuracy did not improve from 0.95490\n",
            "390/390 [==============================] - 166s 425ms/step - loss: 0.0656 - accuracy: 0.9777 - val_loss: 0.1607 - val_accuracy: 0.9535 - lr: 5.0000e-04\n",
            "Epoch 25/100\n",
            "390/390 [==============================] - ETA: 0s - loss: 0.0690 - accuracy: 0.9773\n",
            "Epoch 00025: val_accuracy improved from 0.95490 to 0.95600, saving model to desktop/Trained_models/resnet50_cifar10\n",
            "INFO:tensorflow:Assets written to: desktop/Trained_models/resnet50_cifar10/assets\n",
            "390/390 [==============================] - 185s 475ms/step - loss: 0.0690 - accuracy: 0.9773 - val_loss: 0.1592 - val_accuracy: 0.9560 - lr: 5.0000e-04\n",
            "Epoch 26/100\n",
            "390/390 [==============================] - ETA: 0s - loss: 0.0633 - accuracy: 0.9782\n",
            "Epoch 00026: val_accuracy improved from 0.95600 to 0.95710, saving model to desktop/Trained_models/resnet50_cifar10\n",
            "INFO:tensorflow:Assets written to: desktop/Trained_models/resnet50_cifar10/assets\n",
            "390/390 [==============================] - 185s 475ms/step - loss: 0.0633 - accuracy: 0.9782 - val_loss: 0.1618 - val_accuracy: 0.9571 - lr: 5.0000e-04\n",
            "Epoch 27/100\n",
            "390/390 [==============================] - ETA: 0s - loss: 0.0615 - accuracy: 0.9791\n",
            "Epoch 00027: val_accuracy did not improve from 0.95710\n",
            "390/390 [==============================] - 166s 425ms/step - loss: 0.0615 - accuracy: 0.9791 - val_loss: 0.1565 - val_accuracy: 0.9567 - lr: 5.0000e-04\n",
            "Epoch 28/100\n",
            "390/390 [==============================] - ETA: 0s - loss: 0.0646 - accuracy: 0.9773\n",
            "Epoch 00028: val_accuracy did not improve from 0.95710\n",
            "\n",
            "Epoch 00028: ReduceLROnPlateau reducing learning rate to 0.0002500000118743628.\n",
            "390/390 [==============================] - 166s 427ms/step - loss: 0.0646 - accuracy: 0.9773 - val_loss: 0.1613 - val_accuracy: 0.9537 - lr: 5.0000e-04\n",
            "Epoch 29/100\n",
            "390/390 [==============================] - ETA: 0s - loss: 0.0597 - accuracy: 0.9795\n",
            "Epoch 00029: val_accuracy did not improve from 0.95710\n",
            "390/390 [==============================] - 166s 426ms/step - loss: 0.0597 - accuracy: 0.9795 - val_loss: 0.1604 - val_accuracy: 0.9548 - lr: 2.5000e-04\n",
            "Epoch 30/100\n",
            "390/390 [==============================] - ETA: 0s - loss: 0.0581 - accuracy: 0.9806\n",
            "Epoch 00030: val_accuracy did not improve from 0.95710\n",
            "390/390 [==============================] - 166s 425ms/step - loss: 0.0581 - accuracy: 0.9806 - val_loss: 0.1557 - val_accuracy: 0.9564 - lr: 2.5000e-04\n",
            "Epoch 31/100\n",
            "390/390 [==============================] - ETA: 0s - loss: 0.0553 - accuracy: 0.9816\n",
            "Epoch 00031: val_accuracy did not improve from 0.95710\n",
            "390/390 [==============================] - 166s 425ms/step - loss: 0.0553 - accuracy: 0.9816 - val_loss: 0.1584 - val_accuracy: 0.9570 - lr: 2.5000e-04\n",
            "Epoch 32/100\n",
            "390/390 [==============================] - ETA: 0s - loss: 0.0546 - accuracy: 0.9818\n",
            "Epoch 00032: val_accuracy did not improve from 0.95710\n",
            "390/390 [==============================] - 166s 425ms/step - loss: 0.0546 - accuracy: 0.9818 - val_loss: 0.1581 - val_accuracy: 0.9568 - lr: 2.5000e-04\n",
            "Epoch 33/100\n",
            "390/390 [==============================] - ETA: 0s - loss: 0.0553 - accuracy: 0.9821\n",
            "Epoch 00033: val_accuracy did not improve from 0.95710\n",
            "\n",
            "Epoch 00033: ReduceLROnPlateau reducing learning rate to 0.0001250000059371814.\n",
            "390/390 [==============================] - 166s 425ms/step - loss: 0.0553 - accuracy: 0.9821 - val_loss: 0.1634 - val_accuracy: 0.9556 - lr: 2.5000e-04\n"
          ]
        }
      ]
    },
    {
      "cell_type": "code",
      "source": [
        "import matplotlib.pyplot as plt\n",
        "\n",
        "\n",
        "\n",
        "# Visualize history\n",
        "# Plot history: Loss\n",
        "plt.figure(figsize = (10,8))\n",
        "plt.plot(history.history['val_loss'])\n",
        "plt.title('Validation loss history resnet')\n",
        "plt.ylabel('Loss value')\n",
        "plt.xlabel('No. epoch')\n",
        "plt.show()\n",
        "\n",
        "# Plot history: Accuracy\n",
        "plt.figure(figsize = (10,8))\n",
        "plt.plot(history.history['val_accuracy'])\n",
        "plt.title('Validation accuracy history resnet')\n",
        "plt.ylabel('Accuracy value (%)')\n",
        "plt.xlabel('No. epoch')\n",
        "plt.show()"
      ],
      "metadata": {
        "id": "lKis1belCjmY",
        "outputId": "3d3a09a0-4add-4b39-ab3c-5766cba8a62a",
        "colab": {
          "base_uri": "https://localhost:8080/",
          "height": 1000
        }
      },
      "execution_count": 12,
      "outputs": [
        {
          "output_type": "display_data",
          "data": {
            "text/plain": [
              "<Figure size 720x576 with 1 Axes>"
            ],
            "image/png": "[encoded data removed]"
          },
          "metadata": {
            "needs_background": "light"
          }
        },
        {
          "output_type": "display_data",
          "data": {
            "text/plain": [
              "<Figure size 720x576 with 1 Axes>"
            ],
            "image/png": "[encoded data removed]"
          },
          "metadata": {
            "needs_background": "light"
          }
        }
      ]
    },
    {
      "cell_type": "code",
      "source": [
        ""
      ],
      "metadata": {
        "id": "tWqIFo-yroHD"
      },
      "execution_count": null,
      "outputs": []
    }
  ]
}