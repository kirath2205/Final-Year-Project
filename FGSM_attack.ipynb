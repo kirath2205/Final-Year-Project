{
  "nbformat": 4,
  "nbformat_minor": 0,
  "metadata": {
    "colab": {
      "name": "FGSM_attack.ipynb",
      "provenance": [],
      "authorship_tag": "ABX9TyN6E+8vWBlu07TdCw2KuKLm",
      "include_colab_link": true
    },
    "kernelspec": {
      "name": "python3",
      "display_name": "Python 3"
    },
    "language_info": {
      "name": "python"
    }
  },
  "cells": [
    {
      "cell_type": "markdown",
      "metadata": {
        "id": "view-in-github",
        "colab_type": "text"
      },
      "source": [
        "<a href=\"https://colab.research.google.com/github/kirath2205/Final-Year-Project/blob/main/FGSM_attack.ipynb\" target=\"_parent\"><img src=\"https://colab.research.google.com/assets/colab-badge.svg\" alt=\"Open In Colab\"/></a>"
      ]
    },
    {
      "cell_type": "code",
      "metadata": {
        "id": "URPC6O7Wxh10"
      },
      "source": [
        "import keras,os\n",
        "import tensorflow as tf\n",
        "from keras.models import Sequential,Model\n",
        "from keras.layers import Input, Add, Dense, Activation, ZeroPadding2D, BatchNormalization, Flatten, Conv2D, AveragePooling2D, MaxPooling2D , Dropout\n",
        "import numpy as np\n",
        "from tensorflow import keras\n",
        "from keras.initializers import glorot_uniform\n",
        "from keras import applications\n",
        "from tensorflow.keras.applications.resnet50 import ResNet50 , preprocess_input\n",
        "from keras import regularizers\n",
        "\n",
        "# Install bleeding edge version of cleverhans\n",
        "!pip install git+https://github.com/tensorflow/cleverhans.git#egg=cleverhans\n",
        "from cleverhans.tf2.attacks.projected_gradient_descent import projected_gradient_descent\n",
        "from cleverhans.tf2.attacks.fast_gradient_method import fast_gradient_method"
      ],
      "execution_count": null,
      "outputs": []
    },
    {
      "cell_type": "code",
      "metadata": {
        "id": "957N6GtAx4k0"
      },
      "source": [
        "cnn_model = keras.models.load_model('cnn_model.h5')\n",
        "vgg_16 = keras.models.load_model('vgg16.h5')\n",
        "resnet = keras.models.load_model('resnet.h5')"
      ],
      "execution_count": null,
      "outputs": []
    },
    {
      "cell_type": "code",
      "metadata": {
        "id": "QAKapAdX2JVD"
      },
      "source": [
        "cifar_10 = tf.keras.datasets.cifar10.load_data()\n",
        "(X_train, y_train), (X_test, y_test) = cifar_10\n",
        "def pre_processing_cifar10(X_train,y_train,X_test,y_test,image_channel):\n",
        "  X_train = X_train.astype('float32')\n",
        "  X_test = X_test.astype('float32')\n",
        "\n",
        "  y_train = keras.utils.to_categorical(y_train)\n",
        "  y_test = keras.utils.to_categorical(y_test)\n",
        "\n",
        "  X_train = preprocess_input(X_train)\n",
        "  X_test = preprocess_input(X_test)\n",
        "\n",
        "  img_width = X_train[0].shape[0]\n",
        "  img_height = X_train[0].shape[1]\n",
        "  image_channel = image_channel\n",
        "\n",
        "  input_shape=(img_width,img_height,image_channel) \n",
        "  return X_train,y_train,X_test,y_test\n",
        "X_train,y_train,X_test,y_test = pre_processing_cifar10(X_train,y_train,X_test,y_test,3)"
      ],
      "execution_count": 9,
      "outputs": []
    },
    {
      "cell_type": "code",
      "metadata": {
        "id": "1Bm14mSmyZAO"
      },
      "source": [
        "\n",
        "def make_predictions(model , image , true_value):\n",
        "\n",
        "  labels = ['airplane','automobile','bird','cat','deer','dog','frog','horse','ship','truck']\n",
        "\n",
        "  true_label_index = -1\n",
        "  for i in range(len(true_value)):\n",
        "\n",
        "    if(true_value[i]==1):\n",
        "      true_label_index = i\n",
        "      break\n",
        "\n",
        "  prediction = model.predict(image)[0]\n",
        "  probability = float('-inf')\n",
        "  predicted_label_index = -1\n",
        "\n",
        "  for i in range(len(prediction)):\n",
        "\n",
        "    if(prediction[i]>probability):\n",
        "      probability = prediction[i]\n",
        "      predicted_label_index = i\n",
        "\n",
        "  predicted_label = labels[predicted_label_index]\n",
        "  true_label = labels[true_label_index]\n",
        "\n",
        "  print('Predicted Label -',predicted_label,' Probability -',probability)\n",
        "  print('True Label -',true_label)\n",
        "\n",
        "  return true_label_index == predicted_label_index\n"
      ],
      "execution_count": 12,
      "outputs": []
    },
    {
      "cell_type": "code",
      "metadata": {
        "colab": {
          "base_uri": "https://localhost:8080/"
        },
        "id": "a_ntqMYIztsp",
        "outputId": "76b9101f-8699-4b66-9cfd-bf7b61221fe8"
      },
      "source": [
        "from keras.preprocessing.image import img_to_array\n",
        "\n",
        "epsilon = 0.4\n",
        "logits_cnn_model = tf.keras.Model(cnn_model.input,cnn_model.layers[-1].output)\n",
        "total_images = 10\n",
        "misclassification_indexes = []\n",
        "for image_index in range(total_images):\n",
        "  \n",
        "  print('-------------------------------')\n",
        "  print()\n",
        "  print('Original Sample')\n",
        "  image  = X_test[image_index]\n",
        "  image = img_to_array(image)\n",
        "  image = image.reshape(1, 32, 32, 3)\n",
        "  true_value = y_test[image_index]\n",
        "  original_prediction = make_predictions(cnn_model,image,true_value)\n",
        "  adverserial_sample = fast_gradient_method(logits_cnn_model, image, epsilon, np.inf, targeted=False)\n",
        "  print()\n",
        "  print('Untargeted FGSM Adverserial Sample')\n",
        "  adverserial_prediction = make_predictions(cnn_model , adverserial_sample , true_value)\n",
        "\n",
        "\n",
        "  if(adverserial_prediction != original_prediction):\n",
        "    misclassification_indexes.append(image_index)\n",
        "  print()\n",
        "  print('-------------------------------')\n",
        "\n",
        "print(misclassification_indexes)"
      ],
      "execution_count": 28,
      "outputs": [
        {
          "output_type": "stream",
          "name": "stdout",
          "text": [
            "-------------------------------\n",
            "\n",
            "[0. 0. 0. 1. 0. 0. 0. 0. 0. 0.]\n",
            "Original Sample\n",
            "Predicted Label - cat  Probability - 0.78703123\n",
            "True Label - cat\n",
            "\n",
            "Untargeted FGSM Adverserial Sample\n",
            "Predicted Label - dog  Probability - 0.53274536\n",
            "True Label - cat\n",
            "\n",
            "-------------------------------\n",
            "-------------------------------\n",
            "\n",
            "[0. 0. 0. 0. 0. 0. 0. 0. 1. 0.]\n",
            "Original Sample\n",
            "Predicted Label - ship  Probability - 0.91961604\n",
            "True Label - ship\n",
            "\n",
            "Untargeted FGSM Adverserial Sample\n",
            "Predicted Label - ship  Probability - 0.57325405\n",
            "True Label - ship\n",
            "\n",
            "-------------------------------\n",
            "-------------------------------\n",
            "\n",
            "[0. 0. 0. 0. 0. 0. 0. 0. 1. 0.]\n",
            "Original Sample\n",
            "Predicted Label - ship  Probability - 0.9972573\n",
            "True Label - ship\n",
            "\n",
            "Untargeted FGSM Adverserial Sample\n",
            "Predicted Label - ship  Probability - 0.9804607\n",
            "True Label - ship\n",
            "\n",
            "-------------------------------\n",
            "-------------------------------\n",
            "\n",
            "[1. 0. 0. 0. 0. 0. 0. 0. 0. 0.]\n",
            "Original Sample\n",
            "Predicted Label - airplane  Probability - 0.720281\n",
            "True Label - airplane\n",
            "\n",
            "Untargeted FGSM Adverserial Sample\n",
            "Predicted Label - ship  Probability - 0.7424666\n",
            "True Label - airplane\n",
            "\n",
            "-------------------------------\n",
            "-------------------------------\n",
            "\n",
            "[0. 0. 0. 0. 0. 0. 1. 0. 0. 0.]\n",
            "Original Sample\n",
            "Predicted Label - frog  Probability - 0.9657618\n",
            "True Label - frog\n",
            "\n",
            "Untargeted FGSM Adverserial Sample\n",
            "Predicted Label - frog  Probability - 0.84681684\n",
            "True Label - frog\n",
            "\n",
            "-------------------------------\n",
            "-------------------------------\n",
            "\n",
            "[0. 0. 0. 0. 0. 0. 1. 0. 0. 0.]\n",
            "Original Sample\n",
            "Predicted Label - frog  Probability - 0.99342805\n",
            "True Label - frog\n",
            "\n",
            "Untargeted FGSM Adverserial Sample\n",
            "Predicted Label - frog  Probability - 0.9613342\n",
            "True Label - frog\n",
            "\n",
            "-------------------------------\n",
            "-------------------------------\n",
            "\n",
            "[0. 1. 0. 0. 0. 0. 0. 0. 0. 0.]\n",
            "Original Sample\n",
            "Predicted Label - automobile  Probability - 0.55166876\n",
            "True Label - automobile\n",
            "\n",
            "Untargeted FGSM Adverserial Sample\n",
            "Predicted Label - truck  Probability - 0.8623632\n",
            "True Label - automobile\n",
            "\n",
            "-------------------------------\n",
            "-------------------------------\n",
            "\n",
            "[0. 0. 0. 0. 0. 0. 1. 0. 0. 0.]\n",
            "Original Sample\n",
            "Predicted Label - frog  Probability - 0.78973293\n",
            "True Label - frog\n",
            "\n",
            "Untargeted FGSM Adverserial Sample\n",
            "Predicted Label - bird  Probability - 0.48954087\n",
            "True Label - frog\n",
            "\n",
            "-------------------------------\n",
            "-------------------------------\n",
            "\n",
            "[0. 0. 0. 1. 0. 0. 0. 0. 0. 0.]\n",
            "Original Sample\n",
            "Predicted Label - cat  Probability - 0.8915759\n",
            "True Label - cat\n",
            "\n",
            "Untargeted FGSM Adverserial Sample\n",
            "Predicted Label - cat  Probability - 0.7757314\n",
            "True Label - cat\n",
            "\n",
            "-------------------------------\n",
            "-------------------------------\n",
            "\n",
            "[0. 1. 0. 0. 0. 0. 0. 0. 0. 0.]\n",
            "Original Sample\n",
            "Predicted Label - automobile  Probability - 0.92850614\n",
            "True Label - automobile\n",
            "\n",
            "Untargeted FGSM Adverserial Sample\n",
            "Predicted Label - automobile  Probability - 0.7227839\n",
            "True Label - automobile\n",
            "\n",
            "-------------------------------\n",
            "[]\n"
          ]
        }
      ]
    },
    {
      "cell_type": "code",
      "metadata": {
        "id": "tTrv-oz54zrv"
      },
      "source": [
        ""
      ],
      "execution_count": null,
      "outputs": []
    }
  ]
}