{
  "nbformat": 4,
  "nbformat_minor": 0,
  "metadata": {
    "accelerator": "GPU",
    "colab": {
      "name": "Test_bench.ipynb",
      "provenance": [],
      "authorship_tag": "ABX9TyPUJPDotI2a1TYeJYBWRiU7",
      "include_colab_link": true
    },
    "kernelspec": {
      "display_name": "Python 3",
      "name": "python3"
    },
    "language_info": {
      "name": "python"
    }
  },
  "cells": [
    {
      "cell_type": "markdown",
      "metadata": {
        "id": "view-in-github",
        "colab_type": "text"
      },
      "source": [
        "<a href=\"https://colab.research.google.com/github/kirath2205/Final-Year-Project/blob/Test_bench/Test_bench.ipynb\" target=\"_parent\"><img src=\"https://colab.research.google.com/assets/colab-badge.svg\" alt=\"Open In Colab\"/></a>"
      ]
    },
    {
      "cell_type": "code",
      "metadata": {
        "id": "dcyH2uCmqDOG"
      },
      "source": [
        "import keras,os\n",
        "import tensorflow as tf\n",
        "from keras.models import Sequential,Model\n",
        "from keras.layers import Input, Add, Dense, Activation, ZeroPadding2D, BatchNormalization, Flatten, Conv2D, AveragePooling2D, MaxPooling2D , Dropout\n",
        "import numpy as np\n",
        "from tensorflow import keras\n",
        "from keras.initializers import glorot_uniform\n",
        "from keras import applications\n",
        "from tensorflow.keras.applications.resnet50 import ResNet50 , preprocess_input\n",
        "from keras import regularizers\n"
      ],
      "execution_count": 1,
      "outputs": []
    },
    {
      "cell_type": "code",
      "metadata": {
        "colab": {
          "base_uri": "https://localhost:8080/"
        },
        "id": "vlBqJ6SIkZ0u",
        "outputId": "f898b1ea-6610-4941-992c-1d115820cffa"
      },
      "source": [
        "!pip install Keras-applications\n"
      ],
      "execution_count": 2,
      "outputs": [
        {
          "output_type": "stream",
          "name": "stdout",
          "text": [
            "Requirement already satisfied: Keras-applications in /usr/local/lib/python3.7/dist-packages (1.0.8)\n",
            "Requirement already satisfied: h5py in /usr/local/lib/python3.7/dist-packages (from Keras-applications) (3.1.0)\n",
            "Requirement already satisfied: numpy>=1.9.1 in /usr/local/lib/python3.7/dist-packages (from Keras-applications) (1.19.5)\n",
            "Requirement already satisfied: cached-property in /usr/local/lib/python3.7/dist-packages (from h5py->Keras-applications) (1.5.2)\n"
          ]
        }
      ]
    },
    {
      "cell_type": "code",
      "metadata": {
        "id": "uVVahuJ1t7HD"
      },
      "source": [
        "def select_dataset(index):\n",
        "\n",
        "  if(index==1):\n",
        "    fashion_mnist = tf.keras.datasets.fashion_mnist.load_data()\n",
        "    (X_train, y_train), (X_test, y_test) = fashion_mnist\n",
        "\n",
        "  elif(index==2):\n",
        "    cifar_10 = tf.keras.datasets.cifar10.load_data()\n",
        "    (X_train, y_train), (X_test, y_test) = cifar_10\n",
        "  \n",
        "  elif(index==3):\n",
        "    cifar_100 = tf.keras.datasets.cifar100.load_data()\n",
        "    (X_train, y_train), (X_test, y_test) = cifar_100\n",
        "    print(len(X_train))\n",
        "\n",
        "    \n",
        "  return X_train,y_train,X_test,y_test"
      ],
      "execution_count": 3,
      "outputs": []
    },
    {
      "cell_type": "code",
      "metadata": {
        "id": "iQV52_6GvrRS"
      },
      "source": [
        "def pre_processing_fashion_mnist(X_train,y_train,X_test,y_test,image_channel):\n",
        "  img_width = X_train.shape[1]\n",
        "  img_height = X_train.shape[2]\n",
        "  input_shape = (img_width, img_height, image_channel)\n",
        "  \n",
        "  # normalize data\n",
        "  X_train, X_test = X_train / 255, X_test / 255\n",
        "\n",
        "  # reshape input \n",
        "  X_train = X_train.reshape(X_train.shape[0], *input_shape)\n",
        "  X_test = X_test.reshape(X_test.shape[0], *input_shape)\n",
        "\n",
        "  # one-hot\n",
        "  y_train = tf.keras.utils.to_categorical(y_train)\n",
        "  y_test = tf.keras.utils.to_categorical(y_test)\n",
        "\n",
        "  return X_train,y_train,X_test,y_test,input_shape\n",
        "\n",
        "def pre_processing_cifar10(X_train,y_train,X_test,y_test,image_channel):\n",
        "  X_train = X_train.astype('float32')\n",
        "  X_test = X_test.astype('float32')\n",
        "\n",
        "  y_train = keras.utils.to_categorical(y_train)\n",
        "  y_test = keras.utils.to_categorical(y_test)\n",
        "\n",
        "  X_train = preprocess_input(X_train)\n",
        "  X_test = preprocess_input(X_test)\n",
        "\n",
        "  img_width = X_train[0].shape[0]\n",
        "  img_height = X_train[0].shape[1]\n",
        "  image_channel = image_channel\n",
        "\n",
        "  input_shape=(img_width,img_height,image_channel) \n",
        "  print(input_shape)\n",
        "  return X_train,y_train,X_test,y_test,input_shape\n",
        "  \n",
        "def pre_processing_cifar100(X_train,y_train,X_test,y_test,image_channel):\n",
        "  X_train = X_train.astype('float32')\n",
        "  X_test = X_test.astype('float32')\n",
        "  X_train = preprocess_input(X_train)\n",
        "  X_test = preprocess_input(X_test)\n",
        "\n",
        "  y_train = keras.utils.to_categorical(y_train)\n",
        "  y_test = keras.utils.to_categorical(y_test)\n",
        "\n",
        "  img_width = X_train[0].shape[0]\n",
        "  img_height = X_train[0].shape[1]\n",
        "  image_channel = image_channel\n",
        "\n",
        "  input_shape=(img_width,img_height,image_channel) \n",
        "  print(input_shape)\n",
        "  return X_train,y_train,X_test,y_test,input_shape"
      ],
      "execution_count": 4,
      "outputs": []
    },
    {
      "cell_type": "code",
      "metadata": {
        "id": "cDvpMVLzu3if"
      },
      "source": [
        "def define_model_vgg16(image_shape,total_classes):\n",
        "\n",
        "  model = Sequential()\n",
        "  weight_decay = 0.0005\n",
        "  learning_rate = 0.1\n",
        "  lr_decay = 1e-6\n",
        "  lr_drop = 20\n",
        "  model.add(Conv2D(64, (3, 3), padding='same',\n",
        "                 input_shape=image_shape,kernel_regularizer=regularizers.l2(weight_decay)))\n",
        "  model.add(Activation('relu'))\n",
        "  model.add(BatchNormalization())\n",
        "  model.add(Dropout(0.3))\n",
        "\n",
        "  model.add(Conv2D(64, (3, 3), padding='same',kernel_regularizer=regularizers.l2(weight_decay)))\n",
        "  model.add(Activation('relu'))\n",
        "  model.add(BatchNormalization())\n",
        "\n",
        "  model.add(MaxPooling2D(pool_size=(2, 2)))\n",
        "\n",
        "  model.add(Conv2D(128, (3, 3), padding='same',kernel_regularizer=regularizers.l2(weight_decay)))\n",
        "  model.add(Activation('relu'))\n",
        "  model.add(BatchNormalization())\n",
        "  model.add(Dropout(0.4))\n",
        "\n",
        "  model.add(Conv2D(128, (3, 3), padding='same',kernel_regularizer=regularizers.l2(weight_decay)))\n",
        "  model.add(Activation('relu'))\n",
        "  model.add(BatchNormalization())\n",
        "\n",
        "  model.add(MaxPooling2D(pool_size=(2, 2)))\n",
        "\n",
        "  model.add(Conv2D(256, (3, 3), padding='same',kernel_regularizer=regularizers.l2(weight_decay)))\n",
        "  model.add(Activation('relu'))\n",
        "  model.add(BatchNormalization())\n",
        "  model.add(Dropout(0.4))\n",
        "\n",
        "  model.add(Conv2D(256, (3, 3), padding='same',kernel_regularizer=regularizers.l2(weight_decay)))\n",
        "  model.add(Activation('relu'))\n",
        "  model.add(BatchNormalization())\n",
        "  model.add(Dropout(0.4))\n",
        "\n",
        "  model.add(Conv2D(256, (3, 3), padding='same',kernel_regularizer=regularizers.l2(weight_decay)))\n",
        "  model.add(Activation('relu'))\n",
        "  model.add(BatchNormalization())\n",
        "\n",
        "  model.add(MaxPooling2D(pool_size=(2, 2)))\n",
        "\n",
        "  model.add(Conv2D(512, (3, 3), padding='same',kernel_regularizer=regularizers.l2(weight_decay)))\n",
        "  model.add(Activation('relu'))\n",
        "  model.add(BatchNormalization())\n",
        "  model.add(Dropout(0.4))\n",
        "\n",
        "  model.add(Conv2D(512, (3, 3), padding='same',kernel_regularizer=regularizers.l2(weight_decay)))\n",
        "  model.add(Activation('relu'))\n",
        "  model.add(BatchNormalization())\n",
        "  model.add(Dropout(0.4))\n",
        "\n",
        "  model.add(Conv2D(512, (3, 3), padding='same',kernel_regularizer=regularizers.l2(weight_decay)))\n",
        "  model.add(Activation('relu'))\n",
        "  model.add(BatchNormalization())\n",
        "\n",
        "  model.add(MaxPooling2D(pool_size=(2, 2)))\n",
        "\n",
        "  model.add(Conv2D(512, (3, 3), padding='same',kernel_regularizer=regularizers.l2(weight_decay)))\n",
        "  model.add(Activation('relu'))\n",
        "  model.add(BatchNormalization())\n",
        "  model.add(Dropout(0.4))\n",
        "\n",
        "  model.add(Conv2D(512, (3, 3), padding='same',kernel_regularizer=regularizers.l2(weight_decay)))\n",
        "  model.add(Activation('relu'))\n",
        "  model.add(BatchNormalization())\n",
        "  model.add(Dropout(0.4))\n",
        "\n",
        "  model.add(Conv2D(512, (3, 3), padding='same',kernel_regularizer=regularizers.l2(weight_decay)))\n",
        "  model.add(Activation('relu'))\n",
        "  model.add(BatchNormalization())\n",
        "\n",
        "  model.add(MaxPooling2D(pool_size=(2, 2)))\n",
        "  model.add(Dropout(0.5))\n",
        "\n",
        "  model.add(Flatten())\n",
        "  model.add(Dense(512,kernel_regularizer=regularizers.l2(weight_decay)))\n",
        "  model.add(Activation('relu'))\n",
        "  model.add(BatchNormalization())\n",
        "\n",
        "  model.add(Dropout(0.5))\n",
        "  model.add(Dense(total_classes))\n",
        "  model.add(Activation('softmax'))\n",
        "  sgd = keras.optimizers.SGD(lr=learning_rate, decay=lr_decay, momentum=0.9, nesterov=True)\n",
        "  model.compile(optimizer=sgd, loss=keras.losses.categorical_crossentropy, metrics=['accuracy'])\n",
        "  \n",
        "  return model\n",
        "\n",
        "def define_model_standard_cnn(image_shape,total_classes):\n",
        "  initializer = tf.keras.initializers.HeUniform()\n",
        "  model = Sequential()\n",
        "  model.add(Conv2D(32,(3,3), activation = 'relu',  padding = 'same', input_shape = image_shape))\n",
        "  model.add(Conv2D(32,(3,3), activation = 'relu',  padding = 'same'))\n",
        "  model.add(MaxPooling2D((2,2)))\n",
        "  model.add(Dropout(0.2))  \n",
        "  model.add(Conv2D(64,(3,3), activation = 'relu',  padding = 'same'))\n",
        "  model.add(Conv2D(64,(3,3), activation = 'relu',  padding = 'same'))\n",
        "  model.add(MaxPooling2D((2,2)))\n",
        "  model.add(Dropout(0.2))\n",
        "  model.add(Conv2D(128,(3,3), activation = 'relu',  padding = 'same'))\n",
        "  model.add(Conv2D(128,(3,3), activation = 'relu',  padding = 'same'))\n",
        "  model.add(MaxPooling2D((2,2)))\n",
        "  model.add(Dropout(0.2))\n",
        "  model.add(Flatten())\n",
        "  model.add(Dense(128, activation = 'relu'))\n",
        "  model.add(Dense(total_classes, activation = 'softmax'))\n",
        "  opt = keras.optimizers.SGD(learning_rate=0.001 , momentum=0.9)\n",
        "  model.compile(optimizer=opt,loss=keras.losses.categorical_crossentropy,metrics=['accuracy'])\n",
        "  return model\n",
        "\n"
      ],
      "execution_count": 5,
      "outputs": []
    },
    {
      "cell_type": "code",
      "metadata": {
        "id": "89MAaxp2hqAR"
      },
      "source": [
        "def identity_block(x, filter):\n",
        "    # copy tensor to variable called x_skip\n",
        "    x_skip = x\n",
        "    # Layer 1\n",
        "    x = tf.keras.layers.Conv2D(filter, (3,3), padding = 'same')(x)\n",
        "    x = tf.keras.layers.BatchNormalization(axis=3)(x)\n",
        "    x = tf.keras.layers.Activation('relu')(x)\n",
        "    # Layer 2\n",
        "    x = tf.keras.layers.Conv2D(filter, (3,3), padding = 'same')(x)\n",
        "    x = tf.keras.layers.BatchNormalization(axis=3)(x)\n",
        "    # Add Residue\n",
        "    x = tf.keras.layers.Add()([x, x_skip])     \n",
        "    x = tf.keras.layers.Activation('relu')(x)\n",
        "    return x\n",
        "\n",
        "def convolutional_block(x, filter):\n",
        "    # copy tensor to variable called x_skip\n",
        "    x_skip = x\n",
        "    # Layer 1\n",
        "    x = tf.keras.layers.Conv2D(filter, (3,3), padding = 'same', strides = (2,2))(x)\n",
        "    x = tf.keras.layers.BatchNormalization(axis=3)(x)\n",
        "    x = tf.keras.layers.Activation('relu')(x)\n",
        "    # Layer 2\n",
        "    x = tf.keras.layers.Conv2D(filter, (3,3), padding = 'same')(x)\n",
        "    x = tf.keras.layers.BatchNormalization(axis=3)(x)\n",
        "    # Processing Residue with conv(1,1)\n",
        "    x_skip = tf.keras.layers.Conv2D(filter, (1,1), strides = (2,2))(x_skip)\n",
        "    # Add Residue\n",
        "    x = tf.keras.layers.Add()([x, x_skip])     \n",
        "    x = tf.keras.layers.Activation('relu')(x)\n",
        "    return x\n",
        "\n",
        "def ResNet34(shape, classes):\n",
        "    # Step 1 (Setup Input Layer)\n",
        "    x_input = tf.keras.layers.Input(shape)\n",
        "    x = tf.keras.layers.ZeroPadding2D((3, 3))(x_input)\n",
        "    # Step 2 (Initial Conv layer along with maxPool)\n",
        "    x = tf.keras.layers.Conv2D(64, kernel_size=7, strides=2, padding='same')(x)\n",
        "    x = tf.keras.layers.BatchNormalization()(x)\n",
        "    x = tf.keras.layers.Activation('relu')(x)\n",
        "    x = tf.keras.layers.MaxPool2D(pool_size=3, strides=2, padding='same')(x)\n",
        "    # Define size of sub-blocks and initial filter size\n",
        "    block_layers = [3, 4, 6, 3]\n",
        "    filter_size = 64\n",
        "    # Step 3 Add the Resnet Blocks\n",
        "    for i in range(4):\n",
        "        if i == 0:\n",
        "            # For sub-block 1 Residual/Convolutional block not needed\n",
        "            for j in range(block_layers[i]):\n",
        "                x = identity_block(x, filter_size)\n",
        "        else:\n",
        "            # One Residual/Convolutional Block followed by Identity blocks\n",
        "            # The filter size will go on increasing by a factor of 2\n",
        "            filter_size = filter_size*2\n",
        "            x = convolutional_block(x, filter_size)\n",
        "            for j in range(block_layers[i] - 1):\n",
        "                x = identity_block(x, filter_size)\n",
        "    # Step 4 End Dense Network\n",
        "    x = tf.keras.layers.AveragePooling2D((2,2), padding = 'same')(x)\n",
        "    x = tf.keras.layers.Flatten()(x)\n",
        "    x = tf.keras.layers.Dense(512, activation = 'relu')(x)\n",
        "    x = tf.keras.layers.Dense(classes, activation = 'softmax')(x)\n",
        "    model = tf.keras.models.Model(inputs = x_input, outputs = x, name = \"ResNet34\")\n",
        "    model.compile(optimizer='adam', loss='categorical_crossentropy', metrics=['accuracy'])\n",
        "    return model"
      ],
      "execution_count": 6,
      "outputs": []
    },
    {
      "cell_type": "code",
      "metadata": {
        "id": "zaRAX4NsO-qR"
      },
      "source": [
        ""
      ],
      "execution_count": 6,
      "outputs": []
    },
    {
      "cell_type": "code",
      "metadata": {
        "id": "Jgsl1X29yf2k"
      },
      "source": [
        "from keras.callbacks import ModelCheckpoint, EarlyStopping\n",
        "def train_model_vgg16(X_train,y_train,X_test,y_test,epochs=10,batch_size=128):\n",
        "  \n",
        "  callbacks = [ \n",
        "    tf.keras.callbacks.ModelCheckpoint('best_model_vgg16', monitor='val_accuracy', verbose=1, save_best_only=True),\n",
        "    tf.keras.callbacks.ReduceLROnPlateau( factor = 0.1, patience = 3, min_lr = 0.00001, verbose = 1 ),\n",
        "    tf.keras.callbacks.EarlyStopping(monitor = 'val_loss' , patience = 10)\n",
        "  ]\n",
        "  history=model.fit(X_train, y_train, epochs = epochs, batch_size = batch_size,callbacks = callbacks, verbose = 1,validation_data=(X_test,y_test))\n",
        "  return history\n",
        "\n",
        "def train_model_standard_cnn(X_train,y_train,X_test,y_test,epochs=10,batch_size=64):\n",
        "  callbacks = [ \n",
        "    tf.keras.callbacks.ModelCheckpoint('best_model_standard_cnn', monitor='val_accuracy', verbose=1, save_best_only=True),\n",
        "    tf.keras.callbacks.ReduceLROnPlateau( factor = 0.1, patience = 3, min_lr = 0.00001, verbose = 1 ),\n",
        "    tf.keras.callbacks.EarlyStopping(monitor = 'val_loss' , patience = 10)\n",
        "  ]\n",
        "  history=model.fit(X_train , y_train , epochs = epochs , validation_data=(X_test,y_test),batch_size=batch_size , callbacks = callbacks)\n",
        "  return history\n",
        "\n",
        "\n",
        "def train_model_resnet34(X_train,y_train,X_test,y_test,epochs=10):\n",
        "  callbacks = [ \n",
        "    tf.keras.callbacks.ModelCheckpoint('best_model_resnet50', monitor='val_accuracy', verbose=1, save_best_only=True),\n",
        "    tf.keras.callbacks.ReduceLROnPlateau( factor = 0.1, patience = 3, min_lr = 0.00001, verbose = 1 ),\n",
        "    tf.keras.callbacks.EarlyStopping(monitor = 'val_loss' , patience = 10)\n",
        "  ]\n",
        "  history=model.fit(X_train , y_train , epochs = epochs , validation_data=(X_test,y_test),batch_size= 64 , callbacks = callbacks)\n",
        "  return history"
      ],
      "execution_count": 7,
      "outputs": []
    },
    {
      "cell_type": "code",
      "metadata": {
        "id": "WeJvjs7VO9-u"
      },
      "source": [
        ""
      ],
      "execution_count": 14,
      "outputs": []
    },
    {
      "cell_type": "code",
      "metadata": {
        "id": "P6AWutrFy4V8"
      },
      "source": [
        "def make_prediction(model,X_test,index):\n",
        "\n",
        "  return model.predict(X_test(index))\n"
      ],
      "execution_count": 8,
      "outputs": []
    },
    {
      "cell_type": "code",
      "metadata": {
        "id": "0UiQLmEn1vuV",
        "colab": {
          "base_uri": "https://localhost:8080/",
          "height": 1000
        },
        "outputId": "5545cc98-2dc7-4065-f087-1cf9259c3f06"
      },
      "source": [
        "\n",
        "'''X_train,y_train,X_test,y_test=select_dataset(1)\n",
        "X_train,y_train,X_test,y_test,image_shape=pre_processing_fashion_mnist(X_train,y_train,X_test,y_test,1)\n",
        "model=define_model(image_shape,10)\n",
        "train_model(X_train,y_train,X_test,y_test)'''\n",
        "\n",
        "X_train,y_train,X_test,y_test=select_dataset(2)\n",
        "X_train,y_train,X_test,y_test,image_shape=pre_processing_cifar10(X_train,y_train,X_test,y_test,3)\n",
        "model=define_model_standard_cnn(image_shape,10)\n",
        "history_cnn_model = train_model_standard_cnn(X_train,y_train,X_test,y_test,epochs=100)\n",
        "model.save('/content/checkpoint/cnn_model.h5')\n",
        "\n",
        "X_train,y_train,X_test,y_test=select_dataset(2)\n",
        "X_train,y_train,X_test,y_test,image_shape=pre_processing_cifar10(X_train,y_train,X_test,y_test,3)\n",
        "model=ResNet34(image_shape,10)\n",
        "history_resnet=train_model_resnet34(X_train,y_train,X_test,y_test,epochs=100)\n",
        "model.save('/content/checkpoint/resnet.h5')\n",
        "\n",
        "X_train,y_train,X_test,y_test=select_dataset(2)\n",
        "X_train,y_train,X_test,y_test,image_shape=pre_processing_cifar10(X_train,y_train,X_test,y_test,3)\n",
        "model=define_model_vgg16(image_shape,10)\n",
        "history_vgg16=train_model_vgg16(X_train,y_train,X_test,y_test,epochs=100)\n",
        "model.save('/content/checkpoint/vgg16.h5')\n",
        "\n",
        "'''X_train,y_train,X_test,y_test=select_dataset(3)\n",
        "X_train,y_train,X_test,y_test,image_shape=pre_processing_cifar100(X_train,y_train,X_test,y_test,3)\n",
        "model=ResNet34(image_shape,100)\n",
        "history=train_model_resnet34(X_train,y_train,X_test,y_test,epochs=100)'''"
      ],
      "execution_count": 9,
      "outputs": [
        {
          "output_type": "stream",
          "name": "stdout",
          "text": [
            "(32, 32, 3)\n",
            "Epoch 1/100\n",
            "782/782 [==============================] - 19s 22ms/step - loss: 1.8868 - accuracy: 0.3138 - val_loss: 1.4777 - val_accuracy: 0.4637\n",
            "\n",
            "Epoch 00001: val_accuracy improved from -inf to 0.46370, saving model to best_model_standard_cnn\n",
            "INFO:tensorflow:Assets written to: best_model_standard_cnn/assets\n",
            "Epoch 2/100\n",
            "782/782 [==============================] - 16s 21ms/step - loss: 1.4190 - accuracy: 0.4887 - val_loss: 1.2534 - val_accuracy: 0.5491\n",
            "\n",
            "Epoch 00002: val_accuracy improved from 0.46370 to 0.54910, saving model to best_model_standard_cnn\n",
            "INFO:tensorflow:Assets written to: best_model_standard_cnn/assets\n",
            "Epoch 3/100\n",
            "782/782 [==============================] - 17s 21ms/step - loss: 1.2521 - accuracy: 0.5524 - val_loss: 1.1627 - val_accuracy: 0.5883\n",
            "\n",
            "Epoch 00003: val_accuracy improved from 0.54910 to 0.58830, saving model to best_model_standard_cnn\n",
            "INFO:tensorflow:Assets written to: best_model_standard_cnn/assets\n",
            "Epoch 4/100\n",
            "782/782 [==============================] - 17s 22ms/step - loss: 1.1295 - accuracy: 0.6025 - val_loss: 1.0613 - val_accuracy: 0.6301\n",
            "\n",
            "Epoch 00004: val_accuracy improved from 0.58830 to 0.63010, saving model to best_model_standard_cnn\n",
            "INFO:tensorflow:Assets written to: best_model_standard_cnn/assets\n",
            "Epoch 5/100\n",
            "782/782 [==============================] - 17s 21ms/step - loss: 1.0354 - accuracy: 0.6349 - val_loss: 0.9690 - val_accuracy: 0.6572\n",
            "\n",
            "Epoch 00005: val_accuracy improved from 0.63010 to 0.65720, saving model to best_model_standard_cnn\n",
            "INFO:tensorflow:Assets written to: best_model_standard_cnn/assets\n",
            "Epoch 6/100\n",
            "782/782 [==============================] - 17s 21ms/step - loss: 0.9629 - accuracy: 0.6652 - val_loss: 0.8910 - val_accuracy: 0.6950\n",
            "\n",
            "Epoch 00006: val_accuracy improved from 0.65720 to 0.69500, saving model to best_model_standard_cnn\n",
            "INFO:tensorflow:Assets written to: best_model_standard_cnn/assets\n",
            "Epoch 7/100\n",
            "782/782 [==============================] - 17s 21ms/step - loss: 0.8953 - accuracy: 0.6907 - val_loss: 0.8475 - val_accuracy: 0.7052\n",
            "\n",
            "Epoch 00007: val_accuracy improved from 0.69500 to 0.70520, saving model to best_model_standard_cnn\n",
            "INFO:tensorflow:Assets written to: best_model_standard_cnn/assets\n",
            "Epoch 8/100\n",
            "782/782 [==============================] - 17s 21ms/step - loss: 0.8441 - accuracy: 0.7075 - val_loss: 0.8536 - val_accuracy: 0.7029\n",
            "\n",
            "Epoch 00008: val_accuracy did not improve from 0.70520\n",
            "Epoch 9/100\n",
            "782/782 [==============================] - 17s 21ms/step - loss: 0.8045 - accuracy: 0.7200 - val_loss: 0.7794 - val_accuracy: 0.7293\n",
            "\n",
            "Epoch 00009: val_accuracy improved from 0.70520 to 0.72930, saving model to best_model_standard_cnn\n",
            "INFO:tensorflow:Assets written to: best_model_standard_cnn/assets\n",
            "Epoch 10/100\n",
            "782/782 [==============================] - 17s 21ms/step - loss: 0.7644 - accuracy: 0.7333 - val_loss: 0.7458 - val_accuracy: 0.7429\n",
            "\n",
            "Epoch 00010: val_accuracy improved from 0.72930 to 0.74290, saving model to best_model_standard_cnn\n",
            "INFO:tensorflow:Assets written to: best_model_standard_cnn/assets\n",
            "Epoch 11/100\n",
            "782/782 [==============================] - 17s 21ms/step - loss: 0.7315 - accuracy: 0.7471 - val_loss: 0.7136 - val_accuracy: 0.7559\n",
            "\n",
            "Epoch 00011: val_accuracy improved from 0.74290 to 0.75590, saving model to best_model_standard_cnn\n",
            "INFO:tensorflow:Assets written to: best_model_standard_cnn/assets\n",
            "Epoch 12/100\n",
            "782/782 [==============================] - 17s 21ms/step - loss: 0.7025 - accuracy: 0.7569 - val_loss: 0.6911 - val_accuracy: 0.7646\n",
            "\n",
            "Epoch 00012: val_accuracy improved from 0.75590 to 0.76460, saving model to best_model_standard_cnn\n",
            "INFO:tensorflow:Assets written to: best_model_standard_cnn/assets\n",
            "Epoch 13/100\n",
            "782/782 [==============================] - 17s 21ms/step - loss: 0.6741 - accuracy: 0.7643 - val_loss: 0.7166 - val_accuracy: 0.7556\n",
            "\n",
            "Epoch 00013: val_accuracy did not improve from 0.76460\n",
            "Epoch 14/100\n",
            "782/782 [==============================] - 17s 21ms/step - loss: 0.6550 - accuracy: 0.7730 - val_loss: 0.6778 - val_accuracy: 0.7686\n",
            "\n",
            "Epoch 00014: val_accuracy improved from 0.76460 to 0.76860, saving model to best_model_standard_cnn\n",
            "INFO:tensorflow:Assets written to: best_model_standard_cnn/assets\n",
            "Epoch 15/100\n",
            "782/782 [==============================] - 17s 21ms/step - loss: 0.6303 - accuracy: 0.7805 - val_loss: 0.6756 - val_accuracy: 0.7681\n",
            "\n",
            "Epoch 00015: val_accuracy did not improve from 0.76860\n",
            "Epoch 16/100\n",
            "782/782 [==============================] - 17s 21ms/step - loss: 0.6098 - accuracy: 0.7884 - val_loss: 0.6494 - val_accuracy: 0.7826\n",
            "\n",
            "Epoch 00016: val_accuracy improved from 0.76860 to 0.78260, saving model to best_model_standard_cnn\n",
            "INFO:tensorflow:Assets written to: best_model_standard_cnn/assets\n",
            "Epoch 17/100\n",
            "782/782 [==============================] - 17s 21ms/step - loss: 0.5883 - accuracy: 0.7954 - val_loss: 0.6322 - val_accuracy: 0.7840\n",
            "\n",
            "Epoch 00017: val_accuracy improved from 0.78260 to 0.78400, saving model to best_model_standard_cnn\n",
            "INFO:tensorflow:Assets written to: best_model_standard_cnn/assets\n",
            "Epoch 18/100\n",
            "782/782 [==============================] - 16s 21ms/step - loss: 0.5746 - accuracy: 0.7996 - val_loss: 0.6114 - val_accuracy: 0.7949\n",
            "\n",
            "Epoch 00018: val_accuracy improved from 0.78400 to 0.79490, saving model to best_model_standard_cnn\n",
            "INFO:tensorflow:Assets written to: best_model_standard_cnn/assets\n",
            "Epoch 19/100\n",
            "782/782 [==============================] - 17s 21ms/step - loss: 0.5567 - accuracy: 0.8068 - val_loss: 0.6271 - val_accuracy: 0.7853\n",
            "\n",
            "Epoch 00019: val_accuracy did not improve from 0.79490\n",
            "Epoch 20/100\n",
            "782/782 [==============================] - 17s 21ms/step - loss: 0.5396 - accuracy: 0.8129 - val_loss: 0.6098 - val_accuracy: 0.7934\n",
            "\n",
            "Epoch 00020: val_accuracy did not improve from 0.79490\n",
            "Epoch 21/100\n",
            "782/782 [==============================] - 17s 21ms/step - loss: 0.5246 - accuracy: 0.8177 - val_loss: 0.6189 - val_accuracy: 0.7966\n",
            "\n",
            "Epoch 00021: val_accuracy improved from 0.79490 to 0.79660, saving model to best_model_standard_cnn\n",
            "INFO:tensorflow:Assets written to: best_model_standard_cnn/assets\n",
            "Epoch 22/100\n",
            "782/782 [==============================] - 17s 21ms/step - loss: 0.5106 - accuracy: 0.8216 - val_loss: 0.6224 - val_accuracy: 0.7910\n",
            "\n",
            "Epoch 00022: val_accuracy did not improve from 0.79660\n",
            "Epoch 23/100\n",
            "782/782 [==============================] - 16s 21ms/step - loss: 0.4985 - accuracy: 0.8270 - val_loss: 0.6405 - val_accuracy: 0.7893\n",
            "\n",
            "Epoch 00023: val_accuracy did not improve from 0.79660\n",
            "\n",
            "Epoch 00023: ReduceLROnPlateau reducing learning rate to 0.00010000000474974513.\n",
            "Epoch 24/100\n",
            "782/782 [==============================] - 16s 21ms/step - loss: 0.4334 - accuracy: 0.8479 - val_loss: 0.5737 - val_accuracy: 0.8156\n",
            "\n",
            "Epoch 00024: val_accuracy improved from 0.79660 to 0.81560, saving model to best_model_standard_cnn\n",
            "INFO:tensorflow:Assets written to: best_model_standard_cnn/assets\n",
            "Epoch 25/100\n",
            "782/782 [==============================] - 16s 21ms/step - loss: 0.4092 - accuracy: 0.8566 - val_loss: 0.5681 - val_accuracy: 0.8180\n",
            "\n",
            "Epoch 00025: val_accuracy improved from 0.81560 to 0.81800, saving model to best_model_standard_cnn\n",
            "INFO:tensorflow:Assets written to: best_model_standard_cnn/assets\n",
            "Epoch 26/100\n",
            "782/782 [==============================] - 16s 21ms/step - loss: 0.3996 - accuracy: 0.8592 - val_loss: 0.5720 - val_accuracy: 0.8149\n",
            "\n",
            "Epoch 00026: val_accuracy did not improve from 0.81800\n",
            "Epoch 27/100\n",
            "782/782 [==============================] - 17s 21ms/step - loss: 0.3922 - accuracy: 0.8623 - val_loss: 0.5656 - val_accuracy: 0.8166\n",
            "\n",
            "Epoch 00027: val_accuracy did not improve from 0.81800\n",
            "Epoch 28/100\n",
            "782/782 [==============================] - 17s 21ms/step - loss: 0.3905 - accuracy: 0.8614 - val_loss: 0.5654 - val_accuracy: 0.8190\n",
            "\n",
            "Epoch 00028: val_accuracy improved from 0.81800 to 0.81900, saving model to best_model_standard_cnn\n",
            "INFO:tensorflow:Assets written to: best_model_standard_cnn/assets\n",
            "Epoch 29/100\n",
            "782/782 [==============================] - 17s 21ms/step - loss: 0.3892 - accuracy: 0.8632 - val_loss: 0.5650 - val_accuracy: 0.8165\n",
            "\n",
            "Epoch 00029: val_accuracy did not improve from 0.81900\n",
            "Epoch 30/100\n",
            "782/782 [==============================] - 17s 21ms/step - loss: 0.3825 - accuracy: 0.8655 - val_loss: 0.5654 - val_accuracy: 0.8192\n",
            "\n",
            "Epoch 00030: val_accuracy improved from 0.81900 to 0.81920, saving model to best_model_standard_cnn\n",
            "INFO:tensorflow:Assets written to: best_model_standard_cnn/assets\n",
            "Epoch 31/100\n",
            "782/782 [==============================] - 17s 21ms/step - loss: 0.3796 - accuracy: 0.8658 - val_loss: 0.5689 - val_accuracy: 0.8179\n",
            "\n",
            "Epoch 00031: val_accuracy did not improve from 0.81920\n",
            "Epoch 32/100\n",
            "782/782 [==============================] - 17s 21ms/step - loss: 0.3787 - accuracy: 0.8660 - val_loss: 0.5723 - val_accuracy: 0.8168\n",
            "\n",
            "Epoch 00032: val_accuracy did not improve from 0.81920\n",
            "\n",
            "Epoch 00032: ReduceLROnPlateau reducing learning rate to 1.0000000474974514e-05.\n",
            "Epoch 33/100\n",
            "782/782 [==============================] - 17s 21ms/step - loss: 0.3702 - accuracy: 0.8697 - val_loss: 0.5664 - val_accuracy: 0.8191\n",
            "\n",
            "Epoch 00033: val_accuracy did not improve from 0.81920\n",
            "Epoch 34/100\n",
            "782/782 [==============================] - 17s 21ms/step - loss: 0.3698 - accuracy: 0.8694 - val_loss: 0.5659 - val_accuracy: 0.8188\n",
            "\n",
            "Epoch 00034: val_accuracy did not improve from 0.81920\n",
            "Epoch 35/100\n",
            "782/782 [==============================] - 17s 21ms/step - loss: 0.3641 - accuracy: 0.8711 - val_loss: 0.5658 - val_accuracy: 0.8185\n",
            "\n",
            "Epoch 00035: val_accuracy did not improve from 0.81920\n",
            "\n",
            "Epoch 00035: ReduceLROnPlateau reducing learning rate to 1e-05.\n",
            "Epoch 36/100\n",
            "782/782 [==============================] - 17s 21ms/step - loss: 0.3640 - accuracy: 0.8706 - val_loss: 0.5665 - val_accuracy: 0.8192\n",
            "\n",
            "Epoch 00036: val_accuracy did not improve from 0.81920\n",
            "Epoch 37/100\n",
            "782/782 [==============================] - 17s 21ms/step - loss: 0.3690 - accuracy: 0.8695 - val_loss: 0.5650 - val_accuracy: 0.8190\n",
            "\n",
            "Epoch 00037: val_accuracy did not improve from 0.81920\n",
            "Epoch 38/100\n",
            "782/782 [==============================] - 17s 21ms/step - loss: 0.3671 - accuracy: 0.8707 - val_loss: 0.5655 - val_accuracy: 0.8178\n",
            "\n",
            "Epoch 00038: val_accuracy did not improve from 0.81920\n",
            "Epoch 39/100\n",
            "782/782 [==============================] - 17s 21ms/step - loss: 0.3653 - accuracy: 0.8705 - val_loss: 0.5662 - val_accuracy: 0.8193\n",
            "\n",
            "Epoch 00039: val_accuracy improved from 0.81920 to 0.81930, saving model to best_model_standard_cnn\n",
            "INFO:tensorflow:Assets written to: best_model_standard_cnn/assets\n",
            "(32, 32, 3)\n",
            "Epoch 1/100\n",
            "782/782 [==============================] - 104s 126ms/step - loss: 1.5773 - accuracy: 0.4248 - val_loss: 1.3083 - val_accuracy: 0.5457\n",
            "\n",
            "Epoch 00001: val_accuracy improved from -inf to 0.54570, saving model to best_model_resnet50\n",
            "INFO:tensorflow:Assets written to: best_model_resnet50/assets\n"
          ]
        },
        {
          "output_type": "stream",
          "name": "stderr",
          "text": [
            "/usr/local/lib/python3.7/dist-packages/keras/utils/generic_utils.py:497: CustomMaskWarning: Custom mask layers require a config and must override get_config. When loading, the custom mask layer must be passed to the custom_objects argument.\n",
            "  category=CustomMaskWarning)\n"
          ]
        },
        {
          "output_type": "stream",
          "name": "stdout",
          "text": [
            "Epoch 2/100\n",
            "782/782 [==============================] - 97s 124ms/step - loss: 1.1100 - accuracy: 0.6079 - val_loss: 1.1638 - val_accuracy: 0.6132\n",
            "\n",
            "Epoch 00002: val_accuracy improved from 0.54570 to 0.61320, saving model to best_model_resnet50\n",
            "INFO:tensorflow:Assets written to: best_model_resnet50/assets\n"
          ]
        },
        {
          "output_type": "stream",
          "name": "stderr",
          "text": [
            "/usr/local/lib/python3.7/dist-packages/keras/utils/generic_utils.py:497: CustomMaskWarning: Custom mask layers require a config and must override get_config. When loading, the custom mask layer must be passed to the custom_objects argument.\n",
            "  category=CustomMaskWarning)\n"
          ]
        },
        {
          "output_type": "stream",
          "name": "stdout",
          "text": [
            "Epoch 3/100\n",
            "782/782 [==============================] - 97s 125ms/step - loss: 0.9043 - accuracy: 0.6864 - val_loss: 1.1199 - val_accuracy: 0.6398\n",
            "\n",
            "Epoch 00003: val_accuracy improved from 0.61320 to 0.63980, saving model to best_model_resnet50\n",
            "INFO:tensorflow:Assets written to: best_model_resnet50/assets\n"
          ]
        },
        {
          "output_type": "stream",
          "name": "stderr",
          "text": [
            "/usr/local/lib/python3.7/dist-packages/keras/utils/generic_utils.py:497: CustomMaskWarning: Custom mask layers require a config and must override get_config. When loading, the custom mask layer must be passed to the custom_objects argument.\n",
            "  category=CustomMaskWarning)\n"
          ]
        },
        {
          "output_type": "stream",
          "name": "stdout",
          "text": [
            "Epoch 4/100\n",
            "782/782 [==============================] - 96s 123ms/step - loss: 0.7593 - accuracy: 0.7363 - val_loss: 0.9071 - val_accuracy: 0.6995\n",
            "\n",
            "Epoch 00004: val_accuracy improved from 0.63980 to 0.69950, saving model to best_model_resnet50\n",
            "INFO:tensorflow:Assets written to: best_model_resnet50/assets\n"
          ]
        },
        {
          "output_type": "stream",
          "name": "stderr",
          "text": [
            "/usr/local/lib/python3.7/dist-packages/keras/utils/generic_utils.py:497: CustomMaskWarning: Custom mask layers require a config and must override get_config. When loading, the custom mask layer must be passed to the custom_objects argument.\n",
            "  category=CustomMaskWarning)\n"
          ]
        },
        {
          "output_type": "stream",
          "name": "stdout",
          "text": [
            "Epoch 5/100\n",
            "782/782 [==============================] - 96s 123ms/step - loss: 0.6481 - accuracy: 0.7765 - val_loss: 0.8354 - val_accuracy: 0.7245\n",
            "\n",
            "Epoch 00005: val_accuracy improved from 0.69950 to 0.72450, saving model to best_model_resnet50\n",
            "INFO:tensorflow:Assets written to: best_model_resnet50/assets\n"
          ]
        },
        {
          "output_type": "stream",
          "name": "stderr",
          "text": [
            "/usr/local/lib/python3.7/dist-packages/keras/utils/generic_utils.py:497: CustomMaskWarning: Custom mask layers require a config and must override get_config. When loading, the custom mask layer must be passed to the custom_objects argument.\n",
            "  category=CustomMaskWarning)\n"
          ]
        },
        {
          "output_type": "stream",
          "name": "stdout",
          "text": [
            "Epoch 6/100\n",
            "782/782 [==============================] - 96s 123ms/step - loss: 0.5551 - accuracy: 0.8085 - val_loss: 0.7720 - val_accuracy: 0.7506\n",
            "\n",
            "Epoch 00006: val_accuracy improved from 0.72450 to 0.75060, saving model to best_model_resnet50\n",
            "INFO:tensorflow:Assets written to: best_model_resnet50/assets\n"
          ]
        },
        {
          "output_type": "stream",
          "name": "stderr",
          "text": [
            "/usr/local/lib/python3.7/dist-packages/keras/utils/generic_utils.py:497: CustomMaskWarning: Custom mask layers require a config and must override get_config. When loading, the custom mask layer must be passed to the custom_objects argument.\n",
            "  category=CustomMaskWarning)\n"
          ]
        },
        {
          "output_type": "stream",
          "name": "stdout",
          "text": [
            "Epoch 7/100\n",
            "782/782 [==============================] - 96s 123ms/step - loss: 0.4492 - accuracy: 0.8453 - val_loss: 0.8933 - val_accuracy: 0.7212\n",
            "\n",
            "Epoch 00007: val_accuracy did not improve from 0.75060\n",
            "Epoch 8/100\n",
            "782/782 [==============================] - 97s 124ms/step - loss: 0.3664 - accuracy: 0.8735 - val_loss: 0.8201 - val_accuracy: 0.7547\n",
            "\n",
            "Epoch 00008: val_accuracy improved from 0.75060 to 0.75470, saving model to best_model_resnet50\n",
            "INFO:tensorflow:Assets written to: best_model_resnet50/assets\n"
          ]
        },
        {
          "output_type": "stream",
          "name": "stderr",
          "text": [
            "/usr/local/lib/python3.7/dist-packages/keras/utils/generic_utils.py:497: CustomMaskWarning: Custom mask layers require a config and must override get_config. When loading, the custom mask layer must be passed to the custom_objects argument.\n",
            "  category=CustomMaskWarning)\n"
          ]
        },
        {
          "output_type": "stream",
          "name": "stdout",
          "text": [
            "Epoch 9/100\n",
            "782/782 [==============================] - 96s 123ms/step - loss: 0.2924 - accuracy: 0.9010 - val_loss: 0.8319 - val_accuracy: 0.7580\n",
            "\n",
            "Epoch 00009: val_accuracy improved from 0.75470 to 0.75800, saving model to best_model_resnet50\n",
            "INFO:tensorflow:Assets written to: best_model_resnet50/assets\n"
          ]
        },
        {
          "output_type": "stream",
          "name": "stderr",
          "text": [
            "/usr/local/lib/python3.7/dist-packages/keras/utils/generic_utils.py:497: CustomMaskWarning: Custom mask layers require a config and must override get_config. When loading, the custom mask layer must be passed to the custom_objects argument.\n",
            "  category=CustomMaskWarning)\n"
          ]
        },
        {
          "output_type": "stream",
          "name": "stdout",
          "text": [
            "\n",
            "Epoch 00009: ReduceLROnPlateau reducing learning rate to 0.00010000000474974513.\n",
            "Epoch 10/100\n",
            "782/782 [==============================] - 96s 123ms/step - loss: 0.1012 - accuracy: 0.9671 - val_loss: 0.8533 - val_accuracy: 0.7979\n",
            "\n",
            "Epoch 00010: val_accuracy improved from 0.75800 to 0.79790, saving model to best_model_resnet50\n",
            "INFO:tensorflow:Assets written to: best_model_resnet50/assets\n"
          ]
        },
        {
          "output_type": "stream",
          "name": "stderr",
          "text": [
            "/usr/local/lib/python3.7/dist-packages/keras/utils/generic_utils.py:497: CustomMaskWarning: Custom mask layers require a config and must override get_config. When loading, the custom mask layer must be passed to the custom_objects argument.\n",
            "  category=CustomMaskWarning)\n"
          ]
        },
        {
          "output_type": "stream",
          "name": "stdout",
          "text": [
            "Epoch 11/100\n",
            "782/782 [==============================] - 97s 124ms/step - loss: 0.0486 - accuracy: 0.9855 - val_loss: 0.9895 - val_accuracy: 0.7954\n",
            "\n",
            "Epoch 00011: val_accuracy did not improve from 0.79790\n",
            "Epoch 12/100\n",
            "782/782 [==============================] - 97s 123ms/step - loss: 0.0261 - accuracy: 0.9930 - val_loss: 1.1281 - val_accuracy: 0.7915\n",
            "\n",
            "Epoch 00012: val_accuracy did not improve from 0.79790\n",
            "\n",
            "Epoch 00012: ReduceLROnPlateau reducing learning rate to 1.0000000474974514e-05.\n",
            "Epoch 13/100\n",
            "782/782 [==============================] - 97s 124ms/step - loss: 0.0133 - accuracy: 0.9969 - val_loss: 1.1425 - val_accuracy: 0.7943\n",
            "\n",
            "Epoch 00013: val_accuracy did not improve from 0.79790\n",
            "Epoch 14/100\n",
            "782/782 [==============================] - 96s 123ms/step - loss: 0.0112 - accuracy: 0.9976 - val_loss: 1.1808 - val_accuracy: 0.7950\n",
            "\n",
            "Epoch 00014: val_accuracy did not improve from 0.79790\n",
            "Epoch 15/100\n",
            "782/782 [==============================] - 96s 123ms/step - loss: 0.0092 - accuracy: 0.9979 - val_loss: 1.2172 - val_accuracy: 0.7960\n",
            "\n",
            "Epoch 00015: val_accuracy did not improve from 0.79790\n",
            "\n",
            "Epoch 00015: ReduceLROnPlateau reducing learning rate to 1e-05.\n",
            "Epoch 16/100\n",
            "782/782 [==============================] - 96s 123ms/step - loss: 0.0077 - accuracy: 0.9986 - val_loss: 1.2511 - val_accuracy: 0.7961\n",
            "\n",
            "Epoch 00016: val_accuracy did not improve from 0.79790\n",
            "(32, 32, 3)\n"
          ]
        },
        {
          "output_type": "stream",
          "name": "stderr",
          "text": [
            "/usr/local/lib/python3.7/dist-packages/keras/optimizer_v2/optimizer_v2.py:356: UserWarning: The `lr` argument is deprecated, use `learning_rate` instead.\n",
            "  \"The `lr` argument is deprecated, use `learning_rate` instead.\")\n"
          ]
        },
        {
          "output_type": "stream",
          "name": "stdout",
          "text": [
            "Epoch 1/100\n",
            "391/391 [==============================] - 68s 160ms/step - loss: 20.7064 - accuracy: 0.1840 - val_loss: 17.0667 - val_accuracy: 0.1132\n",
            "\n",
            "Epoch 00001: val_accuracy improved from -inf to 0.11320, saving model to best_model_vgg16\n",
            "INFO:tensorflow:Assets written to: best_model_vgg16/assets\n",
            "Epoch 2/100\n",
            "391/391 [==============================] - 60s 154ms/step - loss: 10.6648 - accuracy: 0.2921 - val_loss: 9.2152 - val_accuracy: 0.1284\n",
            "\n",
            "Epoch 00002: val_accuracy improved from 0.11320 to 0.12840, saving model to best_model_vgg16\n",
            "INFO:tensorflow:Assets written to: best_model_vgg16/assets\n",
            "Epoch 3/100\n",
            "391/391 [==============================] - 60s 154ms/step - loss: 5.7675 - accuracy: 0.3872 - val_loss: 5.4502 - val_accuracy: 0.2040\n",
            "\n",
            "Epoch 00003: val_accuracy improved from 0.12840 to 0.20400, saving model to best_model_vgg16\n",
            "INFO:tensorflow:Assets written to: best_model_vgg16/assets\n",
            "Epoch 4/100\n",
            "391/391 [==============================] - 60s 154ms/step - loss: 3.4350 - accuracy: 0.5036 - val_loss: 3.4340 - val_accuracy: 0.3344\n",
            "\n",
            "Epoch 00004: val_accuracy improved from 0.20400 to 0.33440, saving model to best_model_vgg16\n",
            "INFO:tensorflow:Assets written to: best_model_vgg16/assets\n",
            "Epoch 5/100\n",
            "391/391 [==============================] - 60s 154ms/step - loss: 2.3257 - accuracy: 0.5895 - val_loss: 2.1823 - val_accuracy: 0.5681\n",
            "\n",
            "Epoch 00005: val_accuracy improved from 0.33440 to 0.56810, saving model to best_model_vgg16\n",
            "INFO:tensorflow:Assets written to: best_model_vgg16/assets\n",
            "Epoch 6/100\n",
            "391/391 [==============================] - 60s 154ms/step - loss: 1.8258 - accuracy: 0.6437 - val_loss: 1.8093 - val_accuracy: 0.6171\n",
            "\n",
            "Epoch 00006: val_accuracy improved from 0.56810 to 0.61710, saving model to best_model_vgg16\n",
            "INFO:tensorflow:Assets written to: best_model_vgg16/assets\n",
            "Epoch 7/100\n",
            "391/391 [==============================] - 60s 154ms/step - loss: 1.6016 - accuracy: 0.6829 - val_loss: 1.5273 - val_accuracy: 0.7010\n",
            "\n",
            "Epoch 00007: val_accuracy improved from 0.61710 to 0.70100, saving model to best_model_vgg16\n",
            "INFO:tensorflow:Assets written to: best_model_vgg16/assets\n",
            "Epoch 8/100\n",
            "391/391 [==============================] - 60s 154ms/step - loss: 1.5019 - accuracy: 0.7070 - val_loss: 1.5945 - val_accuracy: 0.6688\n",
            "\n",
            "Epoch 00008: val_accuracy did not improve from 0.70100\n",
            "Epoch 9/100\n",
            "391/391 [==============================] - 61s 155ms/step - loss: 1.4645 - accuracy: 0.7230 - val_loss: 1.4957 - val_accuracy: 0.7057\n",
            "\n",
            "Epoch 00009: val_accuracy improved from 0.70100 to 0.70570, saving model to best_model_vgg16\n",
            "INFO:tensorflow:Assets written to: best_model_vgg16/assets\n",
            "Epoch 10/100\n",
            "391/391 [==============================] - 61s 155ms/step - loss: 1.4347 - accuracy: 0.7381 - val_loss: 3.9893 - val_accuracy: 0.5722\n",
            "\n",
            "Epoch 00010: val_accuracy did not improve from 0.70570\n",
            "Epoch 11/100\n",
            "391/391 [==============================] - 61s 155ms/step - loss: 1.4400 - accuracy: 0.7478 - val_loss: 1.5739 - val_accuracy: 0.7041\n",
            "\n",
            "Epoch 00011: val_accuracy did not improve from 0.70570\n",
            "Epoch 12/100\n",
            "391/391 [==============================] - 60s 155ms/step - loss: 1.4297 - accuracy: 0.7567 - val_loss: 1.4190 - val_accuracy: 0.7694\n",
            "\n",
            "Epoch 00012: val_accuracy improved from 0.70570 to 0.76940, saving model to best_model_vgg16\n",
            "INFO:tensorflow:Assets written to: best_model_vgg16/assets\n",
            "Epoch 13/100\n",
            "391/391 [==============================] - 60s 154ms/step - loss: 1.4302 - accuracy: 0.7628 - val_loss: 1.4077 - val_accuracy: 0.7686\n",
            "\n",
            "Epoch 00013: val_accuracy did not improve from 0.76940\n",
            "Epoch 14/100\n",
            "391/391 [==============================] - 60s 154ms/step - loss: 1.4294 - accuracy: 0.7685 - val_loss: 1.4664 - val_accuracy: 0.7548\n",
            "\n",
            "Epoch 00014: val_accuracy did not improve from 0.76940\n",
            "Epoch 15/100\n",
            "391/391 [==============================] - 60s 154ms/step - loss: 1.4387 - accuracy: 0.7732 - val_loss: 1.5284 - val_accuracy: 0.7430\n",
            "\n",
            "Epoch 00015: val_accuracy did not improve from 0.76940\n",
            "Epoch 16/100\n",
            "391/391 [==============================] - 60s 154ms/step - loss: 1.4523 - accuracy: 0.7750 - val_loss: 1.4615 - val_accuracy: 0.7715\n",
            "\n",
            "Epoch 00016: val_accuracy improved from 0.76940 to 0.77150, saving model to best_model_vgg16\n",
            "INFO:tensorflow:Assets written to: best_model_vgg16/assets\n",
            "\n",
            "Epoch 00016: ReduceLROnPlateau reducing learning rate to 0.010000000149011612.\n",
            "Epoch 17/100\n",
            "391/391 [==============================] - 60s 154ms/step - loss: 1.2520 - accuracy: 0.8363 - val_loss: 1.1955 - val_accuracy: 0.8453\n",
            "\n",
            "Epoch 00017: val_accuracy improved from 0.77150 to 0.84530, saving model to best_model_vgg16\n",
            "INFO:tensorflow:Assets written to: best_model_vgg16/assets\n",
            "Epoch 18/100\n",
            "391/391 [==============================] - 60s 154ms/step - loss: 1.1075 - accuracy: 0.8644 - val_loss: 1.1127 - val_accuracy: 0.8539\n",
            "\n",
            "Epoch 00018: val_accuracy improved from 0.84530 to 0.85390, saving model to best_model_vgg16\n",
            "INFO:tensorflow:Assets written to: best_model_vgg16/assets\n",
            "Epoch 19/100\n",
            "391/391 [==============================] - 60s 154ms/step - loss: 1.0253 - accuracy: 0.8780 - val_loss: 1.0519 - val_accuracy: 0.8612\n",
            "\n",
            "Epoch 00019: val_accuracy improved from 0.85390 to 0.86120, saving model to best_model_vgg16\n",
            "INFO:tensorflow:Assets written to: best_model_vgg16/assets\n",
            "Epoch 20/100\n",
            "391/391 [==============================] - 60s 154ms/step - loss: 0.9496 - accuracy: 0.8893 - val_loss: 1.0207 - val_accuracy: 0.8597\n",
            "\n",
            "Epoch 00020: val_accuracy did not improve from 0.86120\n",
            "Epoch 21/100\n",
            "391/391 [==============================] - 60s 153ms/step - loss: 0.8896 - accuracy: 0.8949 - val_loss: 0.9610 - val_accuracy: 0.8674\n",
            "\n",
            "Epoch 00021: val_accuracy improved from 0.86120 to 0.86740, saving model to best_model_vgg16\n",
            "INFO:tensorflow:Assets written to: best_model_vgg16/assets\n",
            "Epoch 22/100\n",
            "391/391 [==============================] - 60s 154ms/step - loss: 0.8371 - accuracy: 0.9027 - val_loss: 0.9419 - val_accuracy: 0.8657\n",
            "\n",
            "Epoch 00022: val_accuracy did not improve from 0.86740\n",
            "Epoch 23/100\n",
            "391/391 [==============================] - 60s 154ms/step - loss: 0.7937 - accuracy: 0.9059 - val_loss: 0.9202 - val_accuracy: 0.8658\n",
            "\n",
            "Epoch 00023: val_accuracy did not improve from 0.86740\n",
            "Epoch 24/100\n",
            "391/391 [==============================] - 60s 153ms/step - loss: 0.7552 - accuracy: 0.9120 - val_loss: 0.8998 - val_accuracy: 0.8696\n",
            "\n",
            "Epoch 00024: val_accuracy improved from 0.86740 to 0.86960, saving model to best_model_vgg16\n",
            "INFO:tensorflow:Assets written to: best_model_vgg16/assets\n",
            "Epoch 25/100\n",
            "391/391 [==============================] - 60s 154ms/step - loss: 0.7262 - accuracy: 0.9154 - val_loss: 0.9053 - val_accuracy: 0.8649\n",
            "\n",
            "Epoch 00025: val_accuracy did not improve from 0.86960\n",
            "Epoch 26/100\n",
            "391/391 [==============================] - 60s 153ms/step - loss: 0.7017 - accuracy: 0.9173 - val_loss: 0.8799 - val_accuracy: 0.8658\n",
            "\n",
            "Epoch 00026: val_accuracy did not improve from 0.86960\n",
            "Epoch 27/100\n",
            "391/391 [==============================] - 60s 153ms/step - loss: 0.6790 - accuracy: 0.9225 - val_loss: 0.8573 - val_accuracy: 0.8704\n",
            "\n",
            "Epoch 00027: val_accuracy improved from 0.86960 to 0.87040, saving model to best_model_vgg16\n",
            "INFO:tensorflow:Assets written to: best_model_vgg16/assets\n",
            "Epoch 28/100\n",
            "391/391 [==============================] - 60s 154ms/step - loss: 0.6670 - accuracy: 0.9203 - val_loss: 0.8721 - val_accuracy: 0.8651\n",
            "\n",
            "Epoch 00028: val_accuracy did not improve from 0.87040\n",
            "Epoch 29/100\n",
            "391/391 [==============================] - 60s 153ms/step - loss: 0.6496 - accuracy: 0.9247 - val_loss: 0.8625 - val_accuracy: 0.8650\n",
            "\n",
            "Epoch 00029: val_accuracy did not improve from 0.87040\n",
            "Epoch 30/100\n",
            "391/391 [==============================] - 60s 153ms/step - loss: 0.6444 - accuracy: 0.9246 - val_loss: 0.8407 - val_accuracy: 0.8685\n",
            "\n",
            "Epoch 00030: val_accuracy did not improve from 0.87040\n",
            "Epoch 31/100\n",
            "391/391 [==============================] - 60s 153ms/step - loss: 0.6368 - accuracy: 0.9254 - val_loss: 0.8764 - val_accuracy: 0.8632\n",
            "\n",
            "Epoch 00031: val_accuracy did not improve from 0.87040\n",
            "Epoch 32/100\n",
            "391/391 [==============================] - 60s 153ms/step - loss: 0.6313 - accuracy: 0.9255 - val_loss: 0.8508 - val_accuracy: 0.8660\n",
            "\n",
            "Epoch 00032: val_accuracy did not improve from 0.87040\n",
            "Epoch 33/100\n",
            "391/391 [==============================] - 60s 153ms/step - loss: 0.6272 - accuracy: 0.9279 - val_loss: 0.8362 - val_accuracy: 0.8726\n",
            "\n",
            "Epoch 00033: val_accuracy improved from 0.87040 to 0.87260, saving model to best_model_vgg16\n",
            "INFO:tensorflow:Assets written to: best_model_vgg16/assets\n",
            "Epoch 34/100\n",
            "391/391 [==============================] - 60s 153ms/step - loss: 0.6150 - accuracy: 0.9315 - val_loss: 0.8686 - val_accuracy: 0.8629\n",
            "\n",
            "Epoch 00034: val_accuracy did not improve from 0.87260\n",
            "Epoch 35/100\n",
            "391/391 [==============================] - 60s 153ms/step - loss: 0.6242 - accuracy: 0.9288 - val_loss: 0.8654 - val_accuracy: 0.8640\n",
            "\n",
            "Epoch 00035: val_accuracy did not improve from 0.87260\n",
            "Epoch 36/100\n",
            "391/391 [==============================] - 60s 153ms/step - loss: 0.6196 - accuracy: 0.9297 - val_loss: 0.8578 - val_accuracy: 0.8658\n",
            "\n",
            "Epoch 00036: val_accuracy did not improve from 0.87260\n",
            "\n",
            "Epoch 00036: ReduceLROnPlateau reducing learning rate to 0.0009999999776482583.\n",
            "Epoch 37/100\n",
            "391/391 [==============================] - 60s 153ms/step - loss: 0.5658 - accuracy: 0.9488 - val_loss: 0.8012 - val_accuracy: 0.8848\n",
            "\n",
            "Epoch 00037: val_accuracy improved from 0.87260 to 0.88480, saving model to best_model_vgg16\n",
            "INFO:tensorflow:Assets written to: best_model_vgg16/assets\n",
            "Epoch 38/100\n",
            "391/391 [==============================] - 60s 154ms/step - loss: 0.5244 - accuracy: 0.9630 - val_loss: 0.8003 - val_accuracy: 0.8883\n",
            "\n",
            "Epoch 00038: val_accuracy improved from 0.88480 to 0.88830, saving model to best_model_vgg16\n",
            "INFO:tensorflow:Assets written to: best_model_vgg16/assets\n",
            "Epoch 39/100\n",
            "391/391 [==============================] - 60s 154ms/step - loss: 0.5082 - accuracy: 0.9666 - val_loss: 0.7987 - val_accuracy: 0.8895\n",
            "\n",
            "Epoch 00039: val_accuracy improved from 0.88830 to 0.88950, saving model to best_model_vgg16\n",
            "INFO:tensorflow:Assets written to: best_model_vgg16/assets\n",
            "Epoch 40/100\n",
            "391/391 [==============================] - 60s 153ms/step - loss: 0.4989 - accuracy: 0.9682 - val_loss: 0.8047 - val_accuracy: 0.8892\n",
            "\n",
            "Epoch 00040: val_accuracy did not improve from 0.88950\n",
            "Epoch 41/100\n",
            "391/391 [==============================] - 60s 153ms/step - loss: 0.4854 - accuracy: 0.9724 - val_loss: 0.8041 - val_accuracy: 0.8905\n",
            "\n",
            "Epoch 00041: val_accuracy improved from 0.88950 to 0.89050, saving model to best_model_vgg16\n",
            "INFO:tensorflow:Assets written to: best_model_vgg16/assets\n",
            "Epoch 42/100\n",
            "391/391 [==============================] - 60s 154ms/step - loss: 0.4780 - accuracy: 0.9737 - val_loss: 0.8093 - val_accuracy: 0.8901\n",
            "\n",
            "Epoch 00042: val_accuracy did not improve from 0.89050\n",
            "\n",
            "Epoch 00042: ReduceLROnPlateau reducing learning rate to 9.999999310821295e-05.\n",
            "Epoch 43/100\n",
            "391/391 [==============================] - 60s 154ms/step - loss: 0.4707 - accuracy: 0.9758 - val_loss: 0.8084 - val_accuracy: 0.8901\n",
            "\n",
            "Epoch 00043: val_accuracy did not improve from 0.89050\n",
            "Epoch 44/100\n",
            "391/391 [==============================] - 61s 155ms/step - loss: 0.4672 - accuracy: 0.9771 - val_loss: 0.8075 - val_accuracy: 0.8901\n",
            "\n",
            "Epoch 00044: val_accuracy did not improve from 0.89050\n",
            "Epoch 45/100\n",
            "391/391 [==============================] - 61s 155ms/step - loss: 0.4653 - accuracy: 0.9770 - val_loss: 0.8067 - val_accuracy: 0.8907\n",
            "\n",
            "Epoch 00045: val_accuracy improved from 0.89050 to 0.89070, saving model to best_model_vgg16\n",
            "INFO:tensorflow:Assets written to: best_model_vgg16/assets\n",
            "\n",
            "Epoch 00045: ReduceLROnPlateau reducing learning rate to 1e-05.\n",
            "Epoch 46/100\n",
            "391/391 [==============================] - 61s 156ms/step - loss: 0.4643 - accuracy: 0.9777 - val_loss: 0.8067 - val_accuracy: 0.8909\n",
            "\n",
            "Epoch 00046: val_accuracy improved from 0.89070 to 0.89090, saving model to best_model_vgg16\n",
            "INFO:tensorflow:Assets written to: best_model_vgg16/assets\n",
            "Epoch 47/100\n",
            "391/391 [==============================] - 61s 156ms/step - loss: 0.4650 - accuracy: 0.9773 - val_loss: 0.8072 - val_accuracy: 0.8911\n",
            "\n",
            "Epoch 00047: val_accuracy improved from 0.89090 to 0.89110, saving model to best_model_vgg16\n",
            "INFO:tensorflow:Assets written to: best_model_vgg16/assets\n",
            "Epoch 48/100\n",
            "391/391 [==============================] - 61s 156ms/step - loss: 0.4638 - accuracy: 0.9782 - val_loss: 0.8066 - val_accuracy: 0.8909\n",
            "\n",
            "Epoch 00048: val_accuracy did not improve from 0.89110\n",
            "Epoch 49/100\n",
            "391/391 [==============================] - 61s 156ms/step - loss: 0.4639 - accuracy: 0.9775 - val_loss: 0.8057 - val_accuracy: 0.8907\n",
            "\n",
            "Epoch 00049: val_accuracy did not improve from 0.89110\n"
          ]
        },
        {
          "output_type": "execute_result",
          "data": {
            "application/vnd.google.colaboratory.intrinsic+json": {
              "type": "string"
            },
            "text/plain": [
              "'X_train,y_train,X_test,y_test=select_dataset(3)\\nX_train,y_train,X_test,y_test,image_shape=pre_processing_cifar100(X_train,y_train,X_test,y_test,3)\\nmodel=ResNet34(image_shape,100)\\nhistory=train_model_resnet34(X_train,y_train,X_test,y_test,epochs=100)'"
            ]
          },
          "metadata": {},
          "execution_count": 9
        }
      ]
    },
    {
      "cell_type": "code",
      "metadata": {
        "id": "nByF_LBZLjlT",
        "colab": {
          "base_uri": "https://localhost:8080/",
          "height": 1000
        },
        "outputId": "780aa1cf-30ce-40ef-d479-cb93adf8fba1"
      },
      "source": [
        "import matplotlib.pyplot as plt\n",
        "\n",
        "\n",
        "\n",
        "# Visualize history\n",
        "# Plot history: Loss\n",
        "plt.figure(figsize = (10,8))\n",
        "plt.plot(history_cnn_model.history['val_loss'])\n",
        "plt.title('Validation loss history cnn_model')\n",
        "plt.ylabel('Loss value')\n",
        "plt.xlabel('No. epoch')\n",
        "plt.show()\n",
        "\n",
        "# Plot history: Accuracy\n",
        "plt.figure(figsize = (10,8))\n",
        "plt.plot(history_cnn_model.history['val_accuracy'])\n",
        "plt.title('Validation accuracy history cnn_model')\n",
        "plt.ylabel('Accuracy value (%)')\n",
        "plt.xlabel('No. epoch')\n",
        "plt.show()\n",
        "\n",
        "print()\n",
        "# Visualize history\n",
        "# Plot history: Loss\n",
        "plt.figure(figsize = (10,8))\n",
        "plt.plot(history_resnet.history['val_loss'])\n",
        "plt.title('Validation loss history resnet')\n",
        "plt.ylabel('Loss value')\n",
        "plt.xlabel('No. epoch')\n",
        "plt.show()\n",
        "\n",
        "# Plot history: Accuracy\n",
        "plt.figure(figsize = (10,8))\n",
        "plt.plot(history_resnet.history['val_accuracy'])\n",
        "plt.title('Validation accuracy history resnet')\n",
        "plt.ylabel('Accuracy value (%)')\n",
        "plt.xlabel('No. epoch')\n",
        "plt.show()\n",
        "\n",
        "# Visualize history\n",
        "# Plot history: Loss\n",
        "plt.figure(figsize = (10,8))\n",
        "plt.plot(history_vgg16.history['val_loss'])\n",
        "plt.title('Validation loss history vgg16')\n",
        "plt.ylabel('Loss value')\n",
        "plt.xlabel('No. epoch')\n",
        "plt.show()\n",
        "print()\n",
        "# Plot history: Accuracy\n",
        "plt.figure(figsize = (10,8))\n",
        "plt.plot(history_vgg16.history['val_accuracy'])\n",
        "plt.title('Validation accuracy history vgg16')\n",
        "plt.ylabel('Accuracy value (%)')\n",
        "plt.xlabel('No. epoch')\n",
        "plt.show()"
      ],
      "execution_count": 10,
      "outputs": [
        {
          "output_type": "display_data",
          "data": {
            "image/png": "[encoded data removed]",
            "text/plain": [
              "<Figure size 720x576 with 1 Axes>"
            ]
          },
          "metadata": {
            "needs_background": "light"
          }
        },
        {
          "output_type": "display_data",
          "data": {
            "image/png": "[encoded data removed]",
            "text/plain": [
              "<Figure size 720x576 with 1 Axes>"
            ]
          },
          "metadata": {
            "needs_background": "light"
          }
        },
        {
          "output_type": "stream",
          "name": "stdout",
          "text": [
            "\n"
          ]
        },
        {
          "output_type": "display_data",
          "data": {
            "image/png": "[encoded data removed]",
            "text/plain": [
              "<Figure size 720x576 with 1 Axes>"
            ]
          },
          "metadata": {
            "needs_background": "light"
          }
        },
        {
          "output_type": "display_data",
          "data": {
            "image/png": "[encoded data removed]",
            "text/plain": [
              "<Figure size 720x576 with 1 Axes>"
            ]
          },
          "metadata": {
            "needs_background": "light"
          }
        },
        {
          "output_type": "display_data",
          "data": {
            "image/png": "[encoded data removed]",
            "text/plain": [
              "<Figure size 720x576 with 1 Axes>"
            ]
          },
          "metadata": {
            "needs_background": "light"
          }
        },
        {
          "output_type": "stream",
          "name": "stdout",
          "text": [
            "\n"
          ]
        },
        {
          "output_type": "display_data",
          "data": {
            "image/png": "[encoded data removed]",
            "text/plain": [
              "<Figure size 720x576 with 1 Axes>"
            ]
          },
          "metadata": {
            "needs_background": "light"
          }
        }
      ]
    },
    {
      "cell_type": "code",
      "metadata": {
        "colab": {
          "base_uri": "https://localhost:8080/"
        },
        "id": "TAcBj-qKPync",
        "outputId": "5fa1009c-f51c-41d9-cbe6-3138a698e395"
      },
      "source": [
        "from google.colab import drive\n",
        "drive.mount('/content/drive')"
      ],
      "execution_count": 14,
      "outputs": [
        {
          "output_type": "stream",
          "name": "stdout",
          "text": [
            "Mounted at /content/drive\n"
          ]
        }
      ]
    },
    {
      "cell_type": "code",
      "metadata": {
        "id": "VOD9JcqI26C2"
      },
      "source": [
        "!pip freeze > requirements.txt"
      ],
      "execution_count": 11,
      "outputs": []
    },
    {
      "cell_type": "code",
      "metadata": {
        "colab": {
          "base_uri": "https://localhost:8080/"
        },
        "id": "lCv-lOO9FiBM",
        "outputId": "bb48b1b1-6999-4ad6-cfb2-836f2ee6f4e1"
      },
      "source": [
        "\n",
        "# Install bleeding edge version of cleverhans\n",
        "!pip install git+https://github.com/tensorflow/cleverhans.git#egg=cleverhans"
      ],
      "execution_count": 12,
      "outputs": [
        {
          "output_type": "stream",
          "name": "stdout",
          "text": [
            "Collecting cleverhans\n",
            "  Cloning https://github.com/tensorflow/cleverhans.git to /tmp/pip-install-j9vv3uhz/cleverhans_1861071d43d4478dab2b1b620a769c59\n",
            "  Running command git clone -q https://github.com/tensorflow/cleverhans.git /tmp/pip-install-j9vv3uhz/cleverhans_1861071d43d4478dab2b1b620a769c59\n",
            "Collecting nose\n",
            "  Downloading nose-1.3.7-py3-none-any.whl (154 kB)\n",
            "\u001b[K     |████████████████████████████████| 154 kB 5.3 MB/s \n",
            "\u001b[?25hCollecting pycodestyle\n",
            "  Downloading pycodestyle-2.8.0-py2.py3-none-any.whl (42 kB)\n",
            "\u001b[K     |████████████████████████████████| 42 kB 809 kB/s \n",
            "\u001b[?25hRequirement already satisfied: scipy in /usr/local/lib/python3.7/dist-packages (from cleverhans) (1.4.1)\n",
            "Requirement already satisfied: matplotlib in /usr/local/lib/python3.7/dist-packages (from cleverhans) (3.2.2)\n",
            "Collecting mnist\n",
            "  Downloading mnist-0.2.2-py2.py3-none-any.whl (3.5 kB)\n",
            "Requirement already satisfied: numpy in /usr/local/lib/python3.7/dist-packages (from cleverhans) (1.19.5)\n",
            "Requirement already satisfied: tensorflow-probability in /usr/local/lib/python3.7/dist-packages (from cleverhans) (0.14.1)\n",
            "Requirement already satisfied: joblib in /usr/local/lib/python3.7/dist-packages (from cleverhans) (1.0.1)\n",
            "Requirement already satisfied: easydict in /usr/local/lib/python3.7/dist-packages (from cleverhans) (1.9)\n",
            "Requirement already satisfied: absl-py in /usr/local/lib/python3.7/dist-packages (from cleverhans) (0.12.0)\n",
            "Requirement already satisfied: six in /usr/local/lib/python3.7/dist-packages (from cleverhans) (1.15.0)\n",
            "Requirement already satisfied: python-dateutil>=2.1 in /usr/local/lib/python3.7/dist-packages (from matplotlib->cleverhans) (2.8.2)\n",
            "Requirement already satisfied: cycler>=0.10 in /usr/local/lib/python3.7/dist-packages (from matplotlib->cleverhans) (0.10.0)\n",
            "Requirement already satisfied: pyparsing!=2.0.4,!=2.1.2,!=2.1.6,>=2.0.1 in /usr/local/lib/python3.7/dist-packages (from matplotlib->cleverhans) (2.4.7)\n",
            "Requirement already satisfied: kiwisolver>=1.0.1 in /usr/local/lib/python3.7/dist-packages (from matplotlib->cleverhans) (1.3.2)\n",
            "Requirement already satisfied: cloudpickle>=1.3 in /usr/local/lib/python3.7/dist-packages (from tensorflow-probability->cleverhans) (1.3.0)\n",
            "Requirement already satisfied: dm-tree in /usr/local/lib/python3.7/dist-packages (from tensorflow-probability->cleverhans) (0.1.6)\n",
            "Requirement already satisfied: decorator in /usr/local/lib/python3.7/dist-packages (from tensorflow-probability->cleverhans) (4.4.2)\n",
            "Requirement already satisfied: gast>=0.3.2 in /usr/local/lib/python3.7/dist-packages (from tensorflow-probability->cleverhans) (0.4.0)\n",
            "Building wheels for collected packages: cleverhans\n",
            "  Building wheel for cleverhans (setup.py) ... \u001b[?25l\u001b[?25hdone\n",
            "  Created wheel for cleverhans: filename=cleverhans-4.0.0-py3-none-any.whl size=92423 sha256=431be2279359822e2a93bc666f99dd4dd602654072686b870874bd6086d87320\n",
            "  Stored in directory: /tmp/pip-ephem-wheel-cache-7hppu49c/wheels/60/54/1e/97e3fe32d62bd252c9fbbee44a0545028c6018b81c054af3e4\n",
            "Successfully built cleverhans\n",
            "Installing collected packages: pycodestyle, nose, mnist, cleverhans\n",
            "Successfully installed cleverhans-4.0.0 mnist-0.2.2 nose-1.3.7 pycodestyle-2.8.0\n"
          ]
        }
      ]
    },
    {
      "cell_type": "code",
      "metadata": {
        "id": "M5pRFJsb4_gg"
      },
      "source": [
        "\n",
        "cnn_model = keras.models.load_model('/content/checkpoint/cnn_model.h5')"
      ],
      "execution_count": 16,
      "outputs": []
    },
    {
      "cell_type": "code",
      "metadata": {
        "id": "harxUb_H5XWk"
      },
      "source": [
        "\n",
        "from cleverhans.tf2.attacks.projected_gradient_descent import projected_gradient_descent\n",
        "from cleverhans.tf2.attacks.fast_gradient_method import fast_gradient_method"
      ],
      "execution_count": 17,
      "outputs": []
    },
    {
      "cell_type": "code",
      "metadata": {
        "colab": {
          "base_uri": "https://localhost:8080/",
          "height": 301
        },
        "id": "jA6Ntk20qTgn",
        "outputId": "7bf14dc8-4fa0-4cbd-93a6-5ea05d54f98b"
      },
      "source": [
        "from keras.preprocessing.image import img_to_array\n",
        "image_index = 1\n",
        "image  = X_test[image_index]\n",
        "image = img_to_array(image)\n",
        "image = image.reshape(1, 32, 32, 3)\n",
        "plt.imshow(image.reshape((32, 32 , 3)))"
      ],
      "execution_count": 40,
      "outputs": [
        {
          "output_type": "stream",
          "name": "stderr",
          "text": [
            "Clipping input data to the valid range for imshow with RGB data ([0..1] for floats or [0..255] for integers).\n"
          ]
        },
        {
          "output_type": "execute_result",
          "data": {
            "text/plain": [
              "<matplotlib.image.AxesImage at 0x7fbb879bfa10>"
            ]
          },
          "metadata": {},
          "execution_count": 40
        },
        {
          "output_type": "display_data",
          "data": {
            "image/png": "[encoded data removed]",
            "text/plain": [
              "<Figure size 432x288 with 1 Axes>"
            ]
          },
          "metadata": {
            "needs_background": "light"
          }
        }
      ]
    },
    {
      "cell_type": "code",
      "metadata": {
        "id": "7mu0CxLSeuIC"
      },
      "source": [
        "def make_predictions(model , label_array , image , image_index=1):\n",
        "  prediction  = model.predict(image)[0]\n",
        "  max_probability = float('-inf')\n",
        "  index = -1\n",
        "  true_label = -1\n",
        "  for i in range(len(prediction)):\n",
        "    if(prediction[i]>max_probability):\n",
        "      max_probability = prediction[i]\n",
        "      index = i\n",
        "    if(y_test[image_index][i]==1):\n",
        "      true_label = i\n",
        "  print(prediction)\n",
        "  print('prediction ',label_array[index],' probability ',max_probability)\n",
        "  print('true value ',label_array[true_label])\n",
        "\n",
        "\n",
        "labels = ['airplane','automobile','bird','cat','deer','dog','frog','horse','ship','truck']\n"
      ],
      "execution_count": 41,
      "outputs": []
    },
    {
      "cell_type": "code",
      "metadata": {
        "id": "2NC7qc3Sng-g"
      },
      "source": [
        "def adversarial_pattern(image, label):\n",
        "    image = tf.cast(image, tf.float32)\n",
        "    \n",
        "    with tf.GradientTape() as tape:\n",
        "        tape.watch(image)\n",
        "        prediction = model(image)\n",
        "        loss = tf.keras.losses.MSE(label, prediction)\n",
        "    \n",
        "    gradient = tape.gradient(loss, image)\n",
        "    \n",
        "    signed_grad = tf.sign(gradient)\n",
        "    \n",
        "    return signed_grad"
      ],
      "execution_count": 42,
      "outputs": []
    },
    {
      "cell_type": "code",
      "metadata": {
        "colab": {
          "base_uri": "https://localhost:8080/"
        },
        "id": "mD73on-dz7KK",
        "outputId": "3ce7c1d9-0ed5-4426-8423-178d37d7372a"
      },
      "source": [
        "make_predictions(cnn_model , labels , image , image_index)"
      ],
      "execution_count": 43,
      "outputs": [
        {
          "output_type": "stream",
          "name": "stdout",
          "text": [
            "[3.5550253e-04 7.9878293e-02 8.5548404e-09 1.8491403e-07 5.1323727e-09\n",
            " 2.2996556e-09 1.4285594e-08 1.7613818e-09 9.1961598e-01 1.5012380e-04]\n",
            "prediction  ship  probability  0.919616\n",
            "true value  ship\n"
          ]
        }
      ]
    },
    {
      "cell_type": "code",
      "metadata": {
        "colab": {
          "base_uri": "https://localhost:8080/",
          "height": 301
        },
        "id": "3YMCI0n5n2SJ",
        "outputId": "385b303f-aa17-46e1-e496-4652c09d1d2d"
      },
      "source": [
        "perturbations = adversarial_pattern(image, y_test[1]).numpy()\n",
        "adversary_sample = image + perturbations*0.1\n",
        "plt.imshow(adversary_sample.reshape((32, 32 , 3)))"
      ],
      "execution_count": 44,
      "outputs": [
        {
          "output_type": "stream",
          "name": "stderr",
          "text": [
            "Clipping input data to the valid range for imshow with RGB data ([0..1] for floats or [0..255] for integers).\n"
          ]
        },
        {
          "output_type": "execute_result",
          "data": {
            "text/plain": [
              "<matplotlib.image.AxesImage at 0x7fbb8b5bfa90>"
            ]
          },
          "metadata": {},
          "execution_count": 44
        },
        {
          "output_type": "display_data",
          "data": {
            "image/png": "[encoded data removed]",
            "text/plain": [
              "<Figure size 432x288 with 1 Axes>"
            ]
          },
          "metadata": {
            "needs_background": "light"
          }
        }
      ]
    },
    {
      "cell_type": "code",
      "metadata": {
        "colab": {
          "base_uri": "https://localhost:8080/"
        },
        "id": "e7UkTMSasMhT",
        "outputId": "9ef8e6e2-2c14-4dc2-eece-418e915eaa8c"
      },
      "source": [
        "make_predictions(cnn_model , labels , adversary_sample.reshape((1, 32, 32, 3)),image_index)"
      ],
      "execution_count": 45,
      "outputs": [
        {
          "output_type": "stream",
          "name": "stdout",
          "text": [
            "[3.8671706e-04 8.7402150e-02 9.1637231e-09 1.9577327e-07 5.3689395e-09\n",
            " 2.4592144e-09 1.5515049e-08 1.8604345e-09 9.1204810e-01 1.6278903e-04]\n",
            "prediction  ship  probability  0.9120481\n",
            "true value  ship\n"
          ]
        }
      ]
    },
    {
      "cell_type": "code",
      "metadata": {
        "id": "ipVkHlg5yVde"
      },
      "source": [
        "!pip install -qq -e git+http://github.com/tensorflow/cleverhans.git#egg=cleverhans\n",
        "import sys\n",
        "sys.path.append('/content/src/cleverhans')\n",
        "import cleverhans\n",
        "from cleverhans.tf2.attacks import fast_gradient_method\n",
        "\n",
        "#The attack requires the model to ouput the logits\n",
        "logits_model = tf.keras.Model(model.input,model.layers[-1].output)\n"
      ],
      "execution_count": 37,
      "outputs": []
    },
    {
      "cell_type": "code",
      "metadata": {
        "id": "ft7PyESazG0f"
      },
      "source": [
        ""
      ],
      "execution_count": 37,
      "outputs": []
    }
  ]
}