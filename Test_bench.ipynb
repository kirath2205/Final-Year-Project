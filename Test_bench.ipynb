{
  "nbformat": 4,
  "nbformat_minor": 0,
  "metadata": {
    "accelerator": "GPU",
    "colab": {
      "name": "Test_bench.ipynb",
      "provenance": [],
      "authorship_tag": "ABX9TyOBh8McDZGa1VBvRatrCoV/",
      "include_colab_link": true
    },
    "kernelspec": {
      "display_name": "Python 3",
      "name": "python3"
    },
    "language_info": {
      "name": "python"
    }
  },
  "cells": [
    {
      "cell_type": "markdown",
      "metadata": {
        "id": "view-in-github",
        "colab_type": "text"
      },
      "source": [
        "<a href=\"https://colab.research.google.com/github/kirath2205/Final-Year-Project/blob/Test_bench/Test_bench.ipynb\" target=\"_parent\"><img src=\"https://colab.research.google.com/assets/colab-badge.svg\" alt=\"Open In Colab\"/></a>"
      ]
    },
    {
      "cell_type": "code",
      "metadata": {
        "id": "dcyH2uCmqDOG"
      },
      "source": [
        "import keras,os\n",
        "import tensorflow as tf\n",
        "from keras.models import Sequential,Model\n",
        "from keras.layers import Input, Add, Dense, Activation, ZeroPadding2D, BatchNormalization, Flatten, Conv2D, AveragePooling2D, MaxPooling2D , Dropout\n",
        "import numpy as np\n",
        "from tensorflow import keras\n",
        "from keras.initializers import glorot_uniform\n",
        "from keras import applications\n",
        "from tensorflow.keras.applications.resnet50 import ResNet50 , preprocess_input\n",
        "from keras import regularizers\n"
      ],
      "execution_count": 1,
      "outputs": []
    },
    {
      "cell_type": "code",
      "metadata": {
        "colab": {
          "base_uri": "https://localhost:8080/"
        },
        "id": "vlBqJ6SIkZ0u",
        "outputId": "e067ec82-4ae2-4076-a06a-65fb69bf0578"
      },
      "source": [
        "!pip install Keras-applications\n"
      ],
      "execution_count": 2,
      "outputs": [
        {
          "output_type": "stream",
          "name": "stdout",
          "text": [
            "Collecting Keras-applications\n",
            "  Downloading Keras_Applications-1.0.8-py3-none-any.whl (50 kB)\n",
            "\u001b[?25l\r\u001b[K     |██████▌                         | 10 kB 21.9 MB/s eta 0:00:01\r\u001b[K     |█████████████                   | 20 kB 20.7 MB/s eta 0:00:01\r\u001b[K     |███████████████████▍            | 30 kB 15.8 MB/s eta 0:00:01\r\u001b[K     |█████████████████████████▉      | 40 kB 13.7 MB/s eta 0:00:01\r\u001b[K     |████████████████████████████████| 50 kB 3.0 MB/s \n",
            "\u001b[?25hRequirement already satisfied: h5py in /usr/local/lib/python3.7/dist-packages (from Keras-applications) (3.1.0)\n",
            "Requirement already satisfied: numpy>=1.9.1 in /usr/local/lib/python3.7/dist-packages (from Keras-applications) (1.19.5)\n",
            "Requirement already satisfied: cached-property in /usr/local/lib/python3.7/dist-packages (from h5py->Keras-applications) (1.5.2)\n",
            "Installing collected packages: Keras-applications\n",
            "Successfully installed Keras-applications-1.0.8\n"
          ]
        }
      ]
    },
    {
      "cell_type": "code",
      "metadata": {
        "id": "uVVahuJ1t7HD"
      },
      "source": [
        "def select_dataset(index):\n",
        "\n",
        "  if(index==1):\n",
        "    fashion_mnist = tf.keras.datasets.fashion_mnist.load_data()\n",
        "    (X_train, y_train), (X_test, y_test) = fashion_mnist\n",
        "\n",
        "  elif(index==2):\n",
        "    cifar_10 = tf.keras.datasets.cifar10.load_data()\n",
        "    (X_train, y_train), (X_test, y_test) = cifar_10\n",
        "  \n",
        "  elif(index==3):\n",
        "    cifar_100 = tf.keras.datasets.cifar100.load_data()\n",
        "    (X_train, y_train), (X_test, y_test) = cifar_100\n",
        "    print(len(X_train))\n",
        "\n",
        "    \n",
        "  return X_train,y_train,X_test,y_test"
      ],
      "execution_count": 3,
      "outputs": []
    },
    {
      "cell_type": "code",
      "metadata": {
        "id": "iQV52_6GvrRS"
      },
      "source": [
        "def pre_processing_fashion_mnist(X_train,y_train,X_test,y_test,image_channel):\n",
        "  img_width = X_train.shape[1]\n",
        "  img_height = X_train.shape[2]\n",
        "  input_shape = (img_width, img_height, image_channel)\n",
        "  \n",
        "  # normalize data\n",
        "  X_train, X_test = X_train / 255, X_test / 255\n",
        "\n",
        "  # reshape input \n",
        "  X_train = X_train.reshape(X_train.shape[0], *input_shape)\n",
        "  X_test = X_test.reshape(X_test.shape[0], *input_shape)\n",
        "\n",
        "  # one-hot\n",
        "  y_train = tf.keras.utils.to_categorical(y_train)\n",
        "  y_test = tf.keras.utils.to_categorical(y_test)\n",
        "\n",
        "  return X_train,y_train,X_test,y_test,input_shape\n",
        "\n",
        "def pre_processing_cifar10(X_train,y_train,X_test,y_test,image_channel):\n",
        "  X_train = X_train.astype('float32')\n",
        "  X_test = X_test.astype('float32')\n",
        "\n",
        "  y_train = keras.utils.to_categorical(y_train)\n",
        "  y_test = keras.utils.to_categorical(y_test)\n",
        "\n",
        "  X_train = preprocess_input(X_train)\n",
        "  X_test = preprocess_input(X_test)\n",
        "\n",
        "  img_width = X_train[0].shape[0]\n",
        "  img_height = X_train[0].shape[1]\n",
        "  image_channel = image_channel\n",
        "\n",
        "  input_shape=(img_width,img_height,image_channel) \n",
        "  print(input_shape)\n",
        "  return X_train,y_train,X_test,y_test,input_shape\n",
        "  \n",
        "def pre_processing_cifar100(X_train,y_train,X_test,y_test,image_channel):\n",
        "  X_train = X_train.astype('float32')\n",
        "  X_test = X_test.astype('float32')\n",
        "  X_train = preprocess_input(X_train)\n",
        "  X_test = preprocess_input(X_test)\n",
        "\n",
        "  y_train = keras.utils.to_categorical(y_train)\n",
        "  y_test = keras.utils.to_categorical(y_test)\n",
        "\n",
        "  img_width = X_train[0].shape[0]\n",
        "  img_height = X_train[0].shape[1]\n",
        "  image_channel = image_channel\n",
        "\n",
        "  input_shape=(img_width,img_height,image_channel) \n",
        "  print(input_shape)\n",
        "  return X_train,y_train,X_test,y_test,input_shape"
      ],
      "execution_count": 4,
      "outputs": []
    },
    {
      "cell_type": "code",
      "metadata": {
        "id": "cDvpMVLzu3if"
      },
      "source": [
        "def define_model_vgg16(image_shape,total_classes):\n",
        "\n",
        "  model = Sequential()\n",
        "  weight_decay = 0.0005\n",
        "  learning_rate = 0.1\n",
        "  lr_decay = 1e-6\n",
        "  lr_drop = 20\n",
        "  model.add(Conv2D(64, (3, 3), padding='same',\n",
        "                 input_shape=image_shape,kernel_regularizer=regularizers.l2(weight_decay)))\n",
        "  model.add(Activation('relu'))\n",
        "  model.add(BatchNormalization())\n",
        "  model.add(Dropout(0.3))\n",
        "\n",
        "  model.add(Conv2D(64, (3, 3), padding='same',kernel_regularizer=regularizers.l2(weight_decay)))\n",
        "  model.add(Activation('relu'))\n",
        "  model.add(BatchNormalization())\n",
        "\n",
        "  model.add(MaxPooling2D(pool_size=(2, 2)))\n",
        "\n",
        "  model.add(Conv2D(128, (3, 3), padding='same',kernel_regularizer=regularizers.l2(weight_decay)))\n",
        "  model.add(Activation('relu'))\n",
        "  model.add(BatchNormalization())\n",
        "  model.add(Dropout(0.4))\n",
        "\n",
        "  model.add(Conv2D(128, (3, 3), padding='same',kernel_regularizer=regularizers.l2(weight_decay)))\n",
        "  model.add(Activation('relu'))\n",
        "  model.add(BatchNormalization())\n",
        "\n",
        "  model.add(MaxPooling2D(pool_size=(2, 2)))\n",
        "\n",
        "  model.add(Conv2D(256, (3, 3), padding='same',kernel_regularizer=regularizers.l2(weight_decay)))\n",
        "  model.add(Activation('relu'))\n",
        "  model.add(BatchNormalization())\n",
        "  model.add(Dropout(0.4))\n",
        "\n",
        "  model.add(Conv2D(256, (3, 3), padding='same',kernel_regularizer=regularizers.l2(weight_decay)))\n",
        "  model.add(Activation('relu'))\n",
        "  model.add(BatchNormalization())\n",
        "  model.add(Dropout(0.4))\n",
        "\n",
        "  model.add(Conv2D(256, (3, 3), padding='same',kernel_regularizer=regularizers.l2(weight_decay)))\n",
        "  model.add(Activation('relu'))\n",
        "  model.add(BatchNormalization())\n",
        "\n",
        "  model.add(MaxPooling2D(pool_size=(2, 2)))\n",
        "\n",
        "  model.add(Conv2D(512, (3, 3), padding='same',kernel_regularizer=regularizers.l2(weight_decay)))\n",
        "  model.add(Activation('relu'))\n",
        "  model.add(BatchNormalization())\n",
        "  model.add(Dropout(0.4))\n",
        "\n",
        "  model.add(Conv2D(512, (3, 3), padding='same',kernel_regularizer=regularizers.l2(weight_decay)))\n",
        "  model.add(Activation('relu'))\n",
        "  model.add(BatchNormalization())\n",
        "  model.add(Dropout(0.4))\n",
        "\n",
        "  model.add(Conv2D(512, (3, 3), padding='same',kernel_regularizer=regularizers.l2(weight_decay)))\n",
        "  model.add(Activation('relu'))\n",
        "  model.add(BatchNormalization())\n",
        "\n",
        "  model.add(MaxPooling2D(pool_size=(2, 2)))\n",
        "\n",
        "  model.add(Conv2D(512, (3, 3), padding='same',kernel_regularizer=regularizers.l2(weight_decay)))\n",
        "  model.add(Activation('relu'))\n",
        "  model.add(BatchNormalization())\n",
        "  model.add(Dropout(0.4))\n",
        "\n",
        "  model.add(Conv2D(512, (3, 3), padding='same',kernel_regularizer=regularizers.l2(weight_decay)))\n",
        "  model.add(Activation('relu'))\n",
        "  model.add(BatchNormalization())\n",
        "  model.add(Dropout(0.4))\n",
        "\n",
        "  model.add(Conv2D(512, (3, 3), padding='same',kernel_regularizer=regularizers.l2(weight_decay)))\n",
        "  model.add(Activation('relu'))\n",
        "  model.add(BatchNormalization())\n",
        "\n",
        "  model.add(MaxPooling2D(pool_size=(2, 2)))\n",
        "  model.add(Dropout(0.5))\n",
        "\n",
        "  model.add(Flatten())\n",
        "  model.add(Dense(512,kernel_regularizer=regularizers.l2(weight_decay)))\n",
        "  model.add(Activation('relu'))\n",
        "  model.add(BatchNormalization())\n",
        "\n",
        "  model.add(Dropout(0.5))\n",
        "  model.add(Dense(total_classes))\n",
        "  model.add(Activation('softmax'))\n",
        "  sgd = keras.optimizers.SGD(lr=learning_rate, decay=lr_decay, momentum=0.9, nesterov=True)\n",
        "  model.compile(optimizer=sgd, loss=keras.losses.categorical_crossentropy, metrics=['accuracy'])\n",
        "  \n",
        "  return model\n",
        "\n",
        "def define_model_standard_cnn(image_shape,total_classes):\n",
        "  initializer = tf.keras.initializers.HeUniform()\n",
        "  model = Sequential()\n",
        "  model.add(Conv2D(32,(3,3), activation = 'relu',  padding = 'same', input_shape = image_shape))\n",
        "  model.add(Conv2D(32,(3,3), activation = 'relu',  padding = 'same'))\n",
        "  model.add(MaxPooling2D((2,2)))\n",
        "  model.add(Dropout(0.2))  \n",
        "  model.add(Conv2D(64,(3,3), activation = 'relu',  padding = 'same'))\n",
        "  model.add(Conv2D(64,(3,3), activation = 'relu',  padding = 'same'))\n",
        "  model.add(MaxPooling2D((2,2)))\n",
        "  model.add(Dropout(0.2))\n",
        "  model.add(Conv2D(128,(3,3), activation = 'relu',  padding = 'same'))\n",
        "  model.add(Conv2D(128,(3,3), activation = 'relu',  padding = 'same'))\n",
        "  model.add(MaxPooling2D((2,2)))\n",
        "  model.add(Dropout(0.2))\n",
        "  model.add(Flatten())\n",
        "  model.add(Dense(128, activation = 'relu'))\n",
        "  model.add(Dense(total_classes, activation = 'softmax'))\n",
        "  opt = keras.optimizers.SGD(learning_rate=0.001 , momentum=0.9)\n",
        "  model.compile(optimizer=opt,loss=keras.losses.categorical_crossentropy,metrics=['accuracy'])\n",
        "  return model\n",
        "\n"
      ],
      "execution_count": 5,
      "outputs": []
    },
    {
      "cell_type": "code",
      "metadata": {
        "id": "89MAaxp2hqAR"
      },
      "source": [
        "def identity_block(x, filter):\n",
        "    # copy tensor to variable called x_skip\n",
        "    x_skip = x\n",
        "    # Layer 1\n",
        "    x = tf.keras.layers.Conv2D(filter, (3,3), padding = 'same')(x)\n",
        "    x = tf.keras.layers.BatchNormalization(axis=3)(x)\n",
        "    x = tf.keras.layers.Activation('relu')(x)\n",
        "    # Layer 2\n",
        "    x = tf.keras.layers.Conv2D(filter, (3,3), padding = 'same')(x)\n",
        "    x = tf.keras.layers.BatchNormalization(axis=3)(x)\n",
        "    # Add Residue\n",
        "    x = tf.keras.layers.Add()([x, x_skip])     \n",
        "    x = tf.keras.layers.Activation('relu')(x)\n",
        "    return x\n",
        "\n",
        "def convolutional_block(x, filter):\n",
        "    # copy tensor to variable called x_skip\n",
        "    x_skip = x\n",
        "    # Layer 1\n",
        "    x = tf.keras.layers.Conv2D(filter, (3,3), padding = 'same', strides = (2,2))(x)\n",
        "    x = tf.keras.layers.BatchNormalization(axis=3)(x)\n",
        "    x = tf.keras.layers.Activation('relu')(x)\n",
        "    # Layer 2\n",
        "    x = tf.keras.layers.Conv2D(filter, (3,3), padding = 'same')(x)\n",
        "    x = tf.keras.layers.BatchNormalization(axis=3)(x)\n",
        "    # Processing Residue with conv(1,1)\n",
        "    x_skip = tf.keras.layers.Conv2D(filter, (1,1), strides = (2,2))(x_skip)\n",
        "    # Add Residue\n",
        "    x = tf.keras.layers.Add()([x, x_skip])     \n",
        "    x = tf.keras.layers.Activation('relu')(x)\n",
        "    return x\n",
        "\n",
        "def ResNet34(shape, classes):\n",
        "    # Step 1 (Setup Input Layer)\n",
        "    x_input = tf.keras.layers.Input(shape)\n",
        "    x = tf.keras.layers.ZeroPadding2D((3, 3))(x_input)\n",
        "    # Step 2 (Initial Conv layer along with maxPool)\n",
        "    x = tf.keras.layers.Conv2D(64, kernel_size=7, strides=2, padding='same')(x)\n",
        "    x = tf.keras.layers.BatchNormalization()(x)\n",
        "    x = tf.keras.layers.Activation('relu')(x)\n",
        "    x = tf.keras.layers.MaxPool2D(pool_size=3, strides=2, padding='same')(x)\n",
        "    # Define size of sub-blocks and initial filter size\n",
        "    block_layers = [3, 4, 6, 3]\n",
        "    filter_size = 64\n",
        "    # Step 3 Add the Resnet Blocks\n",
        "    for i in range(4):\n",
        "        if i == 0:\n",
        "            # For sub-block 1 Residual/Convolutional block not needed\n",
        "            for j in range(block_layers[i]):\n",
        "                x = identity_block(x, filter_size)\n",
        "        else:\n",
        "            # One Residual/Convolutional Block followed by Identity blocks\n",
        "            # The filter size will go on increasing by a factor of 2\n",
        "            filter_size = filter_size*2\n",
        "            x = convolutional_block(x, filter_size)\n",
        "            for j in range(block_layers[i] - 1):\n",
        "                x = identity_block(x, filter_size)\n",
        "    # Step 4 End Dense Network\n",
        "    x = tf.keras.layers.AveragePooling2D((2,2), padding = 'same')(x)\n",
        "    x = tf.keras.layers.Flatten()(x)\n",
        "    x = tf.keras.layers.Dense(512, activation = 'relu')(x)\n",
        "    x = tf.keras.layers.Dense(classes, activation = 'softmax')(x)\n",
        "    model = tf.keras.models.Model(inputs = x_input, outputs = x, name = \"ResNet34\")\n",
        "    model.compile(optimizer='adam', loss='categorical_crossentropy', metrics=['accuracy'])\n",
        "    return model"
      ],
      "execution_count": 6,
      "outputs": []
    },
    {
      "cell_type": "code",
      "metadata": {
        "id": "zaRAX4NsO-qR"
      },
      "source": [
        ""
      ],
      "execution_count": 6,
      "outputs": []
    },
    {
      "cell_type": "code",
      "metadata": {
        "id": "Jgsl1X29yf2k"
      },
      "source": [
        "from keras.callbacks import ModelCheckpoint, EarlyStopping\n",
        "def train_model_vgg16(X_train,y_train,X_test,y_test,epochs=10,batch_size=128):\n",
        "  \n",
        "  callbacks = [ \n",
        "    tf.keras.callbacks.ModelCheckpoint('best_model_vgg16', monitor='val_accuracy', verbose=1, save_best_only=True),\n",
        "    tf.keras.callbacks.ReduceLROnPlateau( factor = 0.1, patience = 3, min_lr = 0.00001, verbose = 1 ),\n",
        "    tf.keras.callbacks.EarlyStopping(monitor = 'val_loss' , patience = 10)\n",
        "  ]\n",
        "  history=model.fit(X_train, y_train, epochs = epochs, batch_size = batch_size,callbacks = callbacks, verbose = 1,validation_data=(X_test,y_test))\n",
        "  return history\n",
        "\n",
        "def train_model_standard_cnn(X_train,y_train,X_test,y_test,epochs=10,batch_size=64):\n",
        "  callbacks = [ \n",
        "    tf.keras.callbacks.ModelCheckpoint('best_model_standard_cnn', monitor='val_accuracy', verbose=1, save_best_only=True),\n",
        "    tf.keras.callbacks.ReduceLROnPlateau( factor = 0.1, patience = 3, min_lr = 0.00001, verbose = 1 ),\n",
        "    tf.keras.callbacks.EarlyStopping(monitor = 'val_loss' , patience = 10)\n",
        "  ]\n",
        "  history=model.fit(X_train , y_train , epochs = epochs , validation_data=(X_test,y_test),batch_size=batch_size , callbacks = callbacks)\n",
        "  return history\n",
        "\n",
        "\n",
        "def train_model_resnet34(X_train,y_train,X_test,y_test,epochs=10):\n",
        "  callbacks = [ \n",
        "    tf.keras.callbacks.ModelCheckpoint('best_model_resnet50', monitor='val_accuracy', verbose=1, save_best_only=True),\n",
        "    tf.keras.callbacks.ReduceLROnPlateau( factor = 0.1, patience = 3, min_lr = 0.00001, verbose = 1 ),\n",
        "    tf.keras.callbacks.EarlyStopping(monitor = 'val_loss' , patience = 10)\n",
        "  ]\n",
        "  history=model.fit(X_train , y_train , epochs = epochs , validation_data=(X_test,y_test),batch_size= 64 , callbacks = callbacks)\n",
        "  return history"
      ],
      "execution_count": 7,
      "outputs": []
    },
    {
      "cell_type": "code",
      "metadata": {
        "id": "WeJvjs7VO9-u"
      },
      "source": [
        ""
      ],
      "execution_count": 7,
      "outputs": []
    },
    {
      "cell_type": "code",
      "metadata": {
        "id": "P6AWutrFy4V8"
      },
      "source": [
        "def make_prediction(model,X_test,index):\n",
        "\n",
        "  return model.predict(X_test(index))\n"
      ],
      "execution_count": 8,
      "outputs": []
    },
    {
      "cell_type": "code",
      "metadata": {
        "id": "0UiQLmEn1vuV",
        "colab": {
          "base_uri": "https://localhost:8080/",
          "height": 1000
        },
        "outputId": "d868577d-d274-45ab-be4f-495060178367"
      },
      "source": [
        "\n",
        "'''X_train,y_train,X_test,y_test=select_dataset(1)\n",
        "X_train,y_train,X_test,y_test,image_shape=pre_processing_fashion_mnist(X_train,y_train,X_test,y_test,1)\n",
        "model=define_model(image_shape,10)\n",
        "train_model(X_train,y_train,X_test,y_test)'''\n",
        "\n",
        "X_train,y_train,X_test,y_test=select_dataset(2)\n",
        "X_train,y_train,X_test,y_test,image_shape=pre_processing_cifar10(X_train,y_train,X_test,y_test,3)\n",
        "model=define_model_standard_cnn(image_shape,10)\n",
        "history = train_model_standard_cnn(X_train,y_train,X_test,y_test,epochs=100)\n",
        "\n",
        "'''X_train,y_train,X_test,y_test=select_dataset(2)\n",
        "X_train,y_train,X_test,y_test,image_shape=pre_processing_cifar100(X_train,y_train,X_test,y_test,3)\n",
        "model=Resnet50(image_shape,10)\n",
        "history=train_model_resnet50(X_train,y_train,X_test,y_test,epochs=100)'''\n",
        "\n",
        "'''X_train,y_train,X_test,y_test=select_dataset(3)\n",
        "X_train,y_train,X_test,y_test,image_shape=pre_processing_cifar100(X_train,y_train,X_test,y_test,3)\n",
        "model=ResNet34(image_shape,100)\n",
        "history=train_model_resnet34(X_train,y_train,X_test,y_test,epochs=100)'''"
      ],
      "execution_count": 9,
      "outputs": [
        {
          "output_type": "stream",
          "name": "stdout",
          "text": [
            "Downloading data from https://www.cs.toronto.edu/~kriz/cifar-10-python.tar.gz\n",
            "170500096/170498071 [==============================] - 3s 0us/step\n",
            "170508288/170498071 [==============================] - 3s 0us/step\n",
            "(32, 32, 3)\n",
            "Epoch 1/100\n",
            "782/782 [==============================] - 47s 21ms/step - loss: 1.8419 - accuracy: 0.3334 - val_loss: 1.5739 - val_accuracy: 0.4251\n",
            "\n",
            "Epoch 00001: val_accuracy improved from -inf to 0.42510, saving model to best_model_standard_cnn\n",
            "INFO:tensorflow:Assets written to: best_model_standard_cnn/assets\n",
            "Epoch 2/100\n",
            "782/782 [==============================] - 16s 20ms/step - loss: 1.3977 - accuracy: 0.4940 - val_loss: 1.2621 - val_accuracy: 0.5478\n",
            "\n",
            "Epoch 00002: val_accuracy improved from 0.42510 to 0.54780, saving model to best_model_standard_cnn\n",
            "INFO:tensorflow:Assets written to: best_model_standard_cnn/assets\n",
            "Epoch 3/100\n",
            "782/782 [==============================] - 16s 20ms/step - loss: 1.2105 - accuracy: 0.5679 - val_loss: 1.0871 - val_accuracy: 0.6236\n",
            "\n",
            "Epoch 00003: val_accuracy improved from 0.54780 to 0.62360, saving model to best_model_standard_cnn\n",
            "INFO:tensorflow:Assets written to: best_model_standard_cnn/assets\n",
            "Epoch 4/100\n",
            "782/782 [==============================] - 16s 20ms/step - loss: 1.0840 - accuracy: 0.6166 - val_loss: 0.9471 - val_accuracy: 0.6725\n",
            "\n",
            "Epoch 00004: val_accuracy improved from 0.62360 to 0.67250, saving model to best_model_standard_cnn\n",
            "INFO:tensorflow:Assets written to: best_model_standard_cnn/assets\n",
            "Epoch 5/100\n",
            "782/782 [==============================] - 16s 20ms/step - loss: 0.9876 - accuracy: 0.6534 - val_loss: 0.9059 - val_accuracy: 0.6864\n",
            "\n",
            "Epoch 00005: val_accuracy improved from 0.67250 to 0.68640, saving model to best_model_standard_cnn\n",
            "INFO:tensorflow:Assets written to: best_model_standard_cnn/assets\n",
            "Epoch 6/100\n",
            "782/782 [==============================] - 16s 20ms/step - loss: 0.9273 - accuracy: 0.6722 - val_loss: 0.8417 - val_accuracy: 0.7106\n",
            "\n",
            "Epoch 00006: val_accuracy improved from 0.68640 to 0.71060, saving model to best_model_standard_cnn\n",
            "INFO:tensorflow:Assets written to: best_model_standard_cnn/assets\n",
            "Epoch 7/100\n",
            "782/782 [==============================] - 16s 20ms/step - loss: 0.8596 - accuracy: 0.6987 - val_loss: 0.8156 - val_accuracy: 0.7210\n",
            "\n",
            "Epoch 00007: val_accuracy improved from 0.71060 to 0.72100, saving model to best_model_standard_cnn\n",
            "INFO:tensorflow:Assets written to: best_model_standard_cnn/assets\n",
            "Epoch 8/100\n",
            "782/782 [==============================] - 16s 20ms/step - loss: 0.8229 - accuracy: 0.7150 - val_loss: 0.7889 - val_accuracy: 0.7230\n",
            "\n",
            "Epoch 00008: val_accuracy improved from 0.72100 to 0.72300, saving model to best_model_standard_cnn\n",
            "INFO:tensorflow:Assets written to: best_model_standard_cnn/assets\n",
            "Epoch 9/100\n",
            "782/782 [==============================] - 16s 20ms/step - loss: 0.7817 - accuracy: 0.7275 - val_loss: 0.7767 - val_accuracy: 0.7342\n",
            "\n",
            "Epoch 00009: val_accuracy improved from 0.72300 to 0.73420, saving model to best_model_standard_cnn\n",
            "INFO:tensorflow:Assets written to: best_model_standard_cnn/assets\n",
            "Epoch 10/100\n",
            "782/782 [==============================] - 16s 20ms/step - loss: 0.7433 - accuracy: 0.7415 - val_loss: 0.7363 - val_accuracy: 0.7504\n",
            "\n",
            "Epoch 00010: val_accuracy improved from 0.73420 to 0.75040, saving model to best_model_standard_cnn\n",
            "INFO:tensorflow:Assets written to: best_model_standard_cnn/assets\n",
            "Epoch 11/100\n",
            "782/782 [==============================] - 16s 21ms/step - loss: 0.7153 - accuracy: 0.7508 - val_loss: 0.7228 - val_accuracy: 0.7523\n",
            "\n",
            "Epoch 00011: val_accuracy improved from 0.75040 to 0.75230, saving model to best_model_standard_cnn\n",
            "INFO:tensorflow:Assets written to: best_model_standard_cnn/assets\n",
            "Epoch 12/100\n",
            "782/782 [==============================] - 16s 21ms/step - loss: 0.6900 - accuracy: 0.7595 - val_loss: 0.7113 - val_accuracy: 0.7574\n",
            "\n",
            "Epoch 00012: val_accuracy improved from 0.75230 to 0.75740, saving model to best_model_standard_cnn\n",
            "INFO:tensorflow:Assets written to: best_model_standard_cnn/assets\n",
            "Epoch 13/100\n",
            "782/782 [==============================] - 16s 21ms/step - loss: 0.6607 - accuracy: 0.7704 - val_loss: 0.7071 - val_accuracy: 0.7573\n",
            "\n",
            "Epoch 00013: val_accuracy did not improve from 0.75740\n",
            "Epoch 14/100\n",
            "782/782 [==============================] - 16s 21ms/step - loss: 0.6407 - accuracy: 0.7778 - val_loss: 0.6739 - val_accuracy: 0.7703\n",
            "\n",
            "Epoch 00014: val_accuracy improved from 0.75740 to 0.77030, saving model to best_model_standard_cnn\n",
            "INFO:tensorflow:Assets written to: best_model_standard_cnn/assets\n",
            "Epoch 15/100\n",
            "782/782 [==============================] - 16s 20ms/step - loss: 0.6202 - accuracy: 0.7834 - val_loss: 0.6920 - val_accuracy: 0.7602\n",
            "\n",
            "Epoch 00015: val_accuracy did not improve from 0.77030\n",
            "Epoch 16/100\n",
            "782/782 [==============================] - 16s 20ms/step - loss: 0.6040 - accuracy: 0.7897 - val_loss: 0.6435 - val_accuracy: 0.7755\n",
            "\n",
            "Epoch 00016: val_accuracy improved from 0.77030 to 0.77550, saving model to best_model_standard_cnn\n",
            "INFO:tensorflow:Assets written to: best_model_standard_cnn/assets\n",
            "Epoch 17/100\n",
            "782/782 [==============================] - 16s 21ms/step - loss: 0.5803 - accuracy: 0.7989 - val_loss: 0.6337 - val_accuracy: 0.7843\n",
            "\n",
            "Epoch 00017: val_accuracy improved from 0.77550 to 0.78430, saving model to best_model_standard_cnn\n",
            "INFO:tensorflow:Assets written to: best_model_standard_cnn/assets\n",
            "Epoch 18/100\n",
            "782/782 [==============================] - 16s 20ms/step - loss: 0.5649 - accuracy: 0.8055 - val_loss: 0.6403 - val_accuracy: 0.7800\n",
            "\n",
            "Epoch 00018: val_accuracy did not improve from 0.78430\n",
            "Epoch 19/100\n",
            "782/782 [==============================] - 16s 20ms/step - loss: 0.5410 - accuracy: 0.8114 - val_loss: 0.6454 - val_accuracy: 0.7851\n",
            "\n",
            "Epoch 00019: val_accuracy improved from 0.78430 to 0.78510, saving model to best_model_standard_cnn\n",
            "INFO:tensorflow:Assets written to: best_model_standard_cnn/assets\n",
            "Epoch 20/100\n",
            "782/782 [==============================] - 16s 20ms/step - loss: 0.5257 - accuracy: 0.8150 - val_loss: 0.6252 - val_accuracy: 0.7866\n",
            "\n",
            "Epoch 00020: val_accuracy improved from 0.78510 to 0.78660, saving model to best_model_standard_cnn\n",
            "INFO:tensorflow:Assets written to: best_model_standard_cnn/assets\n",
            "Epoch 21/100\n",
            "782/782 [==============================] - 16s 20ms/step - loss: 0.5135 - accuracy: 0.8196 - val_loss: 0.6185 - val_accuracy: 0.7915\n",
            "\n",
            "Epoch 00021: val_accuracy improved from 0.78660 to 0.79150, saving model to best_model_standard_cnn\n",
            "INFO:tensorflow:Assets written to: best_model_standard_cnn/assets\n",
            "Epoch 22/100\n",
            "782/782 [==============================] - 16s 20ms/step - loss: 0.4988 - accuracy: 0.8239 - val_loss: 0.6393 - val_accuracy: 0.7887\n",
            "\n",
            "Epoch 00022: val_accuracy did not improve from 0.79150\n",
            "Epoch 23/100\n",
            "782/782 [==============================] - 16s 20ms/step - loss: 0.4850 - accuracy: 0.8300 - val_loss: 0.6260 - val_accuracy: 0.7966\n",
            "\n",
            "Epoch 00023: val_accuracy improved from 0.79150 to 0.79660, saving model to best_model_standard_cnn\n",
            "INFO:tensorflow:Assets written to: best_model_standard_cnn/assets\n",
            "Epoch 24/100\n",
            "782/782 [==============================] - 16s 21ms/step - loss: 0.4729 - accuracy: 0.8339 - val_loss: 0.6125 - val_accuracy: 0.7981\n",
            "\n",
            "Epoch 00024: val_accuracy improved from 0.79660 to 0.79810, saving model to best_model_standard_cnn\n",
            "INFO:tensorflow:Assets written to: best_model_standard_cnn/assets\n",
            "Epoch 25/100\n",
            "782/782 [==============================] - 16s 20ms/step - loss: 0.4587 - accuracy: 0.8412 - val_loss: 0.6081 - val_accuracy: 0.8017\n",
            "\n",
            "Epoch 00025: val_accuracy improved from 0.79810 to 0.80170, saving model to best_model_standard_cnn\n",
            "INFO:tensorflow:Assets written to: best_model_standard_cnn/assets\n",
            "Epoch 26/100\n",
            "782/782 [==============================] - 16s 20ms/step - loss: 0.4440 - accuracy: 0.8419 - val_loss: 0.6012 - val_accuracy: 0.8056\n",
            "\n",
            "Epoch 00026: val_accuracy improved from 0.80170 to 0.80560, saving model to best_model_standard_cnn\n",
            "INFO:tensorflow:Assets written to: best_model_standard_cnn/assets\n",
            "Epoch 27/100\n",
            "782/782 [==============================] - 16s 21ms/step - loss: 0.4299 - accuracy: 0.8481 - val_loss: 0.6108 - val_accuracy: 0.8018\n",
            "\n",
            "Epoch 00027: val_accuracy did not improve from 0.80560\n",
            "Epoch 28/100\n",
            "782/782 [==============================] - 16s 21ms/step - loss: 0.4204 - accuracy: 0.8530 - val_loss: 0.5929 - val_accuracy: 0.8079\n",
            "\n",
            "Epoch 00028: val_accuracy improved from 0.80560 to 0.80790, saving model to best_model_standard_cnn\n",
            "INFO:tensorflow:Assets written to: best_model_standard_cnn/assets\n",
            "Epoch 29/100\n",
            "782/782 [==============================] - 16s 21ms/step - loss: 0.4076 - accuracy: 0.8569 - val_loss: 0.6195 - val_accuracy: 0.7967\n",
            "\n",
            "Epoch 00029: val_accuracy did not improve from 0.80790\n",
            "Epoch 30/100\n",
            "782/782 [==============================] - 16s 21ms/step - loss: 0.4005 - accuracy: 0.8583 - val_loss: 0.6082 - val_accuracy: 0.8040\n",
            "\n",
            "Epoch 00030: val_accuracy did not improve from 0.80790\n",
            "Epoch 31/100\n",
            "782/782 [==============================] - 16s 21ms/step - loss: 0.3886 - accuracy: 0.8615 - val_loss: 0.5923 - val_accuracy: 0.8106\n",
            "\n",
            "Epoch 00031: val_accuracy improved from 0.80790 to 0.81060, saving model to best_model_standard_cnn\n",
            "INFO:tensorflow:Assets written to: best_model_standard_cnn/assets\n",
            "Epoch 32/100\n",
            "782/782 [==============================] - 16s 21ms/step - loss: 0.3806 - accuracy: 0.8652 - val_loss: 0.6453 - val_accuracy: 0.7975\n",
            "\n",
            "Epoch 00032: val_accuracy did not improve from 0.81060\n",
            "Epoch 33/100\n",
            "782/782 [==============================] - 16s 21ms/step - loss: 0.3728 - accuracy: 0.8678 - val_loss: 0.6039 - val_accuracy: 0.8099\n",
            "\n",
            "Epoch 00033: val_accuracy did not improve from 0.81060\n",
            "Epoch 34/100\n",
            "782/782 [==============================] - 16s 21ms/step - loss: 0.3660 - accuracy: 0.8686 - val_loss: 0.6055 - val_accuracy: 0.8110\n",
            "\n",
            "Epoch 00034: val_accuracy improved from 0.81060 to 0.81100, saving model to best_model_standard_cnn\n",
            "INFO:tensorflow:Assets written to: best_model_standard_cnn/assets\n",
            "\n",
            "Epoch 00034: ReduceLROnPlateau reducing learning rate to 0.00010000000474974513.\n",
            "Epoch 35/100\n",
            "782/782 [==============================] - 16s 21ms/step - loss: 0.3028 - accuracy: 0.8930 - val_loss: 0.5850 - val_accuracy: 0.8202\n",
            "\n",
            "Epoch 00035: val_accuracy improved from 0.81100 to 0.82020, saving model to best_model_standard_cnn\n",
            "INFO:tensorflow:Assets written to: best_model_standard_cnn/assets\n",
            "Epoch 36/100\n",
            "782/782 [==============================] - 16s 21ms/step - loss: 0.2733 - accuracy: 0.9012 - val_loss: 0.5853 - val_accuracy: 0.8242\n",
            "\n",
            "Epoch 00036: val_accuracy improved from 0.82020 to 0.82420, saving model to best_model_standard_cnn\n",
            "INFO:tensorflow:Assets written to: best_model_standard_cnn/assets\n",
            "Epoch 37/100\n",
            "782/782 [==============================] - 16s 21ms/step - loss: 0.2674 - accuracy: 0.9048 - val_loss: 0.5924 - val_accuracy: 0.8243\n",
            "\n",
            "Epoch 00037: val_accuracy improved from 0.82420 to 0.82430, saving model to best_model_standard_cnn\n",
            "INFO:tensorflow:Assets written to: best_model_standard_cnn/assets\n",
            "Epoch 38/100\n",
            "782/782 [==============================] - 16s 21ms/step - loss: 0.2649 - accuracy: 0.9065 - val_loss: 0.5962 - val_accuracy: 0.8249\n",
            "\n",
            "Epoch 00038: val_accuracy improved from 0.82430 to 0.82490, saving model to best_model_standard_cnn\n",
            "INFO:tensorflow:Assets written to: best_model_standard_cnn/assets\n",
            "\n",
            "Epoch 00038: ReduceLROnPlateau reducing learning rate to 1.0000000474974514e-05.\n",
            "Epoch 39/100\n",
            "782/782 [==============================] - 16s 21ms/step - loss: 0.2550 - accuracy: 0.9085 - val_loss: 0.5906 - val_accuracy: 0.8268\n",
            "\n",
            "Epoch 00039: val_accuracy improved from 0.82490 to 0.82680, saving model to best_model_standard_cnn\n",
            "INFO:tensorflow:Assets written to: best_model_standard_cnn/assets\n",
            "Epoch 40/100\n",
            "782/782 [==============================] - 16s 21ms/step - loss: 0.2533 - accuracy: 0.9112 - val_loss: 0.5886 - val_accuracy: 0.8267\n",
            "\n",
            "Epoch 00040: val_accuracy did not improve from 0.82680\n",
            "Epoch 41/100\n",
            "782/782 [==============================] - 17s 21ms/step - loss: 0.2513 - accuracy: 0.9103 - val_loss: 0.5899 - val_accuracy: 0.8268\n",
            "\n",
            "Epoch 00041: val_accuracy did not improve from 0.82680\n",
            "\n",
            "Epoch 00041: ReduceLROnPlateau reducing learning rate to 1e-05.\n",
            "Epoch 42/100\n",
            "782/782 [==============================] - 16s 21ms/step - loss: 0.2523 - accuracy: 0.9094 - val_loss: 0.5895 - val_accuracy: 0.8268\n",
            "\n",
            "Epoch 00042: val_accuracy did not improve from 0.82680\n",
            "Epoch 43/100\n",
            "782/782 [==============================] - 16s 20ms/step - loss: 0.2534 - accuracy: 0.9093 - val_loss: 0.5888 - val_accuracy: 0.8273\n",
            "\n",
            "Epoch 00043: val_accuracy improved from 0.82680 to 0.82730, saving model to best_model_standard_cnn\n",
            "INFO:tensorflow:Assets written to: best_model_standard_cnn/assets\n",
            "Epoch 44/100\n",
            "782/782 [==============================] - 16s 21ms/step - loss: 0.2534 - accuracy: 0.9109 - val_loss: 0.5904 - val_accuracy: 0.8271\n",
            "\n",
            "Epoch 00044: val_accuracy did not improve from 0.82730\n",
            "Epoch 45/100\n",
            "782/782 [==============================] - 16s 21ms/step - loss: 0.2499 - accuracy: 0.9113 - val_loss: 0.5909 - val_accuracy: 0.8278\n",
            "\n",
            "Epoch 00045: val_accuracy improved from 0.82730 to 0.82780, saving model to best_model_standard_cnn\n",
            "INFO:tensorflow:Assets written to: best_model_standard_cnn/assets\n"
          ]
        },
        {
          "output_type": "execute_result",
          "data": {
            "application/vnd.google.colaboratory.intrinsic+json": {
              "type": "string"
            },
            "text/plain": [
              "'X_train,y_train,X_test,y_test=select_dataset(3)\\nX_train,y_train,X_test,y_test,image_shape=pre_processing_cifar100(X_train,y_train,X_test,y_test,3)\\nmodel=ResNet34(image_shape,100)\\nhistory=train_model_resnet34(X_train,y_train,X_test,y_test,epochs=100)'"
            ]
          },
          "metadata": {},
          "execution_count": 9
        }
      ]
    },
    {
      "cell_type": "code",
      "metadata": {
        "id": "nByF_LBZLjlT",
        "colab": {
          "base_uri": "https://localhost:8080/",
          "height": 1000
        },
        "outputId": "e0f749b7-ad5b-4aa3-f929-33d92d005a02"
      },
      "source": [
        "import matplotlib.pyplot as plt\n",
        "\n",
        "score = model.evaluate(X_test, y_test, verbose=0)\n",
        "print(f'Test loss: {score[0]} / Test accuracy: {score[1]}')\n",
        "\n",
        "# Visualize history\n",
        "# Plot history: Loss\n",
        "plt.figure(figsize = (10,8))\n",
        "plt.plot(history.history['val_loss'])\n",
        "plt.title('Validation loss history')\n",
        "plt.ylabel('Loss value')\n",
        "plt.xlabel('No. epoch')\n",
        "plt.show()\n",
        "\n",
        "# Plot history: Accuracy\n",
        "plt.figure(figsize = (10,8))\n",
        "plt.plot(history.history['val_accuracy'])\n",
        "plt.title('Validation accuracy history')\n",
        "plt.ylabel('Accuracy value (%)')\n",
        "plt.xlabel('No. epoch')\n",
        "plt.show()"
      ],
      "execution_count": 10,
      "outputs": [
        {
          "output_type": "stream",
          "name": "stdout",
          "text": [
            "Test loss: 0.5908566117286682 / Test accuracy: 0.8277999758720398\n"
          ]
        },
        {
          "output_type": "display_data",
          "data": {
            "image/png": "[encoded data removed]",
            "text/plain": [
              "<Figure size 720x576 with 1 Axes>"
            ]
          },
          "metadata": {
            "needs_background": "light"
          }
        },
        {
          "output_type": "display_data",
          "data": {
            "image/png": "[encoded data removed]",
            "text/plain": [
              "<Figure size 720x576 with 1 Axes>"
            ]
          },
          "metadata": {
            "needs_background": "light"
          }
        }
      ]
    },
    {
      "cell_type": "code",
      "metadata": {
        "id": "VOD9JcqI26C2"
      },
      "source": [
        "!pip freeze > requirements.txt"
      ],
      "execution_count": 11,
      "outputs": []
    },
    {
      "cell_type": "code",
      "metadata": {
        "colab": {
          "base_uri": "https://localhost:8080/"
        },
        "id": "lCv-lOO9FiBM",
        "outputId": "c0b07c40-cadf-40eb-bfdb-7fcdeb6c72e7"
      },
      "source": [
        "\n",
        "# Install bleeding edge version of cleverhans\n",
        "!pip install git+https://github.com/tensorflow/cleverhans.git#egg=cleverhans"
      ],
      "execution_count": 12,
      "outputs": [
        {
          "output_type": "stream",
          "name": "stdout",
          "text": [
            "Collecting cleverhans\n",
            "  Cloning https://github.com/tensorflow/cleverhans.git to /tmp/pip-install-ohrhaw7k/cleverhans_52c8740a9eb94cb0ae2307589d005cd0\n",
            "  Running command git clone -q https://github.com/tensorflow/cleverhans.git /tmp/pip-install-ohrhaw7k/cleverhans_52c8740a9eb94cb0ae2307589d005cd0\n",
            "Collecting nose\n",
            "  Downloading nose-1.3.7-py3-none-any.whl (154 kB)\n",
            "\u001b[K     |████████████████████████████████| 154 kB 5.2 MB/s \n",
            "\u001b[?25hCollecting pycodestyle\n",
            "  Downloading pycodestyle-2.8.0-py2.py3-none-any.whl (42 kB)\n",
            "\u001b[K     |████████████████████████████████| 42 kB 884 kB/s \n",
            "\u001b[?25hRequirement already satisfied: scipy in /usr/local/lib/python3.7/dist-packages (from cleverhans) (1.4.1)\n",
            "Requirement already satisfied: matplotlib in /usr/local/lib/python3.7/dist-packages (from cleverhans) (3.2.2)\n",
            "Collecting mnist\n",
            "  Downloading mnist-0.2.2-py2.py3-none-any.whl (3.5 kB)\n",
            "Requirement already satisfied: numpy in /usr/local/lib/python3.7/dist-packages (from cleverhans) (1.19.5)\n",
            "Requirement already satisfied: tensorflow-probability in /usr/local/lib/python3.7/dist-packages (from cleverhans) (0.14.1)\n",
            "Requirement already satisfied: joblib in /usr/local/lib/python3.7/dist-packages (from cleverhans) (1.0.1)\n",
            "Requirement already satisfied: easydict in /usr/local/lib/python3.7/dist-packages (from cleverhans) (1.9)\n",
            "Requirement already satisfied: absl-py in /usr/local/lib/python3.7/dist-packages (from cleverhans) (0.12.0)\n",
            "Requirement already satisfied: six in /usr/local/lib/python3.7/dist-packages (from cleverhans) (1.15.0)\n",
            "Requirement already satisfied: cycler>=0.10 in /usr/local/lib/python3.7/dist-packages (from matplotlib->cleverhans) (0.10.0)\n",
            "Requirement already satisfied: kiwisolver>=1.0.1 in /usr/local/lib/python3.7/dist-packages (from matplotlib->cleverhans) (1.3.2)\n",
            "Requirement already satisfied: pyparsing!=2.0.4,!=2.1.2,!=2.1.6,>=2.0.1 in /usr/local/lib/python3.7/dist-packages (from matplotlib->cleverhans) (2.4.7)\n",
            "Requirement already satisfied: python-dateutil>=2.1 in /usr/local/lib/python3.7/dist-packages (from matplotlib->cleverhans) (2.8.2)\n",
            "Requirement already satisfied: dm-tree in /usr/local/lib/python3.7/dist-packages (from tensorflow-probability->cleverhans) (0.1.6)\n",
            "Requirement already satisfied: decorator in /usr/local/lib/python3.7/dist-packages (from tensorflow-probability->cleverhans) (4.4.2)\n",
            "Requirement already satisfied: gast>=0.3.2 in /usr/local/lib/python3.7/dist-packages (from tensorflow-probability->cleverhans) (0.4.0)\n",
            "Requirement already satisfied: cloudpickle>=1.3 in /usr/local/lib/python3.7/dist-packages (from tensorflow-probability->cleverhans) (1.3.0)\n",
            "Building wheels for collected packages: cleverhans\n",
            "  Building wheel for cleverhans (setup.py) ... \u001b[?25l\u001b[?25hdone\n",
            "  Created wheel for cleverhans: filename=cleverhans-4.0.0-py3-none-any.whl size=92423 sha256=1d8766a1581946ddfb6d0426703b62c3a936e3fdb2300ed43d627a1d79567d77\n",
            "  Stored in directory: /tmp/pip-ephem-wheel-cache-q1nuy1f5/wheels/60/54/1e/97e3fe32d62bd252c9fbbee44a0545028c6018b81c054af3e4\n",
            "Successfully built cleverhans\n",
            "Installing collected packages: pycodestyle, nose, mnist, cleverhans\n",
            "Successfully installed cleverhans-4.0.0 mnist-0.2.2 nose-1.3.7 pycodestyle-2.8.0\n"
          ]
        }
      ]
    },
    {
      "cell_type": "code",
      "metadata": {
        "id": "187nH2VJFjlj"
      },
      "source": [
        "\n",
        "cnn_model = model.load_weights('/content/best_model_standard_cnn')\n",
        "model.save('cnn_model.h5') "
      ],
      "execution_count": 13,
      "outputs": []
    },
    {
      "cell_type": "code",
      "metadata": {
        "id": "M5pRFJsb4_gg"
      },
      "source": [
        "load_model_cnn = tf.keras.models.load_model('cnn_model.h5')\n"
      ],
      "execution_count": 14,
      "outputs": []
    },
    {
      "cell_type": "code",
      "metadata": {
        "id": "harxUb_H5XWk"
      },
      "source": [
        "\n",
        "from cleverhans.tf2.attacks.projected_gradient_descent import projected_gradient_descent\n",
        "from cleverhans.tf2.attacks.fast_gradient_method import fast_gradient_method"
      ],
      "execution_count": 15,
      "outputs": []
    },
    {
      "cell_type": "code",
      "metadata": {
        "colab": {
          "base_uri": "https://localhost:8080/",
          "height": 301
        },
        "id": "jA6Ntk20qTgn",
        "outputId": "5573843f-44d5-43d1-90dd-a10884962888"
      },
      "source": [
        "from keras.preprocessing.image import img_to_array\n",
        "image_index = 7\n",
        "image  = X_test[image_index]\n",
        "image = img_to_array(image)\n",
        "image = image.reshape(1, 32, 32, 3)\n",
        "plt.imshow(image.reshape((32, 32 , 3)))"
      ],
      "execution_count": 93,
      "outputs": [
        {
          "output_type": "stream",
          "name": "stderr",
          "text": [
            "Clipping input data to the valid range for imshow with RGB data ([0..1] for floats or [0..255] for integers).\n"
          ]
        },
        {
          "output_type": "execute_result",
          "data": {
            "text/plain": [
              "<matplotlib.image.AxesImage at 0x7fd8ace0fb90>"
            ]
          },
          "metadata": {},
          "execution_count": 93
        },
        {
          "output_type": "display_data",
          "data": {
            "image/png": "[encoded data removed]",
            "text/plain": [
              "<Figure size 432x288 with 1 Axes>"
            ]
          },
          "metadata": {
            "needs_background": "light"
          }
        }
      ]
    },
    {
      "cell_type": "code",
      "metadata": {
        "id": "7mu0CxLSeuIC"
      },
      "source": [
        "def make_predictions(model , label_array , image , image_index=1):\n",
        "  prediction  = model.predict(image)[0]\n",
        "  max_probability = float('-inf')\n",
        "  index = -1\n",
        "  true_label = -1\n",
        "  for i in range(len(prediction)):\n",
        "    if(prediction[i]>max_probability):\n",
        "      max_probability = prediction[i]\n",
        "      index = i\n",
        "    if(y_test[image_index][i]==1):\n",
        "      true_label = i\n",
        "\n",
        "  print('prediction ',label_array[index],' probability ',max_probability)\n",
        "  print('true value ',label_array[true_label])\n",
        "\n",
        "\n",
        "labels = ['airplane','automobile','bird','cat','deer','dog','frog','horse','ship','truck']\n"
      ],
      "execution_count": 94,
      "outputs": []
    },
    {
      "cell_type": "code",
      "metadata": {
        "id": "2NC7qc3Sng-g"
      },
      "source": [
        "def adversarial_pattern(image, label):\n",
        "    image = tf.cast(image, tf.float32)\n",
        "    \n",
        "    with tf.GradientTape() as tape:\n",
        "        tape.watch(image)\n",
        "        prediction = model(image)\n",
        "        loss = tf.keras.losses.MSE(label, prediction)\n",
        "    \n",
        "    gradient = tape.gradient(loss, image)\n",
        "    \n",
        "    signed_grad = tf.sign(gradient)\n",
        "    \n",
        "    return signed_grad"
      ],
      "execution_count": 95,
      "outputs": []
    },
    {
      "cell_type": "code",
      "metadata": {
        "colab": {
          "base_uri": "https://localhost:8080/"
        },
        "id": "mD73on-dz7KK",
        "outputId": "55202d09-a662-4658-f203-fb3e43fc43ce"
      },
      "source": [
        "make_predictions(model , labels , image , image_index)"
      ],
      "execution_count": 96,
      "outputs": [
        {
          "output_type": "stream",
          "name": "stdout",
          "text": [
            "prediction  frog  probability  0.87468857\n",
            "true value  frog\n"
          ]
        }
      ]
    },
    {
      "cell_type": "code",
      "metadata": {
        "colab": {
          "base_uri": "https://localhost:8080/",
          "height": 301
        },
        "id": "3YMCI0n5n2SJ",
        "outputId": "850a02d1-afe5-47ca-814e-fc9567b419d6"
      },
      "source": [
        "perturbations = adversarial_pattern(image, y_test[1]).numpy()\n",
        "adversary_sample = image + perturbations*0.2\n",
        "plt.imshow(adversary_sample.reshape((32, 32 , 3)))"
      ],
      "execution_count": 97,
      "outputs": [
        {
          "output_type": "stream",
          "name": "stderr",
          "text": [
            "Clipping input data to the valid range for imshow with RGB data ([0..1] for floats or [0..255] for integers).\n"
          ]
        },
        {
          "output_type": "execute_result",
          "data": {
            "text/plain": [
              "<matplotlib.image.AxesImage at 0x7fd8acda5fd0>"
            ]
          },
          "metadata": {},
          "execution_count": 97
        },
        {
          "output_type": "display_data",
          "data": {
            "image/png": "[encoded data removed]",
            "text/plain": [
              "<Figure size 432x288 with 1 Axes>"
            ]
          },
          "metadata": {
            "needs_background": "light"
          }
        }
      ]
    },
    {
      "cell_type": "code",
      "metadata": {
        "colab": {
          "base_uri": "https://localhost:8080/"
        },
        "id": "e7UkTMSasMhT",
        "outputId": "a7846453-6927-4530-a6ec-037d35315a12"
      },
      "source": [
        "make_predictions(model , labels , adversary_sample.reshape((1, 32, 32, 3)))"
      ],
      "execution_count": 98,
      "outputs": [
        {
          "output_type": "stream",
          "name": "stdout",
          "text": [
            "frog\n",
            "frog\n",
            "prediction  frog  probability  0.95917225\n",
            "true value  ship\n"
          ]
        }
      ]
    },
    {
      "cell_type": "code",
      "metadata": {
        "id": "ipVkHlg5yVde"
      },
      "source": [
        "\n"
      ],
      "execution_count": null,
      "outputs": []
    },
    {
      "cell_type": "code",
      "metadata": {
        "id": "ft7PyESazG0f"
      },
      "source": [
        ""
      ],
      "execution_count": null,
      "outputs": []
    }
  ]
}