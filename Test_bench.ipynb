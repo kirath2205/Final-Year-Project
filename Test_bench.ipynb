{
  "nbformat": 4,
  "nbformat_minor": 0,
  "metadata": {
    "accelerator": "GPU",
    "colab": {
      "name": "Test_bench.ipynb",
      "provenance": [],
      "authorship_tag": "ABX9TyOwEU6qpEH5tmBfXgHH7T0o",
      "include_colab_link": true
    },
    "kernelspec": {
      "display_name": "Python 3",
      "name": "python3"
    },
    "language_info": {
      "name": "python"
    }
  },
  "cells": [
    {
      "cell_type": "markdown",
      "metadata": {
        "id": "view-in-github",
        "colab_type": "text"
      },
      "source": [
        "<a href=\"https://colab.research.google.com/github/kirath2205/Final-Year-Project/blob/Test_bench/Test_bench.ipynb\" target=\"_parent\"><img src=\"https://colab.research.google.com/assets/colab-badge.svg\" alt=\"Open In Colab\"/></a>"
      ]
    },
    {
      "cell_type": "code",
      "metadata": {
        "id": "dcyH2uCmqDOG"
      },
      "source": [
        "import keras,os\n",
        "import tensorflow as tf\n",
        "from keras.models import Sequential,Model\n",
        "from keras.layers import Input, Add, Dense, Activation, ZeroPadding2D, BatchNormalization, Flatten, Conv2D, AveragePooling2D, MaxPooling2D , Dropout\n",
        "import numpy as np\n",
        "from tensorflow import keras\n",
        "from keras.initializers import glorot_uniform\n",
        "from keras import applications\n",
        "from tensorflow.keras.applications.resnet50 import ResNet50 , preprocess_input\n",
        "from keras import regularizers\n"
      ],
      "execution_count": 1,
      "outputs": []
    },
    {
      "cell_type": "code",
      "metadata": {
        "colab": {
          "base_uri": "https://localhost:8080/"
        },
        "id": "vlBqJ6SIkZ0u",
        "outputId": "613cd37d-7b69-449c-a5ba-0f8942a07b7d"
      },
      "source": [
        "!pip install Keras-applications\n"
      ],
      "execution_count": 2,
      "outputs": [
        {
          "output_type": "stream",
          "name": "stdout",
          "text": [
            "Requirement already satisfied: Keras-applications in /usr/local/lib/python3.7/dist-packages (1.0.8)\n",
            "Requirement already satisfied: h5py in /usr/local/lib/python3.7/dist-packages (from Keras-applications) (3.1.0)\n",
            "Requirement already satisfied: numpy>=1.9.1 in /usr/local/lib/python3.7/dist-packages (from Keras-applications) (1.19.5)\n",
            "Requirement already satisfied: cached-property in /usr/local/lib/python3.7/dist-packages (from h5py->Keras-applications) (1.5.2)\n"
          ]
        }
      ]
    },
    {
      "cell_type": "code",
      "metadata": {
        "id": "uVVahuJ1t7HD"
      },
      "source": [
        "def select_dataset(index):\n",
        "\n",
        "  if(index==1):\n",
        "    fashion_mnist = tf.keras.datasets.fashion_mnist.load_data()\n",
        "    (X_train, y_train), (X_test, y_test) = fashion_mnist\n",
        "\n",
        "  elif(index==2):\n",
        "    cifar_10 = tf.keras.datasets.cifar10.load_data()\n",
        "    (X_train, y_train), (X_test, y_test) = cifar_10\n",
        "  \n",
        "  elif(index==3):\n",
        "    cifar_100 = tf.keras.datasets.cifar100.load_data()\n",
        "    (X_train, y_train), (X_test, y_test) = cifar_100\n",
        "    print(len(X_train))\n",
        "\n",
        "    \n",
        "  return X_train,y_train,X_test,y_test"
      ],
      "execution_count": 3,
      "outputs": []
    },
    {
      "cell_type": "code",
      "metadata": {
        "id": "iQV52_6GvrRS"
      },
      "source": [
        "def pre_processing_fashion_mnist(X_train,y_train,X_test,y_test,image_channel):\n",
        "  img_width = X_train.shape[1]\n",
        "  img_height = X_train.shape[2]\n",
        "  input_shape = (img_width, img_height, image_channel)\n",
        "  \n",
        "  # normalize data\n",
        "  X_train, X_test = X_train / 255, X_test / 255\n",
        "\n",
        "  # reshape input \n",
        "  X_train = X_train.reshape(X_train.shape[0], *input_shape)\n",
        "  X_test = X_test.reshape(X_test.shape[0], *input_shape)\n",
        "\n",
        "  # one-hot\n",
        "  y_train = tf.keras.utils.to_categorical(y_train)\n",
        "  y_test = tf.keras.utils.to_categorical(y_test)\n",
        "\n",
        "  return X_train,y_train,X_test,y_test,input_shape\n",
        "\n",
        "def pre_processing_cifar10(X_train,y_train,X_test,y_test,image_channel):\n",
        "  X_train = X_train.astype('float32')\n",
        "  X_test = X_test.astype('float32')\n",
        "\n",
        "  y_train = keras.utils.to_categorical(y_train)\n",
        "  y_test = keras.utils.to_categorical(y_test)\n",
        "\n",
        "  img_width = X_train[0].shape[0]\n",
        "  img_height = X_train[0].shape[1]\n",
        "  image_channel = image_channel\n",
        "\n",
        "  input_shape=(img_width,img_height,image_channel) \n",
        "  print(input_shape)\n",
        "  return X_train,y_train,X_test,y_test,input_shape\n",
        "  \n",
        "def pre_processing_cifar100(X_train,y_train,X_test,y_test,image_channel):\n",
        "  X_train = X_train.astype('float32')\n",
        "  X_test = X_test.astype('float32')\n",
        "  X_train = preprocess_input(X_train)\n",
        "  X_test = preprocess_input(X_test)\n",
        "\n",
        "  y_train = keras.utils.to_categorical(y_train)\n",
        "  y_test = keras.utils.to_categorical(y_test)\n",
        "\n",
        "  img_width = X_train[0].shape[0]\n",
        "  img_height = X_train[0].shape[1]\n",
        "  image_channel = image_channel\n",
        "\n",
        "  input_shape=(img_width,img_height,image_channel) \n",
        "  print(input_shape)\n",
        "  return X_train,y_train,X_test,y_test,input_shape"
      ],
      "execution_count": 4,
      "outputs": []
    },
    {
      "cell_type": "code",
      "metadata": {
        "id": "cDvpMVLzu3if"
      },
      "source": [
        "def define_model_vgg16(image_shape,total_classes):\n",
        "\n",
        "  model = Sequential()\n",
        "  weight_decay = 0.0005\n",
        "  learning_rate = 0.1\n",
        "  lr_decay = 1e-6\n",
        "  lr_drop = 20\n",
        "  model.add(Conv2D(64, (3, 3), padding='same',\n",
        "                 input_shape=image_shape,kernel_regularizer=regularizers.l2(weight_decay)))\n",
        "  model.add(Activation('relu'))\n",
        "  model.add(BatchNormalization())\n",
        "  model.add(Dropout(0.3))\n",
        "\n",
        "  model.add(Conv2D(64, (3, 3), padding='same',kernel_regularizer=regularizers.l2(weight_decay)))\n",
        "  model.add(Activation('relu'))\n",
        "  model.add(BatchNormalization())\n",
        "\n",
        "  model.add(MaxPooling2D(pool_size=(2, 2)))\n",
        "\n",
        "  model.add(Conv2D(128, (3, 3), padding='same',kernel_regularizer=regularizers.l2(weight_decay)))\n",
        "  model.add(Activation('relu'))\n",
        "  model.add(BatchNormalization())\n",
        "  model.add(Dropout(0.4))\n",
        "\n",
        "  model.add(Conv2D(128, (3, 3), padding='same',kernel_regularizer=regularizers.l2(weight_decay)))\n",
        "  model.add(Activation('relu'))\n",
        "  model.add(BatchNormalization())\n",
        "\n",
        "  model.add(MaxPooling2D(pool_size=(2, 2)))\n",
        "\n",
        "  model.add(Conv2D(256, (3, 3), padding='same',kernel_regularizer=regularizers.l2(weight_decay)))\n",
        "  model.add(Activation('relu'))\n",
        "  model.add(BatchNormalization())\n",
        "  model.add(Dropout(0.4))\n",
        "\n",
        "  model.add(Conv2D(256, (3, 3), padding='same',kernel_regularizer=regularizers.l2(weight_decay)))\n",
        "  model.add(Activation('relu'))\n",
        "  model.add(BatchNormalization())\n",
        "  model.add(Dropout(0.4))\n",
        "\n",
        "  model.add(Conv2D(256, (3, 3), padding='same',kernel_regularizer=regularizers.l2(weight_decay)))\n",
        "  model.add(Activation('relu'))\n",
        "  model.add(BatchNormalization())\n",
        "\n",
        "  model.add(MaxPooling2D(pool_size=(2, 2)))\n",
        "\n",
        "  model.add(Conv2D(512, (3, 3), padding='same',kernel_regularizer=regularizers.l2(weight_decay)))\n",
        "  model.add(Activation('relu'))\n",
        "  model.add(BatchNormalization())\n",
        "  model.add(Dropout(0.4))\n",
        "\n",
        "  model.add(Conv2D(512, (3, 3), padding='same',kernel_regularizer=regularizers.l2(weight_decay)))\n",
        "  model.add(Activation('relu'))\n",
        "  model.add(BatchNormalization())\n",
        "  model.add(Dropout(0.4))\n",
        "\n",
        "  model.add(Conv2D(512, (3, 3), padding='same',kernel_regularizer=regularizers.l2(weight_decay)))\n",
        "  model.add(Activation('relu'))\n",
        "  model.add(BatchNormalization())\n",
        "\n",
        "  model.add(MaxPooling2D(pool_size=(2, 2)))\n",
        "\n",
        "  model.add(Conv2D(512, (3, 3), padding='same',kernel_regularizer=regularizers.l2(weight_decay)))\n",
        "  model.add(Activation('relu'))\n",
        "  model.add(BatchNormalization())\n",
        "  model.add(Dropout(0.4))\n",
        "\n",
        "  model.add(Conv2D(512, (3, 3), padding='same',kernel_regularizer=regularizers.l2(weight_decay)))\n",
        "  model.add(Activation('relu'))\n",
        "  model.add(BatchNormalization())\n",
        "  model.add(Dropout(0.4))\n",
        "\n",
        "  model.add(Conv2D(512, (3, 3), padding='same',kernel_regularizer=regularizers.l2(weight_decay)))\n",
        "  model.add(Activation('relu'))\n",
        "  model.add(BatchNormalization())\n",
        "\n",
        "  model.add(MaxPooling2D(pool_size=(2, 2)))\n",
        "  model.add(Dropout(0.5))\n",
        "\n",
        "  model.add(Flatten())\n",
        "  model.add(Dense(512,kernel_regularizer=regularizers.l2(weight_decay)))\n",
        "  model.add(Activation('relu'))\n",
        "  model.add(BatchNormalization())\n",
        "\n",
        "  model.add(Dropout(0.5))\n",
        "  model.add(Dense(total_classes))\n",
        "  model.add(Activation('softmax'))\n",
        "  sgd = keras.optimizers.SGD(lr=learning_rate, decay=lr_decay, momentum=0.9, nesterov=True)\n",
        "  model.compile(optimizer=sgd, loss=keras.losses.categorical_crossentropy, metrics=['accuracy'])\n",
        "  \n",
        "  return model\n",
        "\n",
        "def define_model_standard_cnn(image_shape,total_classes):\n",
        "  initializer = tf.keras.initializers.HeUniform()\n",
        "  model = Sequential()\n",
        "  model.add(Conv2D(32,(3,3), activation = 'relu',  padding = 'same', input_shape = image_shape))\n",
        "  model.add(Conv2D(32,(3,3), activation = 'relu',  padding = 'same'))\n",
        "  model.add(MaxPooling2D((2,2)))\n",
        "  model.add(Dropout(0.2))  \n",
        "  model.add(Conv2D(64,(3,3), activation = 'relu',  padding = 'same'))\n",
        "  model.add(Conv2D(64,(3,3), activation = 'relu',  padding = 'same'))\n",
        "  model.add(MaxPooling2D((2,2)))\n",
        "  model.add(Dropout(0.2))\n",
        "  model.add(Conv2D(128,(3,3), activation = 'relu',  padding = 'same'))\n",
        "  model.add(Conv2D(128,(3,3), activation = 'relu',  padding = 'same'))\n",
        "  model.add(MaxPooling2D((2,2)))\n",
        "  model.add(Dropout(0.2))\n",
        "  model.add(Flatten())\n",
        "  model.add(Dense(128, activation = 'relu'))\n",
        "  model.add(Dense(total_classes, activation = 'softmax'))\n",
        "  opt = keras.optimizers.SGD(learning_rate=0.001 , momentum=0.9)\n",
        "  model.compile(optimizer=opt,loss=keras.losses.categorical_crossentropy,metrics=['accuracy'])\n",
        "  return model\n",
        "\n"
      ],
      "execution_count": 5,
      "outputs": []
    },
    {
      "cell_type": "code",
      "metadata": {
        "id": "89MAaxp2hqAR"
      },
      "source": [
        "def identity_block(x, filter):\n",
        "    # copy tensor to variable called x_skip\n",
        "    x_skip = x\n",
        "    # Layer 1\n",
        "    x = tf.keras.layers.Conv2D(filter, (3,3), padding = 'same')(x)\n",
        "    x = tf.keras.layers.BatchNormalization(axis=3)(x)\n",
        "    x = tf.keras.layers.Activation('relu')(x)\n",
        "    # Layer 2\n",
        "    x = tf.keras.layers.Conv2D(filter, (3,3), padding = 'same')(x)\n",
        "    x = tf.keras.layers.BatchNormalization(axis=3)(x)\n",
        "    # Add Residue\n",
        "    x = tf.keras.layers.Add()([x, x_skip])     \n",
        "    x = tf.keras.layers.Activation('relu')(x)\n",
        "    return x\n",
        "\n",
        "def convolutional_block(x, filter):\n",
        "    # copy tensor to variable called x_skip\n",
        "    x_skip = x\n",
        "    # Layer 1\n",
        "    x = tf.keras.layers.Conv2D(filter, (3,3), padding = 'same', strides = (2,2))(x)\n",
        "    x = tf.keras.layers.BatchNormalization(axis=3)(x)\n",
        "    x = tf.keras.layers.Activation('relu')(x)\n",
        "    # Layer 2\n",
        "    x = tf.keras.layers.Conv2D(filter, (3,3), padding = 'same')(x)\n",
        "    x = tf.keras.layers.BatchNormalization(axis=3)(x)\n",
        "    # Processing Residue with conv(1,1)\n",
        "    x_skip = tf.keras.layers.Conv2D(filter, (1,1), strides = (2,2))(x_skip)\n",
        "    # Add Residue\n",
        "    x = tf.keras.layers.Add()([x, x_skip])     \n",
        "    x = tf.keras.layers.Activation('relu')(x)\n",
        "    return x\n",
        "\n",
        "def ResNet34(shape, classes):\n",
        "    # Step 1 (Setup Input Layer)\n",
        "    x_input = tf.keras.layers.Input(shape)\n",
        "    x = tf.keras.layers.ZeroPadding2D((3, 3))(x_input)\n",
        "    # Step 2 (Initial Conv layer along with maxPool)\n",
        "    x = tf.keras.layers.Conv2D(64, kernel_size=7, strides=2, padding='same')(x)\n",
        "    x = tf.keras.layers.BatchNormalization()(x)\n",
        "    x = tf.keras.layers.Activation('relu')(x)\n",
        "    x = tf.keras.layers.MaxPool2D(pool_size=3, strides=2, padding='same')(x)\n",
        "    # Define size of sub-blocks and initial filter size\n",
        "    block_layers = [3, 4, 6, 3]\n",
        "    filter_size = 64\n",
        "    # Step 3 Add the Resnet Blocks\n",
        "    for i in range(4):\n",
        "        if i == 0:\n",
        "            # For sub-block 1 Residual/Convolutional block not needed\n",
        "            for j in range(block_layers[i]):\n",
        "                x = identity_block(x, filter_size)\n",
        "        else:\n",
        "            # One Residual/Convolutional Block followed by Identity blocks\n",
        "            # The filter size will go on increasing by a factor of 2\n",
        "            filter_size = filter_size*2\n",
        "            x = convolutional_block(x, filter_size)\n",
        "            for j in range(block_layers[i] - 1):\n",
        "                x = identity_block(x, filter_size)\n",
        "    # Step 4 End Dense Network\n",
        "    x = tf.keras.layers.AveragePooling2D((2,2), padding = 'same')(x)\n",
        "    x = tf.keras.layers.Flatten()(x)\n",
        "    x = tf.keras.layers.Dense(512, activation = 'relu')(x)\n",
        "    x = tf.keras.layers.Dense(classes, activation = 'softmax')(x)\n",
        "    model = tf.keras.models.Model(inputs = x_input, outputs = x, name = \"ResNet34\")\n",
        "    model.compile(optimizer='adam', loss='categorical_crossentropy', metrics=['accuracy'])\n",
        "    return model"
      ],
      "execution_count": 6,
      "outputs": []
    },
    {
      "cell_type": "code",
      "metadata": {
        "id": "zaRAX4NsO-qR"
      },
      "source": [
        ""
      ],
      "execution_count": 6,
      "outputs": []
    },
    {
      "cell_type": "code",
      "metadata": {
        "id": "Jgsl1X29yf2k"
      },
      "source": [
        "from keras.callbacks import ModelCheckpoint, EarlyStopping\n",
        "def train_model_vgg16(X_train,y_train,X_test,y_test,epochs=10,batch_size=128):\n",
        "  \n",
        "  callbacks = [ \n",
        "    tf.keras.callbacks.ModelCheckpoint('best_model_vgg16', monitor='val_accuracy', verbose=1, save_best_only=True),\n",
        "    tf.keras.callbacks.ReduceLROnPlateau( factor = 0.1, patience = 3, min_lr = 0.00001, verbose = 1 ),\n",
        "    tf.keras.callbacks.EarlyStopping(monitor = 'val_loss' , patience = 10)\n",
        "  ]\n",
        "  history=model.fit(X_train, y_train, epochs = epochs, batch_size = batch_size,callbacks = callbacks, verbose = 1,validation_data=(X_test,y_test))\n",
        "  return history\n",
        "\n",
        "def train_model_standard_cnn(X_train,y_train,X_test,y_test,epochs=10,batch_size=64):\n",
        "  callbacks = [ \n",
        "    tf.keras.callbacks.ModelCheckpoint('best_model_standard_cnn', monitor='val_accuracy', verbose=1, save_best_only=True),\n",
        "    tf.keras.callbacks.ReduceLROnPlateau( factor = 0.1, patience = 3, min_lr = 0.00001, verbose = 1 ),\n",
        "    tf.keras.callbacks.EarlyStopping(monitor = 'val_loss' , patience = 10)\n",
        "  ]\n",
        "  history=model.fit(X_train , y_train , epochs = epochs , validation_data=(X_test,y_test),batch_size=batch_size , callbacks = callbacks)\n",
        "  return history\n",
        "\n",
        "\n",
        "def train_model_resnet34(X_train,y_train,X_test,y_test,epochs=10):\n",
        "  callbacks = [ \n",
        "    tf.keras.callbacks.ModelCheckpoint('best_model_resnet50', monitor='val_accuracy', verbose=1, save_best_only=True),\n",
        "    tf.keras.callbacks.ReduceLROnPlateau( factor = 0.1, patience = 3, min_lr = 0.00001, verbose = 1 ),\n",
        "    tf.keras.callbacks.EarlyStopping(monitor = 'val_loss' , patience = 10)\n",
        "  ]\n",
        "  history=model.fit(X_train , y_train , epochs = epochs , validation_data=(X_test,y_test),batch_size= 64 , callbacks = callbacks)\n",
        "  return history"
      ],
      "execution_count": 8,
      "outputs": []
    },
    {
      "cell_type": "code",
      "metadata": {
        "id": "WeJvjs7VO9-u"
      },
      "source": [
        ""
      ],
      "execution_count": 8,
      "outputs": []
    },
    {
      "cell_type": "code",
      "metadata": {
        "id": "P6AWutrFy4V8"
      },
      "source": [
        "def make_prediction(model,X_test,index):\n",
        "\n",
        "  return model.predict(X_test(index))\n"
      ],
      "execution_count": 9,
      "outputs": []
    },
    {
      "cell_type": "code",
      "metadata": {
        "id": "0UiQLmEn1vuV",
        "colab": {
          "base_uri": "https://localhost:8080/",
          "height": 1000
        },
        "outputId": "d6c0795e-064f-473b-82bf-57a2597f2bfb"
      },
      "source": [
        "\n",
        "'''X_train,y_train,X_test,y_test=select_dataset(1)\n",
        "X_train,y_train,X_test,y_test,image_shape=pre_processing_fashion_mnist(X_train,y_train,X_test,y_test,1)\n",
        "model=define_model(image_shape,10)\n",
        "train_model(X_train,y_train,X_test,y_test)'''\n",
        "\n",
        "X_train,y_train,X_test,y_test=select_dataset(2)\n",
        "X_train,y_train,X_test,y_test,image_shape=pre_processing_cifar10(X_train,y_train,X_test,y_test,3)\n",
        "model=define_model_standard_cnn(image_shape,10)\n",
        "history = train_model_standard_cnn(X_train,y_train,X_test,y_test,epochs=50)\n",
        "\n",
        "'''X_train,y_train,X_test,y_test=select_dataset(2)\n",
        "X_train,y_train,X_test,y_test,image_shape=pre_processing_cifar100(X_train,y_train,X_test,y_test,3)\n",
        "model=Resnet50(image_shape,10)\n",
        "history=train_model_resnet50(X_train,y_train,X_test,y_test,epochs=100)'''\n",
        "\n",
        "'''X_train,y_train,X_test,y_test=select_dataset(3)\n",
        "X_train,y_train,X_test,y_test,image_shape=pre_processing_cifar100(X_train,y_train,X_test,y_test,3)\n",
        "model=ResNet34(image_shape,100)\n",
        "history=train_model_resnet34(X_train,y_train,X_test,y_test,epochs=100)'''"
      ],
      "execution_count": 10,
      "outputs": [
        {
          "output_type": "stream",
          "name": "stdout",
          "text": [
            "(32, 32, 3)\n",
            "Epoch 1/50\n",
            "782/782 [==============================] - 19s 22ms/step - loss: 2.2002 - accuracy: 0.2010 - val_loss: 1.9072 - val_accuracy: 0.2995\n",
            "\n",
            "Epoch 00001: val_accuracy improved from -inf to 0.29950, saving model to best_model_standard_cnn\n",
            "INFO:tensorflow:Assets written to: best_model_standard_cnn/assets\n",
            "Epoch 2/50\n",
            "782/782 [==============================] - 17s 21ms/step - loss: 1.7906 - accuracy: 0.3464 - val_loss: 1.5734 - val_accuracy: 0.4333\n",
            "\n",
            "Epoch 00002: val_accuracy improved from 0.29950 to 0.43330, saving model to best_model_standard_cnn\n",
            "INFO:tensorflow:Assets written to: best_model_standard_cnn/assets\n",
            "Epoch 3/50\n",
            "782/782 [==============================] - 16s 21ms/step - loss: 1.5227 - accuracy: 0.4458 - val_loss: 1.3704 - val_accuracy: 0.5072\n",
            "\n",
            "Epoch 00003: val_accuracy improved from 0.43330 to 0.50720, saving model to best_model_standard_cnn\n",
            "INFO:tensorflow:Assets written to: best_model_standard_cnn/assets\n",
            "Epoch 4/50\n",
            "782/782 [==============================] - 16s 21ms/step - loss: 1.3715 - accuracy: 0.5078 - val_loss: 1.2473 - val_accuracy: 0.5630\n",
            "\n",
            "Epoch 00004: val_accuracy improved from 0.50720 to 0.56300, saving model to best_model_standard_cnn\n",
            "INFO:tensorflow:Assets written to: best_model_standard_cnn/assets\n",
            "Epoch 5/50\n",
            "782/782 [==============================] - 16s 21ms/step - loss: 1.2669 - accuracy: 0.5486 - val_loss: 1.1403 - val_accuracy: 0.6029\n",
            "\n",
            "Epoch 00005: val_accuracy improved from 0.56300 to 0.60290, saving model to best_model_standard_cnn\n",
            "INFO:tensorflow:Assets written to: best_model_standard_cnn/assets\n",
            "Epoch 6/50\n",
            "782/782 [==============================] - 16s 21ms/step - loss: 1.1746 - accuracy: 0.5821 - val_loss: 1.1398 - val_accuracy: 0.6040\n",
            "\n",
            "Epoch 00006: val_accuracy improved from 0.60290 to 0.60400, saving model to best_model_standard_cnn\n",
            "INFO:tensorflow:Assets written to: best_model_standard_cnn/assets\n",
            "Epoch 7/50\n",
            "782/782 [==============================] - 16s 21ms/step - loss: 1.1007 - accuracy: 0.6112 - val_loss: 1.1491 - val_accuracy: 0.5963\n",
            "\n",
            "Epoch 00007: val_accuracy did not improve from 0.60400\n",
            "Epoch 8/50\n",
            "782/782 [==============================] - 16s 21ms/step - loss: 1.0447 - accuracy: 0.6332 - val_loss: 0.9834 - val_accuracy: 0.6586\n",
            "\n",
            "Epoch 00008: val_accuracy improved from 0.60400 to 0.65860, saving model to best_model_standard_cnn\n",
            "INFO:tensorflow:Assets written to: best_model_standard_cnn/assets\n",
            "Epoch 9/50\n",
            "782/782 [==============================] - 17s 21ms/step - loss: 0.9906 - accuracy: 0.6520 - val_loss: 0.9627 - val_accuracy: 0.6652\n",
            "\n",
            "Epoch 00009: val_accuracy improved from 0.65860 to 0.66520, saving model to best_model_standard_cnn\n",
            "INFO:tensorflow:Assets written to: best_model_standard_cnn/assets\n",
            "Epoch 10/50\n",
            "782/782 [==============================] - 16s 21ms/step - loss: 0.9447 - accuracy: 0.6675 - val_loss: 0.9017 - val_accuracy: 0.6823\n",
            "\n",
            "Epoch 00010: val_accuracy improved from 0.66520 to 0.68230, saving model to best_model_standard_cnn\n",
            "INFO:tensorflow:Assets written to: best_model_standard_cnn/assets\n",
            "Epoch 11/50\n",
            "782/782 [==============================] - 16s 21ms/step - loss: 0.8949 - accuracy: 0.6858 - val_loss: 0.8441 - val_accuracy: 0.7074\n",
            "\n",
            "Epoch 00011: val_accuracy improved from 0.68230 to 0.70740, saving model to best_model_standard_cnn\n",
            "INFO:tensorflow:Assets written to: best_model_standard_cnn/assets\n",
            "Epoch 12/50\n",
            "782/782 [==============================] - 17s 21ms/step - loss: 0.8665 - accuracy: 0.6958 - val_loss: 0.9341 - val_accuracy: 0.6858\n",
            "\n",
            "Epoch 00012: val_accuracy did not improve from 0.70740\n",
            "Epoch 13/50\n",
            "782/782 [==============================] - 16s 21ms/step - loss: 0.8376 - accuracy: 0.7093 - val_loss: 0.8056 - val_accuracy: 0.7222\n",
            "\n",
            "Epoch 00013: val_accuracy improved from 0.70740 to 0.72220, saving model to best_model_standard_cnn\n",
            "INFO:tensorflow:Assets written to: best_model_standard_cnn/assets\n",
            "Epoch 14/50\n",
            "782/782 [==============================] - 16s 21ms/step - loss: 0.8038 - accuracy: 0.7191 - val_loss: 0.8318 - val_accuracy: 0.7158\n",
            "\n",
            "Epoch 00014: val_accuracy did not improve from 0.72220\n",
            "Epoch 15/50\n",
            "782/782 [==============================] - 16s 21ms/step - loss: 0.7744 - accuracy: 0.7295 - val_loss: 0.8032 - val_accuracy: 0.7195\n",
            "\n",
            "Epoch 00015: val_accuracy did not improve from 0.72220\n",
            "Epoch 16/50\n",
            "782/782 [==============================] - 17s 21ms/step - loss: 0.7567 - accuracy: 0.7330 - val_loss: 0.7980 - val_accuracy: 0.7236\n",
            "\n",
            "Epoch 00016: val_accuracy improved from 0.72220 to 0.72360, saving model to best_model_standard_cnn\n",
            "INFO:tensorflow:Assets written to: best_model_standard_cnn/assets\n",
            "Epoch 17/50\n",
            "782/782 [==============================] - 16s 21ms/step - loss: 0.7290 - accuracy: 0.7457 - val_loss: 0.7907 - val_accuracy: 0.7266\n",
            "\n",
            "Epoch 00017: val_accuracy improved from 0.72360 to 0.72660, saving model to best_model_standard_cnn\n",
            "INFO:tensorflow:Assets written to: best_model_standard_cnn/assets\n",
            "Epoch 18/50\n",
            "782/782 [==============================] - 16s 21ms/step - loss: 0.7058 - accuracy: 0.7537 - val_loss: 0.7279 - val_accuracy: 0.7556\n",
            "\n",
            "Epoch 00018: val_accuracy improved from 0.72660 to 0.75560, saving model to best_model_standard_cnn\n",
            "INFO:tensorflow:Assets written to: best_model_standard_cnn/assets\n",
            "Epoch 19/50\n",
            "782/782 [==============================] - 17s 21ms/step - loss: 0.6888 - accuracy: 0.7572 - val_loss: 0.7238 - val_accuracy: 0.7579\n",
            "\n",
            "Epoch 00019: val_accuracy improved from 0.75560 to 0.75790, saving model to best_model_standard_cnn\n",
            "INFO:tensorflow:Assets written to: best_model_standard_cnn/assets\n",
            "Epoch 20/50\n",
            "782/782 [==============================] - 16s 21ms/step - loss: 0.6685 - accuracy: 0.7651 - val_loss: 0.7403 - val_accuracy: 0.7535\n",
            "\n",
            "Epoch 00020: val_accuracy did not improve from 0.75790\n",
            "Epoch 21/50\n",
            "782/782 [==============================] - 16s 21ms/step - loss: 0.6555 - accuracy: 0.7716 - val_loss: 0.6896 - val_accuracy: 0.7656\n",
            "\n",
            "Epoch 00021: val_accuracy improved from 0.75790 to 0.76560, saving model to best_model_standard_cnn\n",
            "INFO:tensorflow:Assets written to: best_model_standard_cnn/assets\n",
            "Epoch 22/50\n",
            "782/782 [==============================] - 17s 21ms/step - loss: 0.6328 - accuracy: 0.7777 - val_loss: 0.6930 - val_accuracy: 0.7678\n",
            "\n",
            "Epoch 00022: val_accuracy improved from 0.76560 to 0.76780, saving model to best_model_standard_cnn\n",
            "INFO:tensorflow:Assets written to: best_model_standard_cnn/assets\n",
            "Epoch 23/50\n",
            "782/782 [==============================] - 16s 21ms/step - loss: 0.6204 - accuracy: 0.7831 - val_loss: 0.6860 - val_accuracy: 0.7673\n",
            "\n",
            "Epoch 00023: val_accuracy did not improve from 0.76780\n",
            "Epoch 24/50\n",
            "782/782 [==============================] - 17s 21ms/step - loss: 0.6016 - accuracy: 0.7900 - val_loss: 0.6850 - val_accuracy: 0.7750\n",
            "\n",
            "Epoch 00024: val_accuracy improved from 0.76780 to 0.77500, saving model to best_model_standard_cnn\n",
            "INFO:tensorflow:Assets written to: best_model_standard_cnn/assets\n",
            "Epoch 25/50\n",
            "782/782 [==============================] - 16s 21ms/step - loss: 0.5897 - accuracy: 0.7936 - val_loss: 0.6919 - val_accuracy: 0.7704\n",
            "\n",
            "Epoch 00025: val_accuracy did not improve from 0.77500\n",
            "Epoch 26/50\n",
            "782/782 [==============================] - 17s 21ms/step - loss: 0.5757 - accuracy: 0.7969 - val_loss: 0.6800 - val_accuracy: 0.7727\n",
            "\n",
            "Epoch 00026: val_accuracy did not improve from 0.77500\n",
            "Epoch 27/50\n",
            "782/782 [==============================] - 17s 21ms/step - loss: 0.5637 - accuracy: 0.8035 - val_loss: 0.6701 - val_accuracy: 0.7761\n",
            "\n",
            "Epoch 00027: val_accuracy improved from 0.77500 to 0.77610, saving model to best_model_standard_cnn\n",
            "INFO:tensorflow:Assets written to: best_model_standard_cnn/assets\n",
            "Epoch 28/50\n",
            "782/782 [==============================] - 17s 21ms/step - loss: 0.5499 - accuracy: 0.8087 - val_loss: 0.6912 - val_accuracy: 0.7709\n",
            "\n",
            "Epoch 00028: val_accuracy did not improve from 0.77610\n",
            "Epoch 29/50\n",
            "782/782 [==============================] - 17s 21ms/step - loss: 0.5404 - accuracy: 0.8107 - val_loss: 0.6772 - val_accuracy: 0.7799\n",
            "\n",
            "Epoch 00029: val_accuracy improved from 0.77610 to 0.77990, saving model to best_model_standard_cnn\n",
            "INFO:tensorflow:Assets written to: best_model_standard_cnn/assets\n",
            "Epoch 30/50\n",
            "782/782 [==============================] - 17s 21ms/step - loss: 0.5327 - accuracy: 0.8127 - val_loss: 0.6633 - val_accuracy: 0.7874\n",
            "\n",
            "Epoch 00030: val_accuracy improved from 0.77990 to 0.78740, saving model to best_model_standard_cnn\n",
            "INFO:tensorflow:Assets written to: best_model_standard_cnn/assets\n",
            "Epoch 31/50\n",
            "782/782 [==============================] - 17s 21ms/step - loss: 0.5188 - accuracy: 0.8158 - val_loss: 0.6956 - val_accuracy: 0.7768\n",
            "\n",
            "Epoch 00031: val_accuracy did not improve from 0.78740\n",
            "Epoch 32/50\n",
            "782/782 [==============================] - 16s 21ms/step - loss: 0.5085 - accuracy: 0.8211 - val_loss: 0.7341 - val_accuracy: 0.7636\n",
            "\n",
            "Epoch 00032: val_accuracy did not improve from 0.78740\n",
            "Epoch 33/50\n",
            "782/782 [==============================] - 17s 21ms/step - loss: 0.4898 - accuracy: 0.8251 - val_loss: 0.6671 - val_accuracy: 0.7784\n",
            "\n",
            "Epoch 00033: val_accuracy did not improve from 0.78740\n",
            "\n",
            "Epoch 00033: ReduceLROnPlateau reducing learning rate to 0.00010000000474974513.\n",
            "Epoch 34/50\n",
            "782/782 [==============================] - 17s 21ms/step - loss: 0.4189 - accuracy: 0.8507 - val_loss: 0.6394 - val_accuracy: 0.8024\n",
            "\n",
            "Epoch 00034: val_accuracy improved from 0.78740 to 0.80240, saving model to best_model_standard_cnn\n",
            "INFO:tensorflow:Assets written to: best_model_standard_cnn/assets\n",
            "Epoch 35/50\n",
            "782/782 [==============================] - 17s 21ms/step - loss: 0.3948 - accuracy: 0.8602 - val_loss: 0.6429 - val_accuracy: 0.8004\n",
            "\n",
            "Epoch 00035: val_accuracy did not improve from 0.80240\n",
            "Epoch 36/50\n",
            "782/782 [==============================] - 17s 21ms/step - loss: 0.3934 - accuracy: 0.8605 - val_loss: 0.6417 - val_accuracy: 0.8008\n",
            "\n",
            "Epoch 00036: val_accuracy did not improve from 0.80240\n",
            "Epoch 37/50\n",
            "782/782 [==============================] - 17s 21ms/step - loss: 0.3870 - accuracy: 0.8613 - val_loss: 0.6430 - val_accuracy: 0.8008\n",
            "\n",
            "Epoch 00037: val_accuracy did not improve from 0.80240\n",
            "\n",
            "Epoch 00037: ReduceLROnPlateau reducing learning rate to 1.0000000474974514e-05.\n",
            "Epoch 38/50\n",
            "782/782 [==============================] - 17s 21ms/step - loss: 0.3788 - accuracy: 0.8656 - val_loss: 0.6410 - val_accuracy: 0.8018\n",
            "\n",
            "Epoch 00038: val_accuracy did not improve from 0.80240\n",
            "Epoch 39/50\n",
            "782/782 [==============================] - 17s 21ms/step - loss: 0.3775 - accuracy: 0.8641 - val_loss: 0.6406 - val_accuracy: 0.8027\n",
            "\n",
            "Epoch 00039: val_accuracy improved from 0.80240 to 0.80270, saving model to best_model_standard_cnn\n",
            "INFO:tensorflow:Assets written to: best_model_standard_cnn/assets\n",
            "Epoch 40/50\n",
            "782/782 [==============================] - 17s 21ms/step - loss: 0.3744 - accuracy: 0.8659 - val_loss: 0.6398 - val_accuracy: 0.8021\n",
            "\n",
            "Epoch 00040: val_accuracy did not improve from 0.80270\n",
            "\n",
            "Epoch 00040: ReduceLROnPlateau reducing learning rate to 1e-05.\n",
            "Epoch 41/50\n",
            "782/782 [==============================] - 17s 21ms/step - loss: 0.3764 - accuracy: 0.8662 - val_loss: 0.6389 - val_accuracy: 0.8028\n",
            "\n",
            "Epoch 00041: val_accuracy improved from 0.80270 to 0.80280, saving model to best_model_standard_cnn\n",
            "INFO:tensorflow:Assets written to: best_model_standard_cnn/assets\n",
            "Epoch 42/50\n",
            "782/782 [==============================] - 17s 21ms/step - loss: 0.3738 - accuracy: 0.8666 - val_loss: 0.6401 - val_accuracy: 0.8017\n",
            "\n",
            "Epoch 00042: val_accuracy did not improve from 0.80280\n",
            "Epoch 43/50\n",
            "782/782 [==============================] - 17s 22ms/step - loss: 0.3747 - accuracy: 0.8669 - val_loss: 0.6402 - val_accuracy: 0.8028\n",
            "\n",
            "Epoch 00043: val_accuracy did not improve from 0.80280\n",
            "Epoch 44/50\n",
            "782/782 [==============================] - 17s 21ms/step - loss: 0.3698 - accuracy: 0.8688 - val_loss: 0.6416 - val_accuracy: 0.8038\n",
            "\n",
            "Epoch 00044: val_accuracy improved from 0.80280 to 0.80380, saving model to best_model_standard_cnn\n",
            "INFO:tensorflow:Assets written to: best_model_standard_cnn/assets\n",
            "Epoch 45/50\n",
            "782/782 [==============================] - 17s 21ms/step - loss: 0.3663 - accuracy: 0.8701 - val_loss: 0.6410 - val_accuracy: 0.8033\n",
            "\n",
            "Epoch 00045: val_accuracy did not improve from 0.80380\n",
            "Epoch 46/50\n",
            "782/782 [==============================] - 17s 21ms/step - loss: 0.3699 - accuracy: 0.8689 - val_loss: 0.6427 - val_accuracy: 0.8033\n",
            "\n",
            "Epoch 00046: val_accuracy did not improve from 0.80380\n",
            "Epoch 47/50\n",
            "782/782 [==============================] - 17s 21ms/step - loss: 0.3655 - accuracy: 0.8711 - val_loss: 0.6421 - val_accuracy: 0.8023\n",
            "\n",
            "Epoch 00047: val_accuracy did not improve from 0.80380\n",
            "Epoch 48/50\n",
            "782/782 [==============================] - 17s 22ms/step - loss: 0.3707 - accuracy: 0.8682 - val_loss: 0.6433 - val_accuracy: 0.8023\n",
            "\n",
            "Epoch 00048: val_accuracy did not improve from 0.80380\n",
            "Epoch 49/50\n",
            "782/782 [==============================] - 17s 21ms/step - loss: 0.3716 - accuracy: 0.8673 - val_loss: 0.6424 - val_accuracy: 0.8013\n",
            "\n",
            "Epoch 00049: val_accuracy did not improve from 0.80380\n",
            "Epoch 50/50\n",
            "782/782 [==============================] - 17s 21ms/step - loss: 0.3690 - accuracy: 0.8691 - val_loss: 0.6426 - val_accuracy: 0.8024\n",
            "\n",
            "Epoch 00050: val_accuracy did not improve from 0.80380\n"
          ]
        },
        {
          "output_type": "execute_result",
          "data": {
            "application/vnd.google.colaboratory.intrinsic+json": {
              "type": "string"
            },
            "text/plain": [
              "'X_train,y_train,X_test,y_test=select_dataset(3)\\nX_train,y_train,X_test,y_test,image_shape=pre_processing_cifar100(X_train,y_train,X_test,y_test,3)\\nmodel=ResNet34(image_shape,100)\\nhistory=train_model_resnet34(X_train,y_train,X_test,y_test,epochs=100)'"
            ]
          },
          "metadata": {},
          "execution_count": 10
        }
      ]
    },
    {
      "cell_type": "code",
      "metadata": {
        "id": "nByF_LBZLjlT",
        "colab": {
          "base_uri": "https://localhost:8080/",
          "height": 590
        },
        "outputId": "b11616b8-939f-4b3d-eab8-bdd0fde9b80d"
      },
      "source": [
        "import matplotlib.pyplot as plt\n",
        "\n",
        "score = model.evaluate(X_test, y_test, verbose=0)\n",
        "print(f'Test loss: {score[0]} / Test accuracy: {score[1]}')\n",
        "\n",
        "# Visualize history\n",
        "# Plot history: Loss\n",
        "plt.plot(history.history['val_loss'])\n",
        "plt.title('Validation loss history')\n",
        "plt.ylabel('Loss value')\n",
        "plt.xlabel('No. epoch')\n",
        "plt.show()\n",
        "\n",
        "# Plot history: Accuracy\n",
        "plt.plot(history.history['val_accuracy'])\n",
        "plt.title('Validation accuracy history')\n",
        "plt.ylabel('Accuracy value (%)')\n",
        "plt.xlabel('No. epoch')\n",
        "plt.show()"
      ],
      "execution_count": 11,
      "outputs": [
        {
          "output_type": "stream",
          "name": "stdout",
          "text": [
            "Test loss: 0.6426149606704712 / Test accuracy: 0.8023999929428101\n"
          ]
        },
        {
          "output_type": "display_data",
          "data": {
            "image/png": "[encoded data removed]",
            "text/plain": [
              "<Figure size 432x288 with 1 Axes>"
            ]
          },
          "metadata": {
            "needs_background": "light"
          }
        },
        {
          "output_type": "display_data",
          "data": {
            "image/png": "[encoded data removed]",
            "text/plain": [
              "<Figure size 432x288 with 1 Axes>"
            ]
          },
          "metadata": {
            "needs_background": "light"
          }
        }
      ]
    },
    {
      "cell_type": "code",
      "metadata": {
        "id": "VOD9JcqI26C2"
      },
      "source": [
        "!pip freeze > requirements.txt"
      ],
      "execution_count": 12,
      "outputs": []
    },
    {
      "cell_type": "code",
      "metadata": {
        "colab": {
          "base_uri": "https://localhost:8080/"
        },
        "id": "lCv-lOO9FiBM",
        "outputId": "9eed4058-e32f-41e9-fa3a-3aec11d16f65"
      },
      "source": [
        "\n",
        "# Install bleeding edge version of cleverhans\n",
        "!pip install git+https://github.com/tensorflow/cleverhans.git#egg=cleverhans"
      ],
      "execution_count": 13,
      "outputs": [
        {
          "output_type": "stream",
          "name": "stdout",
          "text": [
            "Collecting cleverhans\n",
            "  Cloning https://github.com/tensorflow/cleverhans.git to /tmp/pip-install-i94_t4bd/cleverhans_d34f3861d5154e969a832e649a7423cb\n",
            "  Running command git clone -q https://github.com/tensorflow/cleverhans.git /tmp/pip-install-i94_t4bd/cleverhans_d34f3861d5154e969a832e649a7423cb\n",
            "Requirement already satisfied: nose in /usr/local/lib/python3.7/dist-packages (from cleverhans) (1.3.7)\n",
            "Requirement already satisfied: pycodestyle in /usr/local/lib/python3.7/dist-packages (from cleverhans) (2.8.0)\n",
            "Requirement already satisfied: scipy in /usr/local/lib/python3.7/dist-packages (from cleverhans) (1.4.1)\n",
            "Requirement already satisfied: matplotlib in /usr/local/lib/python3.7/dist-packages (from cleverhans) (3.2.2)\n",
            "Requirement already satisfied: mnist in /usr/local/lib/python3.7/dist-packages (from cleverhans) (0.2.2)\n",
            "Requirement already satisfied: numpy in /usr/local/lib/python3.7/dist-packages (from cleverhans) (1.19.5)\n",
            "Requirement already satisfied: tensorflow-probability in /usr/local/lib/python3.7/dist-packages (from cleverhans) (0.14.1)\n",
            "Requirement already satisfied: joblib in /usr/local/lib/python3.7/dist-packages (from cleverhans) (1.0.1)\n",
            "Requirement already satisfied: easydict in /usr/local/lib/python3.7/dist-packages (from cleverhans) (1.9)\n",
            "Requirement already satisfied: absl-py in /usr/local/lib/python3.7/dist-packages (from cleverhans) (0.12.0)\n",
            "Requirement already satisfied: six in /usr/local/lib/python3.7/dist-packages (from cleverhans) (1.15.0)\n",
            "Requirement already satisfied: python-dateutil>=2.1 in /usr/local/lib/python3.7/dist-packages (from matplotlib->cleverhans) (2.8.2)\n",
            "Requirement already satisfied: kiwisolver>=1.0.1 in /usr/local/lib/python3.7/dist-packages (from matplotlib->cleverhans) (1.3.2)\n",
            "Requirement already satisfied: pyparsing!=2.0.4,!=2.1.2,!=2.1.6,>=2.0.1 in /usr/local/lib/python3.7/dist-packages (from matplotlib->cleverhans) (2.4.7)\n",
            "Requirement already satisfied: cycler>=0.10 in /usr/local/lib/python3.7/dist-packages (from matplotlib->cleverhans) (0.10.0)\n",
            "Requirement already satisfied: gast>=0.3.2 in /usr/local/lib/python3.7/dist-packages (from tensorflow-probability->cleverhans) (0.4.0)\n",
            "Requirement already satisfied: dm-tree in /usr/local/lib/python3.7/dist-packages (from tensorflow-probability->cleverhans) (0.1.6)\n",
            "Requirement already satisfied: decorator in /usr/local/lib/python3.7/dist-packages (from tensorflow-probability->cleverhans) (4.4.2)\n",
            "Requirement already satisfied: cloudpickle>=1.3 in /usr/local/lib/python3.7/dist-packages (from tensorflow-probability->cleverhans) (1.3.0)\n"
          ]
        }
      ]
    },
    {
      "cell_type": "code",
      "metadata": {
        "id": "187nH2VJFjlj"
      },
      "source": [
        "\n",
        "cnn_model = model.load_weights('/content/best_model_standard_cnn')"
      ],
      "execution_count": 14,
      "outputs": []
    },
    {
      "cell_type": "code",
      "metadata": {
        "colab": {
          "base_uri": "https://localhost:8080/"
        },
        "id": "M5pRFJsb4_gg",
        "outputId": "e048d793-a7be-415c-dfe5-eec286d633ac"
      },
      "source": [
        "len(y_test)"
      ],
      "execution_count": 15,
      "outputs": [
        {
          "output_type": "execute_result",
          "data": {
            "text/plain": [
              "10000"
            ]
          },
          "metadata": {},
          "execution_count": 15
        }
      ]
    },
    {
      "cell_type": "code",
      "metadata": {
        "id": "harxUb_H5XWk"
      },
      "source": [
        "\n",
        "from cleverhans.tf2.attacks.projected_gradient_descent import projected_gradient_descent\n",
        "from cleverhans.tf2.attacks.fast_gradient_method import fast_gradient_method"
      ],
      "execution_count": 16,
      "outputs": []
    },
    {
      "cell_type": "code",
      "metadata": {
        "id": "jA6Ntk20qTgn"
      },
      "source": [
        ""
      ],
      "execution_count": 16,
      "outputs": []
    }
  ]
}